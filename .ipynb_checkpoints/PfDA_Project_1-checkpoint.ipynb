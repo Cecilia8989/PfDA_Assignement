{
 "cells": [
  {
   "cell_type": "markdown",
   "metadata": {},
   "source": [
    "<h3><center>Programming for Data Analytics - Project 1</center></h3>\n",
    "<h1><center>Fisic and sexual violance against women in italy</center></h1>"
   ]
  },
  {
   "cell_type": "markdown",
   "metadata": {},
   "source": [
    "The purpose of this first part is to determine the percentage of women aged 15 and above with various levels of education devided per area of residence: the North, Central, and Southern regions.\n",
    "\n",
    "The data used for this estimation has been downloaded from the ISTAT website, which is the Italian Institute of Statistics, that leave avaiable to the public several datasets [[]](http://dati.istat.it/?lang=en). The selected dataset, titled \"Population 15 years and over by the highest level of education - previous regulation (until 2020),\" contains information on different levels of education for residents in Italy, reported in thousands, and provides insights into various demographic characteristics.\" \n",
    "\n",
    "\n",
    "    - Import the dataset\n",
    "\n",
    "First we need to import the needed library and the dataset with the numpy read_csv function [[]](https://www.w3schools.com/python/pandas/pandas_csv.asp).\n"
   ]
  },
  {
   "cell_type": "code",
   "execution_count": 1,
   "metadata": {},
   "outputs": [],
   "source": [
    "# import pandas\n",
    "import pandas as pd\n",
    "import numpy as np\n",
    "# read the dataset \n",
    "# https://www.w3schools.com/python/pandas/pandas_csv.asp\n",
    "Instruction_level_italy = pd.read_csv('DataSet/Instruction_level_italy.csv')"
   ]
  },
  {
   "cell_type": "markdown",
   "metadata": {},
   "source": [
    "    - Data Cleaning\n",
    "\n",
    "It is now important clean and elaborate the dataset to being.\n",
    "\n",
    "First I will check the dataset with the sample() function to investigate what columns we can drop."
   ]
  },
  {
   "cell_type": "code",
   "execution_count": 2,
   "metadata": {},
   "outputs": [
    {
     "data": {
      "text/html": [
       "<div>\n",
       "<style scoped>\n",
       "    .dataframe tbody tr th:only-of-type {\n",
       "        vertical-align: middle;\n",
       "    }\n",
       "\n",
       "    .dataframe tbody tr th {\n",
       "        vertical-align: top;\n",
       "    }\n",
       "\n",
       "    .dataframe thead th {\n",
       "        text-align: right;\n",
       "    }\n",
       "</style>\n",
       "<table border=\"1\" class=\"dataframe\">\n",
       "  <thead>\n",
       "    <tr style=\"text-align: right;\">\n",
       "      <th></th>\n",
       "      <th>ITTER107</th>\n",
       "      <th>Territorio</th>\n",
       "      <th>TIPO_DATO_FOL</th>\n",
       "      <th>Tipo dato</th>\n",
       "      <th>SEXISTAT1</th>\n",
       "      <th>Sesso</th>\n",
       "      <th>ETA1</th>\n",
       "      <th>Classe di età</th>\n",
       "      <th>TITOLO_STUDIO</th>\n",
       "      <th>Titolo di studio</th>\n",
       "      <th>TIME</th>\n",
       "      <th>Seleziona periodo</th>\n",
       "      <th>Value</th>\n",
       "      <th>Flag Codes</th>\n",
       "      <th>Flags</th>\n",
       "    </tr>\n",
       "  </thead>\n",
       "  <tbody>\n",
       "    <tr>\n",
       "      <th>3307</th>\n",
       "      <td>ITC</td>\n",
       "      <td>Nord-ovest</td>\n",
       "      <td>POP_15</td>\n",
       "      <td>popolazione 15 anni e oltre (migliaia)</td>\n",
       "      <td>9</td>\n",
       "      <td>totale</td>\n",
       "      <td>Y25-34</td>\n",
       "      <td>25-34 anni</td>\n",
       "      <td>6</td>\n",
       "      <td>diploma 4-5 anni (maturità)</td>\n",
       "      <td>2020</td>\n",
       "      <td>2020</td>\n",
       "      <td>613.404</td>\n",
       "      <td>NaN</td>\n",
       "      <td>NaN</td>\n",
       "    </tr>\n",
       "    <tr>\n",
       "      <th>6833</th>\n",
       "      <td>ITC</td>\n",
       "      <td>Nord-ovest</td>\n",
       "      <td>POP_15</td>\n",
       "      <td>popolazione 15 anni e oltre (migliaia)</td>\n",
       "      <td>1</td>\n",
       "      <td>maschi</td>\n",
       "      <td>Y15-64</td>\n",
       "      <td>15-64 anni</td>\n",
       "      <td>3</td>\n",
       "      <td>licenza di scuola elementare, nessun titolo di...</td>\n",
       "      <td>2020-Q4</td>\n",
       "      <td>T4-2020</td>\n",
       "      <td>121.714</td>\n",
       "      <td>NaN</td>\n",
       "      <td>NaN</td>\n",
       "    </tr>\n",
       "    <tr>\n",
       "      <th>4987</th>\n",
       "      <td>IT</td>\n",
       "      <td>Italia</td>\n",
       "      <td>POP_15</td>\n",
       "      <td>popolazione 15 anni e oltre (migliaia)</td>\n",
       "      <td>9</td>\n",
       "      <td>totale</td>\n",
       "      <td>Y55-59</td>\n",
       "      <td>55-59 anni</td>\n",
       "      <td>99</td>\n",
       "      <td>totale</td>\n",
       "      <td>2020</td>\n",
       "      <td>2020</td>\n",
       "      <td>4565.453</td>\n",
       "      <td>NaN</td>\n",
       "      <td>NaN</td>\n",
       "    </tr>\n",
       "    <tr>\n",
       "      <th>8381</th>\n",
       "      <td>ITE</td>\n",
       "      <td>Centro</td>\n",
       "      <td>POP_15</td>\n",
       "      <td>popolazione 15 anni e oltre (migliaia)</td>\n",
       "      <td>2</td>\n",
       "      <td>femmine</td>\n",
       "      <td>Y35-64</td>\n",
       "      <td>35-64 anni</td>\n",
       "      <td>99</td>\n",
       "      <td>totale</td>\n",
       "      <td>2020-Q1</td>\n",
       "      <td>T1-2020</td>\n",
       "      <td>2688.426</td>\n",
       "      <td>NaN</td>\n",
       "      <td>NaN</td>\n",
       "    </tr>\n",
       "    <tr>\n",
       "      <th>7307</th>\n",
       "      <td>ITE</td>\n",
       "      <td>Centro</td>\n",
       "      <td>POP_15</td>\n",
       "      <td>popolazione 15 anni e oltre (migliaia)</td>\n",
       "      <td>9</td>\n",
       "      <td>totale</td>\n",
       "      <td>Y15-64</td>\n",
       "      <td>15-64 anni</td>\n",
       "      <td>3</td>\n",
       "      <td>licenza di scuola elementare, nessun titolo di...</td>\n",
       "      <td>2019-Q4</td>\n",
       "      <td>T4-2019</td>\n",
       "      <td>264.631</td>\n",
       "      <td>NaN</td>\n",
       "      <td>NaN</td>\n",
       "    </tr>\n",
       "    <tr>\n",
       "      <th>8611</th>\n",
       "      <td>ITFG</td>\n",
       "      <td>Mezzogiorno</td>\n",
       "      <td>POP_15</td>\n",
       "      <td>popolazione 15 anni e oltre (migliaia)</td>\n",
       "      <td>9</td>\n",
       "      <td>totale</td>\n",
       "      <td>Y35-64</td>\n",
       "      <td>35-64 anni</td>\n",
       "      <td>11</td>\n",
       "      <td>laurea e post-laurea</td>\n",
       "      <td>2020-Q1</td>\n",
       "      <td>T1-2020</td>\n",
       "      <td>1267.068</td>\n",
       "      <td>NaN</td>\n",
       "      <td>NaN</td>\n",
       "    </tr>\n",
       "    <tr>\n",
       "      <th>7729</th>\n",
       "      <td>ITCD</td>\n",
       "      <td>Nord</td>\n",
       "      <td>POP_15</td>\n",
       "      <td>popolazione 15 anni e oltre (migliaia)</td>\n",
       "      <td>1</td>\n",
       "      <td>maschi</td>\n",
       "      <td>Y35-64</td>\n",
       "      <td>35-64 anni</td>\n",
       "      <td>3</td>\n",
       "      <td>licenza di scuola elementare, nessun titolo di...</td>\n",
       "      <td>2020</td>\n",
       "      <td>2020</td>\n",
       "      <td>191.824</td>\n",
       "      <td>NaN</td>\n",
       "      <td>NaN</td>\n",
       "    </tr>\n",
       "    <tr>\n",
       "      <th>1658</th>\n",
       "      <td>ITC</td>\n",
       "      <td>Nord-ovest</td>\n",
       "      <td>POP_15</td>\n",
       "      <td>popolazione 15 anni e oltre (migliaia)</td>\n",
       "      <td>1</td>\n",
       "      <td>maschi</td>\n",
       "      <td>Y15-24</td>\n",
       "      <td>15-24 anni</td>\n",
       "      <td>4</td>\n",
       "      <td>licenza di scuola media</td>\n",
       "      <td>2020-Q3</td>\n",
       "      <td>T3-2020</td>\n",
       "      <td>366.117</td>\n",
       "      <td>NaN</td>\n",
       "      <td>NaN</td>\n",
       "    </tr>\n",
       "    <tr>\n",
       "      <th>2520</th>\n",
       "      <td>ITE</td>\n",
       "      <td>Centro</td>\n",
       "      <td>POP_15</td>\n",
       "      <td>popolazione 15 anni e oltre (migliaia)</td>\n",
       "      <td>2</td>\n",
       "      <td>femmine</td>\n",
       "      <td>Y20-24</td>\n",
       "      <td>20-24 anni</td>\n",
       "      <td>5</td>\n",
       "      <td>diploma 2-3 anni (qualifica professionale)</td>\n",
       "      <td>2019</td>\n",
       "      <td>2019</td>\n",
       "      <td>3.586</td>\n",
       "      <td>NaN</td>\n",
       "      <td>NaN</td>\n",
       "    </tr>\n",
       "    <tr>\n",
       "      <th>2702</th>\n",
       "      <td>ITD</td>\n",
       "      <td>Nord-est</td>\n",
       "      <td>POP_15</td>\n",
       "      <td>popolazione 15 anni e oltre (migliaia)</td>\n",
       "      <td>2</td>\n",
       "      <td>femmine</td>\n",
       "      <td>Y25-29</td>\n",
       "      <td>25-29 anni</td>\n",
       "      <td>6</td>\n",
       "      <td>diploma 4-5 anni (maturità)</td>\n",
       "      <td>2019</td>\n",
       "      <td>2019</td>\n",
       "      <td>100.250</td>\n",
       "      <td>NaN</td>\n",
       "      <td>NaN</td>\n",
       "    </tr>\n",
       "  </tbody>\n",
       "</table>\n",
       "</div>"
      ],
      "text/plain": [
       "     ITTER107   Territorio TIPO_DATO_FOL  \\\n",
       "3307      ITC   Nord-ovest        POP_15   \n",
       "6833      ITC   Nord-ovest        POP_15   \n",
       "4987       IT       Italia        POP_15   \n",
       "8381      ITE       Centro        POP_15   \n",
       "7307      ITE       Centro        POP_15   \n",
       "8611     ITFG  Mezzogiorno        POP_15   \n",
       "7729     ITCD         Nord        POP_15   \n",
       "1658      ITC   Nord-ovest        POP_15   \n",
       "2520      ITE       Centro        POP_15   \n",
       "2702      ITD     Nord-est        POP_15   \n",
       "\n",
       "                                   Tipo dato  SEXISTAT1    Sesso    ETA1  \\\n",
       "3307  popolazione 15 anni e oltre (migliaia)          9   totale  Y25-34   \n",
       "6833  popolazione 15 anni e oltre (migliaia)          1   maschi  Y15-64   \n",
       "4987  popolazione 15 anni e oltre (migliaia)          9   totale  Y55-59   \n",
       "8381  popolazione 15 anni e oltre (migliaia)          2  femmine  Y35-64   \n",
       "7307  popolazione 15 anni e oltre (migliaia)          9   totale  Y15-64   \n",
       "8611  popolazione 15 anni e oltre (migliaia)          9   totale  Y35-64   \n",
       "7729  popolazione 15 anni e oltre (migliaia)          1   maschi  Y35-64   \n",
       "1658  popolazione 15 anni e oltre (migliaia)          1   maschi  Y15-24   \n",
       "2520  popolazione 15 anni e oltre (migliaia)          2  femmine  Y20-24   \n",
       "2702  popolazione 15 anni e oltre (migliaia)          2  femmine  Y25-29   \n",
       "\n",
       "     Classe di età  TITOLO_STUDIO  \\\n",
       "3307    25-34 anni              6   \n",
       "6833    15-64 anni              3   \n",
       "4987    55-59 anni             99   \n",
       "8381    35-64 anni             99   \n",
       "7307    15-64 anni              3   \n",
       "8611    35-64 anni             11   \n",
       "7729    35-64 anni              3   \n",
       "1658    15-24 anni              4   \n",
       "2520    20-24 anni              5   \n",
       "2702    25-29 anni              6   \n",
       "\n",
       "                                       Titolo di studio     TIME  \\\n",
       "3307                        diploma 4-5 anni (maturità)     2020   \n",
       "6833  licenza di scuola elementare, nessun titolo di...  2020-Q4   \n",
       "4987                                             totale     2020   \n",
       "8381                                             totale  2020-Q1   \n",
       "7307  licenza di scuola elementare, nessun titolo di...  2019-Q4   \n",
       "8611                               laurea e post-laurea  2020-Q1   \n",
       "7729  licenza di scuola elementare, nessun titolo di...     2020   \n",
       "1658                            licenza di scuola media  2020-Q3   \n",
       "2520         diploma 2-3 anni (qualifica professionale)     2019   \n",
       "2702                        diploma 4-5 anni (maturità)     2019   \n",
       "\n",
       "     Seleziona periodo     Value  Flag Codes Flags  \n",
       "3307              2020   613.404         NaN   NaN  \n",
       "6833           T4-2020   121.714         NaN   NaN  \n",
       "4987              2020  4565.453         NaN   NaN  \n",
       "8381           T1-2020  2688.426         NaN   NaN  \n",
       "7307           T4-2019   264.631         NaN   NaN  \n",
       "8611           T1-2020  1267.068         NaN   NaN  \n",
       "7729              2020   191.824         NaN   NaN  \n",
       "1658           T3-2020   366.117         NaN   NaN  \n",
       "2520              2019     3.586         NaN   NaN  \n",
       "2702              2019   100.250         NaN   NaN  "
      ]
     },
     "execution_count": 2,
     "metadata": {},
     "output_type": "execute_result"
    }
   ],
   "source": [
    "# print first 5 rows  \n",
    "Instruction_level_italy.sample(10)"
   ]
  },
  {
   "cell_type": "markdown",
   "metadata": {},
   "source": [
    "Upon examining the dataset, I have identified several columns that can be removed because they are not relevant for the analysis or because they contain redundant information.\n",
    "\n",
    "These columns include: ['ITTER107', 'TIPO_DATO_FOL', 'SEXISTAT1', 'Tipo dato', 'ETA1', 'Classe di età', 'TITOLO_STUDIO', 'TIME', 'Flag Codes', 'Flags'].\n",
    "\n",
    "I will use the drop() function with a variable to specify which columns to remove and update the DataFrame accordingly. We can them check the first 5 columns of the dataset with the head() function to see if the removal was successful."
   ]
  },
  {
   "cell_type": "code",
   "execution_count": 3,
   "metadata": {},
   "outputs": [
    {
     "data": {
      "text/html": [
       "<div>\n",
       "<style scoped>\n",
       "    .dataframe tbody tr th:only-of-type {\n",
       "        vertical-align: middle;\n",
       "    }\n",
       "\n",
       "    .dataframe tbody tr th {\n",
       "        vertical-align: top;\n",
       "    }\n",
       "\n",
       "    .dataframe thead th {\n",
       "        text-align: right;\n",
       "    }\n",
       "</style>\n",
       "<table border=\"1\" class=\"dataframe\">\n",
       "  <thead>\n",
       "    <tr style=\"text-align: right;\">\n",
       "      <th></th>\n",
       "      <th>Territorio</th>\n",
       "      <th>Sesso</th>\n",
       "      <th>Titolo di studio</th>\n",
       "      <th>Seleziona periodo</th>\n",
       "      <th>Value</th>\n",
       "    </tr>\n",
       "  </thead>\n",
       "  <tbody>\n",
       "    <tr>\n",
       "      <th>0</th>\n",
       "      <td>Italia</td>\n",
       "      <td>maschi</td>\n",
       "      <td>licenza di scuola elementare, nessun titolo di...</td>\n",
       "      <td>2019</td>\n",
       "      <td>3165.895</td>\n",
       "    </tr>\n",
       "    <tr>\n",
       "      <th>1</th>\n",
       "      <td>Italia</td>\n",
       "      <td>maschi</td>\n",
       "      <td>licenza di scuola elementare, nessun titolo di...</td>\n",
       "      <td>T1-2019</td>\n",
       "      <td>3211.849</td>\n",
       "    </tr>\n",
       "    <tr>\n",
       "      <th>2</th>\n",
       "      <td>Italia</td>\n",
       "      <td>maschi</td>\n",
       "      <td>licenza di scuola elementare, nessun titolo di...</td>\n",
       "      <td>T2-2019</td>\n",
       "      <td>3179.996</td>\n",
       "    </tr>\n",
       "    <tr>\n",
       "      <th>3</th>\n",
       "      <td>Italia</td>\n",
       "      <td>maschi</td>\n",
       "      <td>licenza di scuola elementare, nessun titolo di...</td>\n",
       "      <td>T4-2019</td>\n",
       "      <td>3113.926</td>\n",
       "    </tr>\n",
       "    <tr>\n",
       "      <th>4</th>\n",
       "      <td>Italia</td>\n",
       "      <td>maschi</td>\n",
       "      <td>licenza di scuola elementare, nessun titolo di...</td>\n",
       "      <td>T3-2019</td>\n",
       "      <td>3157.808</td>\n",
       "    </tr>\n",
       "  </tbody>\n",
       "</table>\n",
       "</div>"
      ],
      "text/plain": [
       "  Territorio   Sesso                                   Titolo di studio  \\\n",
       "0     Italia  maschi  licenza di scuola elementare, nessun titolo di...   \n",
       "1     Italia  maschi  licenza di scuola elementare, nessun titolo di...   \n",
       "2     Italia  maschi  licenza di scuola elementare, nessun titolo di...   \n",
       "3     Italia  maschi  licenza di scuola elementare, nessun titolo di...   \n",
       "4     Italia  maschi  licenza di scuola elementare, nessun titolo di...   \n",
       "\n",
       "  Seleziona periodo     Value  \n",
       "0              2019  3165.895  \n",
       "1           T1-2019  3211.849  \n",
       "2           T2-2019  3179.996  \n",
       "3           T4-2019  3113.926  \n",
       "4           T3-2019  3157.808  "
      ]
     },
     "execution_count": 3,
     "metadata": {},
     "output_type": "execute_result"
    }
   ],
   "source": [
    "# List of columns to be removed from the DataFrame\n",
    "columns_to_be_removed = ['ITTER107', 'TIPO_DATO_FOL', 'SEXISTAT1', 'Tipo dato', 'ETA1', 'Classe di età', 'TITOLO_STUDIO', 'TIME', 'Flag Codes', 'Flags']\n",
    "\n",
    "# Remove the specified columns from the 'Instruction_level_italy' DataFrame\n",
    "Instruction_level_italy = Instruction_level_italy.drop(columns=columns_to_be_removed)\n",
    "\n",
    "# Display the first few rows of the modified DataFrame\n",
    "Instruction_level_italy.head()"
   ]
  },
  {
   "cell_type": "markdown",
   "metadata": {},
   "source": [
    "Replace the colum name with a more understandacle meaning for english speaker using The rename() function [[]](https://www.kdnuggets.com/2022/11/4-ways-rename-pandas-columns.html)."
   ]
  },
  {
   "cell_type": "code",
   "execution_count": 6,
   "metadata": {},
   "outputs": [
    {
     "data": {
      "text/plain": [
       "Index(['Region', 'Sex', 'Education Level', 'Year of observation', 'Value'], dtype='object')"
      ]
     },
     "execution_count": 6,
     "metadata": {},
     "output_type": "execute_result"
    }
   ],
   "source": [
    "# Renaming columns in a Pandas DataFrame\n",
    "Instruction_level_italy.rename(\n",
    "    columns={\"Territorio\": \"Region\", \"Sesso\": \"Sex\", \"Titolo di studio\": \"Education Level\",\"Seleziona periodo\": \"Year of observation\" },\n",
    "    inplace=True\n",
    ")\n",
    "# check the columns name of the dataset \n",
    "Instruction_level_italy.columns"
   ]
  },
  {
   "cell_type": "markdown",
   "metadata": {},
   "source": [
    "About the colum sex I will need to keep only female row. We can check the unique value with the function Unique()."
   ]
  },
  {
   "cell_type": "code",
   "execution_count": 7,
   "metadata": {},
   "outputs": [
    {
     "data": {
      "text/plain": [
       "array(['maschi', 'femmine', 'totale'], dtype=object)"
      ]
     },
     "execution_count": 7,
     "metadata": {},
     "output_type": "execute_result"
    }
   ],
   "source": [
    "# check the unique value in the column sex\n",
    "Instruction_level_italy['Sex'].unique()"
   ]
  },
  {
   "cell_type": "markdown",
   "metadata": {},
   "source": [
    "We will use the .loc [[]](https://deallen7.medium.com/using-pandas-loc-and-isin-to-filter-for-a-list-of-values-in-python-a1c862054058) function to select only the row with the specified value \"femmine,\" and then we will update the dataset accordingly. Finally, we will replace \"femmine\" with \"female [[]](https://www.geeksforgeeks.org/python-pandas-dataframe-replace/)."
   ]
  },
  {
   "cell_type": "code",
   "execution_count": 8,
   "metadata": {},
   "outputs": [
    {
     "data": {
      "text/plain": [
       "array(['femmine'], dtype=object)"
      ]
     },
     "execution_count": 8,
     "metadata": {},
     "output_type": "execute_result"
    }
   ],
   "source": [
    "# keep only the rows with value \"femmmine\" in the sex colum\n",
    "Instruction_level_italy = Instruction_level_italy.loc[Instruction_level_italy['Sex'] == 'femmine']\n",
    "# replace \"femmine\" with \"female\"\n",
    "Instruction_level_italy.replace(to_replace=\"femmine\", value=\"Female\")\n",
    "# check unique value \n",
    "Instruction_level_italy['Sex'].unique()"
   ]
  },
  {
   "cell_type": "markdown",
   "metadata": {},
   "source": [
    "The 'Region' column, after conducting a unique() analysis, revealed redundant values. 'Italy,' 'Nord est,' and 'Nord Ovest' are already encompassed within 'Nord,' 'Centro' (Centre), and 'Mezzogiorno' (South). Consequently, I will remove the unnecessary values and rename the remaining rows for better clarity."
   ]
  },
  {
   "cell_type": "code",
   "execution_count": 9,
   "metadata": {},
   "outputs": [
    {
     "name": "stdout",
     "output_type": "stream",
     "text": [
      "        Region       Value\n",
      "0       Centro  308497.782\n",
      "1  Mezzogiorno  527195.457\n",
      "2         Nord  701864.224\n"
     ]
    }
   ],
   "source": [
    "# List of values to be filtered from the 'Region' column\n",
    "filter_list = ['Nord-est', 'Nord-ovest', 'Italia']\n",
    "\n",
    "# Filter the DataFrame 'Instruction_level_italy' to exclude rows where 'Territorio' is in the 'filter_list'\n",
    "Instruction_level_italy = Instruction_level_italy.loc[~Instruction_level_italy['Region'].isin(filter_list)]\n",
    "\n",
    "# replace mezzogiorno and centro\n",
    "Instruction_level_italy.replace(to_replace=[\"mezzogiorno\", \"centro\"], value=[\"Sud\", \"Centre\"])\n",
    "# check the removal and replacement with the group by function \n",
    "filtered_grouped_data = Instruction_level_italy.groupby('Region')['Value'].sum().reset_index()\n",
    "print(filtered_grouped_data)"
   ]
  },
  {
   "cell_type": "markdown",
   "metadata": {},
   "source": [
    "Regarding the column \"Year\", after visualising the content, I decide to keep only the more recent observation that refer to the whole 2020."
   ]
  },
  {
   "cell_type": "code",
   "execution_count": 10,
   "metadata": {},
   "outputs": [
    {
     "data": {
      "text/plain": [
       "array(['2019', 'T1-2019', 'T2-2019', 'T4-2019', 'T3-2019', '2020',\n",
       "       'T2-2020', 'T1-2020', 'T3-2020', 'T4-2020'], dtype=object)"
      ]
     },
     "execution_count": 10,
     "metadata": {},
     "output_type": "execute_result"
    }
   ],
   "source": [
    "# check the unique value in the 'Year of observation' column.\n",
    "Instruction_level_italy['Year of observation'].unique()"
   ]
  },
  {
   "cell_type": "code",
   "execution_count": 14,
   "metadata": {},
   "outputs": [],
   "source": [
    "# keep only the rows with value \"2020\" in the 'Year of observation' column\n",
    "Instruction_level_italy = Instruction_level_italy.loc[Instruction_level_italy['Year of observation'] == '2020']"
   ]
  },
  {
   "cell_type": "markdown",
   "metadata": {},
   "source": [
    "Finally we will need to elaborate the educational level column. "
   ]
  },
  {
   "cell_type": "code",
   "execution_count": 18,
   "metadata": {},
   "outputs": [
    {
     "data": {
      "text/html": [
       "<div>\n",
       "<style scoped>\n",
       "    .dataframe tbody tr th:only-of-type {\n",
       "        vertical-align: middle;\n",
       "    }\n",
       "\n",
       "    .dataframe tbody tr th {\n",
       "        vertical-align: top;\n",
       "    }\n",
       "\n",
       "    .dataframe thead th {\n",
       "        text-align: right;\n",
       "    }\n",
       "</style>\n",
       "<table border=\"1\" class=\"dataframe\">\n",
       "  <thead>\n",
       "    <tr style=\"text-align: right;\">\n",
       "      <th></th>\n",
       "      <th>Education Level</th>\n",
       "      <th>Value</th>\n",
       "    </tr>\n",
       "  </thead>\n",
       "  <tbody>\n",
       "    <tr>\n",
       "      <th>0</th>\n",
       "      <td>diploma 2-3 anni (qualifica professionale)</td>\n",
       "      <td>4922.835</td>\n",
       "    </tr>\n",
       "    <tr>\n",
       "      <th>1</th>\n",
       "      <td>diploma 4-5 anni (maturità)</td>\n",
       "      <td>30040.453</td>\n",
       "    </tr>\n",
       "    <tr>\n",
       "      <th>2</th>\n",
       "      <td>laurea e post-laurea</td>\n",
       "      <td>16836.009</td>\n",
       "    </tr>\n",
       "    <tr>\n",
       "      <th>3</th>\n",
       "      <td>licenza di scuola elementare, nessun titolo di...</td>\n",
       "      <td>12148.883</td>\n",
       "    </tr>\n",
       "    <tr>\n",
       "      <th>4</th>\n",
       "      <td>licenza di scuola media</td>\n",
       "      <td>28197.382</td>\n",
       "    </tr>\n",
       "    <tr>\n",
       "      <th>5</th>\n",
       "      <td>totale</td>\n",
       "      <td>92145.552</td>\n",
       "    </tr>\n",
       "  </tbody>\n",
       "</table>\n",
       "</div>"
      ],
      "text/plain": [
       "                                     Education Level      Value\n",
       "0         diploma 2-3 anni (qualifica professionale)   4922.835\n",
       "1                        diploma 4-5 anni (maturità)  30040.453\n",
       "2                               laurea e post-laurea  16836.009\n",
       "3  licenza di scuola elementare, nessun titolo di...  12148.883\n",
       "4                            licenza di scuola media  28197.382\n",
       "5                                             totale  92145.552"
      ]
     },
     "execution_count": 18,
     "metadata": {},
     "output_type": "execute_result"
    }
   ],
   "source": [
    "# display the unique value using the group by column \n",
    "Instruction_level_italy.groupby('Education Level')['Value'].sum().reset_index()"
   ]
  },
  {
   "cell_type": "markdown",
   "metadata": {},
   "source": [
    "The columns represent the five different levels of education that can be attained in Italy. However, for this analysis, I intend to categorize them into the following three main levels:\n",
    "\n",
    "- Primary education: Individuals who have completed only primary school education (typically up to 13 years of age).\n",
    "- High school education: Individuals who have successfully completed high school (typically up to 19 years of age).\n",
    "- Higher education: This category encompasses all forms of higher education, including degrees, bachelor's degrees, master's degrees, PhDs, and more.\n",
    "\n",
    "In relation to the rows contain \"totale\", as they are not relevant for our analysis"
   ]
  },
  {
   "cell_type": "code",
   "execution_count": null,
   "metadata": {},
   "outputs": [],
   "source": []
  },
  {
   "cell_type": "code",
   "execution_count": null,
   "metadata": {},
   "outputs": [],
   "source": []
  },
  {
   "cell_type": "markdown",
   "metadata": {},
   "source": []
  }
 ],
 "metadata": {
  "kernelspec": {
   "display_name": "Python 3 (ipykernel)",
   "language": "python",
   "name": "python3"
  },
  "language_info": {
   "codemirror_mode": {
    "name": "ipython",
    "version": 3
   },
   "file_extension": ".py",
   "mimetype": "text/x-python",
   "name": "python",
   "nbconvert_exporter": "python",
   "pygments_lexer": "ipython3",
   "version": "3.11.4"
  }
 },
 "nbformat": 4,
 "nbformat_minor": 2
}
