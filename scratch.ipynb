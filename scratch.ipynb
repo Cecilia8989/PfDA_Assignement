{
 "cells": [
  {
   "cell_type": "code",
   "execution_count": null,
   "metadata": {},
   "outputs": [],
   "source": [
    "replacements_Type_of_violence = {\n",
    "    ' rape or attempted rape' : 'Physical or Sexual',\n",
    "    'sexual violence' : 'Physical or Sexual',    \n",
    "    'physical violence' : 'Physical or Sexual',    \n",
    "    'physical or sexual' : 'Physical or Sexual',    \n",
    "}\n",
    "\n",
    "violence_per_region['Type of violence'] = violence_per_region['Type of violence'].replace(replacements_Type_of_violence )\n",
    "violence_per_region"
   ]
  },
  {
   "cell_type": "code",
   "execution_count": null,
   "metadata": {},
   "outputs": [],
   "source": [
    "violence_per_region['Perpetrator'].unique()\n",
    "violence_per_region"
   ]
  },
  {
   "cell_type": "code",
   "execution_count": null,
   "metadata": {},
   "outputs": [],
   "source": [
    "# keep only the value 'current partner or former partner' in the column 'Perpetrator'\n",
    "violence_per_region = violence_per_region.loc[violence_per_region['Perpetrator'] == 'current partner or former partner']\n",
    "violence_per_region['Perpetrator'].unique()\n",
    "violence_per_region"
   ]
  },
  {
   "cell_type": "code",
   "execution_count": null,
   "metadata": {},
   "outputs": [],
   "source": [
    "# keep only the value 'women aged 16-70 years who have suffered violence in the past 5 years (% of ever-partnered women 16-70 year' in the column 'Data Type'\n",
    "violence_per_region = violence_per_region.loc[violence_per_region['Data type'] == 'women aged 16-70 years who have suffered violence in the past 5 years (% of ever-partnered women 16-70 years)']\n",
    "\n",
    "# rename value in data type column \n",
    "violence_per_region['Data type'] = violence_per_region['Data type'].replace(\n",
    "    'women aged 16-70 years who have suffered violence in the past 5 years (% of ever-partnered women 16-70 years)',\n",
    "    '16-70 years in the last 5 years'\n",
    ")\n",
    "\n",
    "violence_per_region_probability = violence_per_region.groupby(['Territory', 'Data type', 'Type of violence', 'Perpetrator'])['Value'].sum().reset_index()\n",
    "\n",
    "violence_per_region_probability['Region_Violence_probability%'] = violence_per_region_probability['Value']/violence_per_region_probability['Value'].sum()\n",
    "\n",
    "violence_per_region_probability"
   ]
  }
 ],
 "metadata": {
  "language_info": {
   "name": "python"
  }
 },
 "nbformat": 4,
 "nbformat_minor": 2
}
