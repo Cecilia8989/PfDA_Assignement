{
 "cells": [
  {
   "cell_type": "markdown",
   "metadata": {},
   "source": [
    "<h3><center>Programming for Data Analytics - Project 1</center></h3>\n",
    "<h1><center>Fisic and sexual violance against women in italy</center></h1>"
   ]
  },
  {
   "cell_type": "markdown",
   "metadata": {},
   "source": [
    "### Region of resident\n",
    "\n",
    "The regiorn of residence is an important factor when analyse the risk of violence against women. Poorest Region often are associates with more cases of sexual/physical violence against women. This can be related to the fact that women have less possibilities due to a lower economic independence and less service provided by the comunity. \n",
    "\n"
   ]
  },
  {
   "cell_type": "markdown",
   "metadata": {},
   "source": [
    "    - probability of abuse devided per the three main italian region "
   ]
  },
  {
   "cell_type": "code",
   "execution_count": 408,
   "metadata": {},
   "outputs": [],
   "source": [
    "import pandas as pd\n",
    "import numpy as np"
   ]
  },
  {
   "cell_type": "code",
   "execution_count": 409,
   "metadata": {},
   "outputs": [
    {
     "data": {
      "text/html": [
       "<div>\n",
       "<style scoped>\n",
       "    .dataframe tbody tr th:only-of-type {\n",
       "        vertical-align: middle;\n",
       "    }\n",
       "\n",
       "    .dataframe tbody tr th {\n",
       "        vertical-align: top;\n",
       "    }\n",
       "\n",
       "    .dataframe thead th {\n",
       "        text-align: right;\n",
       "    }\n",
       "</style>\n",
       "<table border=\"1\" class=\"dataframe\">\n",
       "  <thead>\n",
       "    <tr style=\"text-align: right;\">\n",
       "      <th></th>\n",
       "      <th>ITTER107</th>\n",
       "      <th>Territory</th>\n",
       "      <th>TIPO_DATO_VIOLENZA</th>\n",
       "      <th>Data type</th>\n",
       "      <th>TIPOAUT</th>\n",
       "      <th>Perpetrator</th>\n",
       "      <th>TIPOVIOLENZA</th>\n",
       "      <th>Type of violence</th>\n",
       "      <th>TIME</th>\n",
       "      <th>Select time</th>\n",
       "      <th>Value</th>\n",
       "      <th>Flag Codes</th>\n",
       "      <th>Flags</th>\n",
       "    </tr>\n",
       "  </thead>\n",
       "  <tbody>\n",
       "    <tr>\n",
       "      <th>0</th>\n",
       "      <td>IT</td>\n",
       "      <td>Italy</td>\n",
       "      <td>W16_70_PNP_LT</td>\n",
       "      <td>women aged 16-70 years who have suffered viole...</td>\n",
       "      <td>ANY_P_NOP</td>\n",
       "      <td>any man (partner and non-partner)</td>\n",
       "      <td>PHSEX</td>\n",
       "      <td>physical or sexual</td>\n",
       "      <td>2014</td>\n",
       "      <td>2014</td>\n",
       "      <td>31.5</td>\n",
       "      <td>NaN</td>\n",
       "      <td>NaN</td>\n",
       "    </tr>\n",
       "    <tr>\n",
       "      <th>1</th>\n",
       "      <td>IT</td>\n",
       "      <td>Italy</td>\n",
       "      <td>W16_70_PNP_LT</td>\n",
       "      <td>women aged 16-70 years who have suffered viole...</td>\n",
       "      <td>ANY_P_NOP</td>\n",
       "      <td>any man (partner and non-partner)</td>\n",
       "      <td>PHY</td>\n",
       "      <td>physical violence</td>\n",
       "      <td>2014</td>\n",
       "      <td>2014</td>\n",
       "      <td>20.2</td>\n",
       "      <td>NaN</td>\n",
       "      <td>NaN</td>\n",
       "    </tr>\n",
       "    <tr>\n",
       "      <th>2</th>\n",
       "      <td>IT</td>\n",
       "      <td>Italy</td>\n",
       "      <td>W16_70_PNP_LT</td>\n",
       "      <td>women aged 16-70 years who have suffered viole...</td>\n",
       "      <td>ANY_P_NOP</td>\n",
       "      <td>any man (partner and non-partner)</td>\n",
       "      <td>SEXVIOL</td>\n",
       "      <td>sexual violence</td>\n",
       "      <td>2014</td>\n",
       "      <td>2014</td>\n",
       "      <td>21.0</td>\n",
       "      <td>NaN</td>\n",
       "      <td>NaN</td>\n",
       "    </tr>\n",
       "    <tr>\n",
       "      <th>3</th>\n",
       "      <td>IT</td>\n",
       "      <td>Italy</td>\n",
       "      <td>W16_70_PNP_LT</td>\n",
       "      <td>women aged 16-70 years who have suffered viole...</td>\n",
       "      <td>ANY_P_NOP</td>\n",
       "      <td>any man (partner and non-partner)</td>\n",
       "      <td>RAPE_OR_ATT</td>\n",
       "      <td>rape or attempted rape</td>\n",
       "      <td>2014</td>\n",
       "      <td>2014</td>\n",
       "      <td>5.4</td>\n",
       "      <td>NaN</td>\n",
       "      <td>NaN</td>\n",
       "    </tr>\n",
       "    <tr>\n",
       "      <th>4</th>\n",
       "      <td>IT</td>\n",
       "      <td>Italy</td>\n",
       "      <td>W16_70_PNP_LT</td>\n",
       "      <td>women aged 16-70 years who have suffered viole...</td>\n",
       "      <td>NOP</td>\n",
       "      <td>man non-partner</td>\n",
       "      <td>PHSEX</td>\n",
       "      <td>physical or sexual</td>\n",
       "      <td>2014</td>\n",
       "      <td>2014</td>\n",
       "      <td>24.7</td>\n",
       "      <td>NaN</td>\n",
       "      <td>NaN</td>\n",
       "    </tr>\n",
       "  </tbody>\n",
       "</table>\n",
       "</div>"
      ],
      "text/plain": [
       "  ITTER107 Territory TIPO_DATO_VIOLENZA  \\\n",
       "0       IT     Italy      W16_70_PNP_LT   \n",
       "1       IT     Italy      W16_70_PNP_LT   \n",
       "2       IT     Italy      W16_70_PNP_LT   \n",
       "3       IT     Italy      W16_70_PNP_LT   \n",
       "4       IT     Italy      W16_70_PNP_LT   \n",
       "\n",
       "                                           Data type    TIPOAUT  \\\n",
       "0  women aged 16-70 years who have suffered viole...  ANY_P_NOP   \n",
       "1  women aged 16-70 years who have suffered viole...  ANY_P_NOP   \n",
       "2  women aged 16-70 years who have suffered viole...  ANY_P_NOP   \n",
       "3  women aged 16-70 years who have suffered viole...  ANY_P_NOP   \n",
       "4  women aged 16-70 years who have suffered viole...        NOP   \n",
       "\n",
       "                         Perpetrator TIPOVIOLENZA         Type of violence  \\\n",
       "0  any man (partner and non-partner)        PHSEX       physical or sexual   \n",
       "1  any man (partner and non-partner)          PHY        physical violence   \n",
       "2  any man (partner and non-partner)      SEXVIOL          sexual violence   \n",
       "3  any man (partner and non-partner)  RAPE_OR_ATT   rape or attempted rape   \n",
       "4                    man non-partner        PHSEX       physical or sexual   \n",
       "\n",
       "   TIME  Select time  Value  Flag Codes  Flags  \n",
       "0  2014         2014   31.5         NaN    NaN  \n",
       "1  2014         2014   20.2         NaN    NaN  \n",
       "2  2014         2014   21.0         NaN    NaN  \n",
       "3  2014         2014    5.4         NaN    NaN  \n",
       "4  2014         2014   24.7         NaN    NaN  "
      ]
     },
     "execution_count": 409,
     "metadata": {},
     "output_type": "execute_result"
    }
   ],
   "source": [
    "#import the dataset Violence Divide per Region \n",
    "violence_per_region = pd.read_csv('DataSet/Violence divided per region.csv')\n",
    "violence_per_region.head()"
   ]
  },
  {
   "cell_type": "code",
   "execution_count": 410,
   "metadata": {},
   "outputs": [],
   "source": [
    "# List of columns to be removed from the DataFrame\n",
    "columns_to_be_removed = ['ITTER107', 'TIPO_DATO_VIOLENZA','TIPOAUT', 'TIPOVIOLENZA', 'Select time', 'Flag Codes', 'Flags']\n",
    "\n",
    "# Remove the specified columns from the 'Instruction_level_italy' DataFrame\n",
    "violence_per_region = violence_per_region.drop(columns=columns_to_be_removed)\n",
    "\n",
    "# Renaming columns in a Pandas DataFrame\n",
    "violence_per_region.rename(\n",
    "    columns={\"TIME\": \"Year\"},\n",
    "    inplace=True\n",
    ")"
   ]
  },
  {
   "cell_type": "code",
   "execution_count": 411,
   "metadata": {},
   "outputs": [
    {
     "data": {
      "text/html": [
       "<div>\n",
       "<style scoped>\n",
       "    .dataframe tbody tr th:only-of-type {\n",
       "        vertical-align: middle;\n",
       "    }\n",
       "\n",
       "    .dataframe tbody tr th {\n",
       "        vertical-align: top;\n",
       "    }\n",
       "\n",
       "    .dataframe thead th {\n",
       "        text-align: right;\n",
       "    }\n",
       "</style>\n",
       "<table border=\"1\" class=\"dataframe\">\n",
       "  <thead>\n",
       "    <tr style=\"text-align: right;\">\n",
       "      <th></th>\n",
       "      <th>Territory</th>\n",
       "      <th>Probability%</th>\n",
       "    </tr>\n",
       "  </thead>\n",
       "  <tbody>\n",
       "    <tr>\n",
       "      <th>0</th>\n",
       "      <td>Centre</td>\n",
       "      <td>0.199070</td>\n",
       "    </tr>\n",
       "    <tr>\n",
       "      <th>1</th>\n",
       "      <td>Nord</td>\n",
       "      <td>0.452397</td>\n",
       "    </tr>\n",
       "    <tr>\n",
       "      <th>2</th>\n",
       "      <td>Sud</td>\n",
       "      <td>0.348533</td>\n",
       "    </tr>\n",
       "  </tbody>\n",
       "</table>\n",
       "</div>"
      ],
      "text/plain": [
       "  Territory  Probability%\n",
       "0    Centre      0.199070\n",
       "1      Nord      0.452397\n",
       "2       Sud      0.348533"
      ]
     },
     "execution_count": 411,
     "metadata": {},
     "output_type": "execute_result"
    }
   ],
   "source": [
    "# drop italy from the terrytory \n",
    "violence_per_region = violence_per_region.loc[violence_per_region['Territory'] != 'Italy']\n",
    "\n",
    "# define list of region devided for geographic area \n",
    "Nord = ['Liguria', 'Lombardia', 'Piemonte', \"Valle d'Aosta / Vallée d'Aoste\t\", 'Emilia-Romagna', 'Friuli Venezia Giulia', 'Trentino Alto Adige / Südtirol', 'Veneto', 'Provincia Autonoma Bolzano / Bozen' ]\n",
    "\n",
    "# https://www.tuttitalia.it/statistiche/nord-centro-mezzogiorno-italia/\n",
    "# https://www.youtube.com/watch?app=desktop&v=8Y1UkY0oAXM\n",
    "#replace multiple values in position column\n",
    "replacements_regions = {\n",
    "    'Liguria': 'Nord',\n",
    "    'Lombardia': 'Nord',\n",
    "    'Piemonte': 'Nord',\n",
    "    \"Valle d'Aosta / Vallée d'Aoste\": 'Nord',\n",
    "    'Emilia-Romagna': 'Nord',\n",
    "    'Friuli-Venezia Giulia': 'Nord',\n",
    "    'Trentino Alto Adige / Südtirol': 'Nord',\n",
    "    'Veneto': 'Nord',\n",
    "    'Provincia Autonoma Bolzano / Bozen': 'Nord',\n",
    "    'Provincia Autonoma Trento': 'Nord',\n",
    "    'Lazio': 'Centre',\n",
    "    'Marche': 'Centre',\n",
    "    'Toscana': 'Centre',\n",
    "    'Umbria': 'Centre',\n",
    "    'Abruzzo': 'Sud',\n",
    "    'Basilicata': 'Sud',\n",
    "    'Calabria': 'Sud',\n",
    "    'Campania': 'Sud',\n",
    "    'Molise': 'Sud',\n",
    "    'Puglia': 'Sud',\n",
    "    'Sardegna': 'Sud',\n",
    "    'Sicilia': 'Sud',\n",
    "    'Basilicata': 'Sud',\n",
    "    'Calabria': 'Sud',\n",
    "    'Campania': 'Sud',\n",
    "    'Molise': 'Sud',\n",
    "    'Puglia': 'Sud',\n",
    "    'Sardegna': 'Sud',\n",
    "    'Sicilia': 'Sud',\n",
    "}\n",
    "\n",
    "violence_per_region['Territory'] = violence_per_region['Territory'].replace(replacements_regions)\n",
    "\n",
    "violence_per_region['Probability%'] = violence_per_region['Value']/violence_per_region['Value'].sum()\n",
    "\n",
    "violence_per_region_probability = violence_per_region.groupby('Territory')['Probability%'].sum().reset_index()\n",
    "violence_per_region_probability\n"
   ]
  },
  {
   "cell_type": "markdown",
   "metadata": {},
   "source": [
    "    - Generata a dataset of 200 lines for the variables \"Region\""
   ]
  },
  {
   "cell_type": "code",
   "execution_count": 412,
   "metadata": {},
   "outputs": [],
   "source": [
    "\n",
    "#https://www.istat.it/it/files/2021/12/CENSIMENTO-E-DINAMICA-DEMOGRAFICA-2020.pdf\n",
    "\n",
    "nord_popolation = 0.464\n",
    "sud_population = 0.198\n",
    "centre_population = 0.338\n"
   ]
  },
  {
   "cell_type": "code",
   "execution_count": 413,
   "metadata": {},
   "outputs": [
    {
     "data": {
      "text/html": [
       "<div>\n",
       "<style scoped>\n",
       "    .dataframe tbody tr th:only-of-type {\n",
       "        vertical-align: middle;\n",
       "    }\n",
       "\n",
       "    .dataframe tbody tr th {\n",
       "        vertical-align: top;\n",
       "    }\n",
       "\n",
       "    .dataframe thead th {\n",
       "        text-align: right;\n",
       "    }\n",
       "</style>\n",
       "<table border=\"1\" class=\"dataframe\">\n",
       "  <thead>\n",
       "    <tr style=\"text-align: right;\">\n",
       "      <th></th>\n",
       "      <th>Region of residence</th>\n",
       "    </tr>\n",
       "  </thead>\n",
       "  <tbody>\n",
       "    <tr>\n",
       "      <th>0</th>\n",
       "      <td>Sud</td>\n",
       "    </tr>\n",
       "    <tr>\n",
       "      <th>1</th>\n",
       "      <td>Centre</td>\n",
       "    </tr>\n",
       "    <tr>\n",
       "      <th>2</th>\n",
       "      <td>Nord</td>\n",
       "    </tr>\n",
       "    <tr>\n",
       "      <th>3</th>\n",
       "      <td>Centre</td>\n",
       "    </tr>\n",
       "    <tr>\n",
       "      <th>4</th>\n",
       "      <td>Centre</td>\n",
       "    </tr>\n",
       "  </tbody>\n",
       "</table>\n",
       "</div>"
      ],
      "text/plain": [
       "  Region of residence\n",
       "0                 Sud\n",
       "1              Centre\n",
       "2                Nord\n",
       "3              Centre\n",
       "4              Centre"
      ]
     },
     "execution_count": 413,
     "metadata": {},
     "output_type": "execute_result"
    }
   ],
   "source": [
    "regions_list = [ 'Nord', 'Sud', 'Centre']\n",
    "data = np.random.choice(regions_list, p=[nord_popolation, sud_population, centre_population], size=200)\n",
    "violence_against_women = pd.DataFrame(data, columns=['Region of residence'])\n",
    "violence_against_women.head()\n"
   ]
  },
  {
   "cell_type": "code",
   "execution_count": 414,
   "metadata": {},
   "outputs": [
    {
     "ename": "AttributeError",
     "evalue": "'DataFrame' object has no attribute 'get_group'",
     "output_type": "error",
     "traceback": [
      "\u001b[1;31m---------------------------------------------------------------------------\u001b[0m",
      "\u001b[1;31mAttributeError\u001b[0m                            Traceback (most recent call last)",
      "\u001b[1;32mc:\\Users\\anton\\Desktop\\GitHub\\Programming for data analysis\\PfDA_Assignement\\PfDA_Project_1.ipynb Cell 11\u001b[0m line \u001b[0;36m8\n\u001b[0;32m      <a href='vscode-notebook-cell:/c%3A/Users/anton/Desktop/GitHub/Programming%20for%20data%20analysis/PfDA_Assignement/PfDA_Project_1.ipynb#Y133sZmlsZQ%3D%3D?line=4'>5</a>\u001b[0m     \u001b[39mreturn\u001b[39;00m Probability \n\u001b[0;32m      <a href='vscode-notebook-cell:/c%3A/Users/anton/Desktop/GitHub/Programming%20for%20data%20analysis/PfDA_Assignement/PfDA_Project_1.ipynb#Y133sZmlsZQ%3D%3D?line=6'>7</a>\u001b[0m \u001b[39m# Apply the function to create the 'Education' column\u001b[39;00m\n\u001b[1;32m----> <a href='vscode-notebook-cell:/c%3A/Users/anton/Desktop/GitHub/Programming%20for%20data%20analysis/PfDA_Assignement/PfDA_Project_1.ipynb#Y133sZmlsZQ%3D%3D?line=7'>8</a>\u001b[0m violence_against_women[\u001b[39m\"\u001b[39m\u001b[39mProbability_Territory\u001b[39m\u001b[39m\"\u001b[39m] \u001b[39m=\u001b[39m violence_against_women\u001b[39m.\u001b[39mapply(Probability_Territory, axis\u001b[39m=\u001b[39m\u001b[39m1\u001b[39m)\n",
      "File \u001b[1;32mc:\\Users\\anton\\anaconda3\\Lib\\site-packages\\pandas\\core\\frame.py:10034\u001b[0m, in \u001b[0;36mDataFrame.apply\u001b[1;34m(self, func, axis, raw, result_type, args, by_row, **kwargs)\u001b[0m\n\u001b[0;32m  10022\u001b[0m \u001b[39mfrom\u001b[39;00m \u001b[39mpandas\u001b[39;00m\u001b[39m.\u001b[39;00m\u001b[39mcore\u001b[39;00m\u001b[39m.\u001b[39;00m\u001b[39mapply\u001b[39;00m \u001b[39mimport\u001b[39;00m frame_apply\n\u001b[0;32m  10024\u001b[0m op \u001b[39m=\u001b[39m frame_apply(\n\u001b[0;32m  10025\u001b[0m     \u001b[39mself\u001b[39m,\n\u001b[0;32m  10026\u001b[0m     func\u001b[39m=\u001b[39mfunc,\n\u001b[1;32m   (...)\u001b[0m\n\u001b[0;32m  10032\u001b[0m     kwargs\u001b[39m=\u001b[39mkwargs,\n\u001b[0;32m  10033\u001b[0m )\n\u001b[1;32m> 10034\u001b[0m \u001b[39mreturn\u001b[39;00m op\u001b[39m.\u001b[39mapply()\u001b[39m.\u001b[39m__finalize__(\u001b[39mself\u001b[39m, method\u001b[39m=\u001b[39m\u001b[39m\"\u001b[39m\u001b[39mapply\u001b[39m\u001b[39m\"\u001b[39m)\n",
      "File \u001b[1;32mc:\\Users\\anton\\anaconda3\\Lib\\site-packages\\pandas\\core\\apply.py:837\u001b[0m, in \u001b[0;36mFrameApply.apply\u001b[1;34m(self)\u001b[0m\n\u001b[0;32m    834\u001b[0m \u001b[39melif\u001b[39;00m \u001b[39mself\u001b[39m\u001b[39m.\u001b[39mraw:\n\u001b[0;32m    835\u001b[0m     \u001b[39mreturn\u001b[39;00m \u001b[39mself\u001b[39m\u001b[39m.\u001b[39mapply_raw()\n\u001b[1;32m--> 837\u001b[0m \u001b[39mreturn\u001b[39;00m \u001b[39mself\u001b[39m\u001b[39m.\u001b[39mapply_standard()\n",
      "File \u001b[1;32mc:\\Users\\anton\\anaconda3\\Lib\\site-packages\\pandas\\core\\apply.py:963\u001b[0m, in \u001b[0;36mFrameApply.apply_standard\u001b[1;34m(self)\u001b[0m\n\u001b[0;32m    962\u001b[0m \u001b[39mdef\u001b[39;00m \u001b[39mapply_standard\u001b[39m(\u001b[39mself\u001b[39m):\n\u001b[1;32m--> 963\u001b[0m     results, res_index \u001b[39m=\u001b[39m \u001b[39mself\u001b[39m\u001b[39m.\u001b[39mapply_series_generator()\n\u001b[0;32m    965\u001b[0m     \u001b[39m# wrap results\u001b[39;00m\n\u001b[0;32m    966\u001b[0m     \u001b[39mreturn\u001b[39;00m \u001b[39mself\u001b[39m\u001b[39m.\u001b[39mwrap_results(results, res_index)\n",
      "File \u001b[1;32mc:\\Users\\anton\\anaconda3\\Lib\\site-packages\\pandas\\core\\apply.py:979\u001b[0m, in \u001b[0;36mFrameApply.apply_series_generator\u001b[1;34m(self)\u001b[0m\n\u001b[0;32m    976\u001b[0m \u001b[39mwith\u001b[39;00m option_context(\u001b[39m\"\u001b[39m\u001b[39mmode.chained_assignment\u001b[39m\u001b[39m\"\u001b[39m, \u001b[39mNone\u001b[39;00m):\n\u001b[0;32m    977\u001b[0m     \u001b[39mfor\u001b[39;00m i, v \u001b[39min\u001b[39;00m \u001b[39menumerate\u001b[39m(series_gen):\n\u001b[0;32m    978\u001b[0m         \u001b[39m# ignore SettingWithCopy here in case the user mutates\u001b[39;00m\n\u001b[1;32m--> 979\u001b[0m         results[i] \u001b[39m=\u001b[39m \u001b[39mself\u001b[39m\u001b[39m.\u001b[39mfunc(v, \u001b[39m*\u001b[39m\u001b[39mself\u001b[39m\u001b[39m.\u001b[39margs, \u001b[39m*\u001b[39m\u001b[39m*\u001b[39m\u001b[39mself\u001b[39m\u001b[39m.\u001b[39mkwargs)\n\u001b[0;32m    980\u001b[0m         \u001b[39mif\u001b[39;00m \u001b[39misinstance\u001b[39m(results[i], ABCSeries):\n\u001b[0;32m    981\u001b[0m             \u001b[39m# If we have a view on v, we need to make a copy because\u001b[39;00m\n\u001b[0;32m    982\u001b[0m             \u001b[39m#  series_generator will swap out the underlying data\u001b[39;00m\n\u001b[0;32m    983\u001b[0m             results[i] \u001b[39m=\u001b[39m results[i]\u001b[39m.\u001b[39mcopy(deep\u001b[39m=\u001b[39m\u001b[39mFalse\u001b[39;00m)\n",
      "\u001b[1;32mc:\\Users\\anton\\Desktop\\GitHub\\Programming for data analysis\\PfDA_Assignement\\PfDA_Project_1.ipynb Cell 11\u001b[0m line \u001b[0;36m4\n\u001b[0;32m      <a href='vscode-notebook-cell:/c%3A/Users/anton/Desktop/GitHub/Programming%20for%20data%20analysis/PfDA_Assignement/PfDA_Project_1.ipynb#Y133sZmlsZQ%3D%3D?line=1'>2</a>\u001b[0m \u001b[39mdef\u001b[39;00m \u001b[39mProbability_Territory\u001b[39m(row):\n\u001b[0;32m      <a href='vscode-notebook-cell:/c%3A/Users/anton/Desktop/GitHub/Programming%20for%20data%20analysis/PfDA_Assignement/PfDA_Project_1.ipynb#Y133sZmlsZQ%3D%3D?line=2'>3</a>\u001b[0m     region \u001b[39m=\u001b[39m row[\u001b[39m\"\u001b[39m\u001b[39mRegion of residence\u001b[39m\u001b[39m\"\u001b[39m]\n\u001b[1;32m----> <a href='vscode-notebook-cell:/c%3A/Users/anton/Desktop/GitHub/Programming%20for%20data%20analysis/PfDA_Assignement/PfDA_Project_1.ipynb#Y133sZmlsZQ%3D%3D?line=3'>4</a>\u001b[0m     Probability \u001b[39m=\u001b[39m violence_per_region_probability\u001b[39m.\u001b[39mget_group(region)\u001b[39m.\u001b[39mvalues\n\u001b[0;32m      <a href='vscode-notebook-cell:/c%3A/Users/anton/Desktop/GitHub/Programming%20for%20data%20analysis/PfDA_Assignement/PfDA_Project_1.ipynb#Y133sZmlsZQ%3D%3D?line=4'>5</a>\u001b[0m     \u001b[39mreturn\u001b[39;00m Probability\n",
      "File \u001b[1;32mc:\\Users\\anton\\anaconda3\\Lib\\site-packages\\pandas\\core\\generic.py:6204\u001b[0m, in \u001b[0;36mNDFrame.__getattr__\u001b[1;34m(self, name)\u001b[0m\n\u001b[0;32m   6197\u001b[0m \u001b[39mif\u001b[39;00m (\n\u001b[0;32m   6198\u001b[0m     name \u001b[39mnot\u001b[39;00m \u001b[39min\u001b[39;00m \u001b[39mself\u001b[39m\u001b[39m.\u001b[39m_internal_names_set\n\u001b[0;32m   6199\u001b[0m     \u001b[39mand\u001b[39;00m name \u001b[39mnot\u001b[39;00m \u001b[39min\u001b[39;00m \u001b[39mself\u001b[39m\u001b[39m.\u001b[39m_metadata\n\u001b[0;32m   6200\u001b[0m     \u001b[39mand\u001b[39;00m name \u001b[39mnot\u001b[39;00m \u001b[39min\u001b[39;00m \u001b[39mself\u001b[39m\u001b[39m.\u001b[39m_accessors\n\u001b[0;32m   6201\u001b[0m     \u001b[39mand\u001b[39;00m \u001b[39mself\u001b[39m\u001b[39m.\u001b[39m_info_axis\u001b[39m.\u001b[39m_can_hold_identifiers_and_holds_name(name)\n\u001b[0;32m   6202\u001b[0m ):\n\u001b[0;32m   6203\u001b[0m     \u001b[39mreturn\u001b[39;00m \u001b[39mself\u001b[39m[name]\n\u001b[1;32m-> 6204\u001b[0m \u001b[39mreturn\u001b[39;00m \u001b[39mobject\u001b[39m\u001b[39m.\u001b[39m\u001b[39m__getattribute__\u001b[39m(\u001b[39mself\u001b[39m, name)\n",
      "\u001b[1;31mAttributeError\u001b[0m: 'DataFrame' object has no attribute 'get_group'"
     ]
    }
   ],
   "source": [
    "# Define a function to sample education levels based on probabilities for each region\n",
    "def Probability_Territory(row):\n",
    "    region = row[\"Region of residence\"]\n",
    "    Probability = violence_per_region_probability.get_group(region).values\n",
    "    return Probability \n",
    "\n",
    "# Apply the function to create the 'Education' column\n",
    "violence_against_women[\"Probability_Territory\"] = violence_against_women.apply(Probability_Territory, axis=1)\n"
   ]
  },
  {
   "cell_type": "markdown",
   "metadata": {},
   "source": [
    "#####  **Calculate the education level devided per regionr of women with age 15+ years**\n",
    "\n",
    "The purpose of this first part is to determine the percentage of women aged 15 and above with various levels of education devided per area of residence: the North, Central, and Southern regions.\n",
    "\n",
    "The data used for this estimation has been downloaded from the ISTAT website, which is the Italian Institute of Statistics, that leave avaiable to the public several datasets [[]](http://dati.istat.it/?lang=en). The selected dataset, titled \"Population 15 years and over by the highest level of education - previous regulation (until 2020),\" contains information on different levels of education for residents in Italy, reported in thousands, and provides insights into various demographic characteristics.\" \n",
    "\n",
    "\n",
    "    - Import the dataset\n",
    "\n",
    "First we need to import the needed library and the dataset with the numpy read_csv function [[]](https://www.w3schools.com/python/pandas/pandas_csv.asp).\n"
   ]
  },
  {
   "cell_type": "code",
   "execution_count": null,
   "metadata": {},
   "outputs": [],
   "source": [
    "# import pandas\n",
    "import pandas as pd\n",
    "import numpy as np\n",
    "# read the dataset \n",
    "# https://www.w3schools.com/python/pandas/pandas_csv.asp\n",
    "Education_level_italy = pd.read_csv('DataSet/Instruction_level_italy.csv')"
   ]
  },
  {
   "cell_type": "markdown",
   "metadata": {},
   "source": [
    "    - Data Cleaning\n",
    "\n",
    "It is now important clean and elaborate the dataset to being.\n",
    "\n",
    "First I will check the dataset with the sample() function to investigate what columns we can drop."
   ]
  },
  {
   "cell_type": "code",
   "execution_count": null,
   "metadata": {},
   "outputs": [],
   "source": [
    "# print first 5 rows  \n",
    "Education_level_italy.sample(10)"
   ]
  },
  {
   "cell_type": "markdown",
   "metadata": {},
   "source": [
    "Upon examining the dataset, I have identified several columns that can be removed because they are not relevant for the analysis or because they contain redundant information.\n",
    "\n",
    "These columns include: ['ITTER107', 'TIPO_DATO_FOL', 'SEXISTAT1', 'Tipo dato', 'ETA1', 'Classe di età', 'TITOLO_STUDIO', 'TIME', 'Flag Codes', 'Flags'].\n",
    "\n",
    "I will use the drop() function with a variable to specify which columns to remove and update the DataFrame accordingly. We can them check the first 5 columns of the dataset with the head() function to see if the removal was successful."
   ]
  },
  {
   "cell_type": "code",
   "execution_count": null,
   "metadata": {},
   "outputs": [],
   "source": [
    "# List of columns to be removed from the DataFrame\n",
    "columns_to_be_removed = ['ITTER107', 'TIPO_DATO_FOL', 'SEXISTAT1', 'Tipo dato', 'ETA1', 'Classe di età', 'TITOLO_STUDIO', 'TIME', 'Flag Codes', 'Flags']\n",
    "\n",
    "# Remove the specified columns from the 'Instruction_level_italy' DataFrame\n",
    "Education_level_italy = Education_level_italy.drop(columns=columns_to_be_removed)\n",
    "\n",
    "# Display the first few rows of the modified DataFrame\n",
    "Education_level_italy.head()"
   ]
  },
  {
   "cell_type": "markdown",
   "metadata": {},
   "source": [
    "Replace the colum name with a more understandacle meaning for english speaker using The rename() function [[]](https://www.kdnuggets.com/2022/11/4-ways-rename-pandas-columns.html)."
   ]
  },
  {
   "cell_type": "code",
   "execution_count": null,
   "metadata": {},
   "outputs": [],
   "source": [
    "# Renaming columns in a Pandas DataFrame\n",
    "Education_level_italy.rename(\n",
    "    columns={\"Territorio\": \"Region\", \"Sesso\": \"Sex\", \"Titolo di studio\": \"Education Level\",\"Seleziona periodo\": \"Year of observation\" },\n",
    "    inplace=True\n",
    ")\n",
    "# check the columns name of the dataset \n",
    "Education_level_italy.columns"
   ]
  },
  {
   "cell_type": "markdown",
   "metadata": {},
   "source": [
    "About the colum sex I will need to keep only female row. We can check the unique value with the function Unique()."
   ]
  },
  {
   "cell_type": "code",
   "execution_count": null,
   "metadata": {},
   "outputs": [],
   "source": [
    "# check the unique value in the column sex\n",
    "Education_level_italy['Sex'].unique()"
   ]
  },
  {
   "cell_type": "markdown",
   "metadata": {},
   "source": [
    "We will use the .loc [[]](https://deallen7.medium.com/using-pandas-loc-and-isin-to-filter-for-a-list-of-values-in-python-a1c862054058) function to select only the row with the specified value \"femmine,\" and then we will update the dataset accordingly. Finally, we will replace \"femmine\" with \"female [[]](https://datatofish.com/replace-values-pandas-dataframe/)."
   ]
  },
  {
   "cell_type": "code",
   "execution_count": null,
   "metadata": {},
   "outputs": [],
   "source": [
    "# keep only the rows with value \"femmmine\" in the sex colum\n",
    "Education_level_italy = Education_level_italy.loc[Education_level_italy['Sex'] == 'femmine']\n",
    "# replace \"femmine\" with \"female\"\n",
    "Education_level_italy['Sex']=Education_level_italy['Sex'].replace(\"femmine\", \"Female\")\n",
    "# check unique value \n",
    "Education_level_italy['Sex'].unique()"
   ]
  },
  {
   "cell_type": "markdown",
   "metadata": {},
   "source": [
    "The 'Region' column, after conducting a unique() analysis, revealed redundant values. \n",
    "'Italy,' 'Nord est,' and 'Nord Ovest' are already encompassed within 'Nord,' 'Centro' (Centre), and 'Mezzogiorno' (South). Consequently, I will remove the unnecessary values and rename the remaining rows for better clarity [[]](https://datatofish.com/replace-values-pandas-dataframe/)."
   ]
  },
  {
   "cell_type": "code",
   "execution_count": null,
   "metadata": {},
   "outputs": [],
   "source": [
    "# List of values to be selected from the 'Region' column\n",
    "filter_list = ['Nord-est', 'Nord-ovest', 'Italia']\n",
    "\n",
    "# Filter the DataFrame 'Instruction_level_italy' to exclude rows where 'Territorio' is in the 'filter_list'\n",
    "Education_level_italy = Education_level_italy.loc[~Education_level_italy['Region'].isin(filter_list)]\n",
    "\n",
    "# replace mezzogiorno and centro\n",
    "\n",
    "Education_level_italy['Region'] = Education_level_italy['Region'].replace([\"Mezzogiorno\", \"Centro\"], value=[\"Sud\", \"Centre\"])\n",
    "# check the removal and replacement with the group by function \n",
    "filtered_grouped_data = Education_level_italy.groupby('Region')['Value'].sum().reset_index()\n",
    "print(filtered_grouped_data)"
   ]
  },
  {
   "cell_type": "markdown",
   "metadata": {},
   "source": [
    "Regarding the column \"Year\", after visualising the content, I decide to keep only the more recent observation that refer to the whole 2020."
   ]
  },
  {
   "cell_type": "code",
   "execution_count": null,
   "metadata": {},
   "outputs": [],
   "source": [
    "# keep only the rows with value \"2020\" in the 'Year of observation' column\n",
    "Education_level_italy = Education_level_italy.loc[Education_level_italy['Year of observation'] == '2020']\n",
    "\n",
    "# display the unique value using the group by column \n",
    "Education_level_italy.groupby('Year of observation')['Value'].sum().reset_index()"
   ]
  },
  {
   "cell_type": "markdown",
   "metadata": {},
   "source": [
    "The columns represent the five different levels of education that can be attained in Italy. However, for this analysis, I intend to categorize them into the following three main levels:\n",
    "\n",
    "- Primary education: Individuals who have completed only primary school education (typically up to 13 years of age).\n",
    "- High school education: Individuals who have successfully completed high school (typically up to 19 years of age).\n",
    "- Higher education: This category encompasses all forms of higher education, including degrees, bachelor's degrees, master's degrees, PhDs, and more.\n",
    "\n",
    "The replace will be done with the pandas metho str.contain [[]](http://pandas.pydata.org/pandas-docs/stable/reference/api/pandas.Series.str.contains.html), [[]](https://stackoverflow.com/questions/39768547/replace-whole-string-if-it-contains-substring-in-pandas)."
   ]
  },
  {
   "cell_type": "code",
   "execution_count": null,
   "metadata": {},
   "outputs": [],
   "source": [
    "\n",
    "# https://stackoverflow.com/questions/39768547/replace-whole-string-if-it-contains-substring-in-pandas\n",
    "# substitute the value that contain the word \"scuola\" in the education level column with 'Primary education'A\n",
    "Education_level_italy.loc[Education_level_italy['Education Level'].str.contains('scuola'), 'Education Level'] = 'Primary Education'\n",
    "\n",
    "# substitute the value that contain the word \"diploma\" in the education level column with 'high school'\n",
    "Education_level_italy.loc[Education_level_italy['Education Level'].str.contains('diploma'), 'Education Level'] = 'High School'\n",
    "\n",
    "# substitute the value that contain the word \"laurea\" in the education level column with 'higher education'\n",
    "Education_level_italy.loc[Education_level_italy['Education Level'].str.contains('laurea'), 'Education Level'] = 'Higher Education'"
   ]
  },
  {
   "cell_type": "markdown",
   "metadata": {},
   "source": [
    "Then we can remove the 'total' column, as it is redundant, and group the dataset by education level. \n",
    "The removal will be done using the .loc function  [[]](https://www.shanelynn.ie/pandas-drop-delete-dataframe-rows-columns/) which will find all the values that don't match the given date, and the dataset will be updated accordingly."
   ]
  },
  {
   "cell_type": "code",
   "execution_count": null,
   "metadata": {},
   "outputs": [],
   "source": [
    "# Filter the DataFrame 'Instruction_level_italy' to exclude rows where 'Territorio' is in the 'filter_list'\n",
    "# https://www.shanelynn.ie/pandas-drop-delete-dataframe-rows-columns/\n",
    "Education_level_italy = Education_level_italy.loc[Education_level_italy['Education Level'] != 'totale']\n",
    "\n",
    "# Group by the dataset based on unique value of the column 'Education level'\n",
    "Education_level_italy = Education_level_italy.groupby(['Region', 'Sex', 'Education Level', 'Year of observation'])['Value'].sum().reset_index()"
   ]
  },
  {
   "cell_type": "markdown",
   "metadata": {},
   "source": [
    "Now we can split the datases on three different dataset, one for each region. "
   ]
  },
  {
   "cell_type": "code",
   "execution_count": null,
   "metadata": {},
   "outputs": [],
   "source": [
    "Education_level_italy"
   ]
  },
  {
   "cell_type": "code",
   "execution_count": null,
   "metadata": {},
   "outputs": [],
   "source": [
    "Education_level_italy['Region'].unique()"
   ]
  },
  {
   "cell_type": "markdown",
   "metadata": {},
   "source": [
    "Now, we can calculate the probability of each level of education divided by region. We use the *groupby* operation to group the data by the 'Region' column and calculate the sum of the values for each group. Afterward, we utilize the *map* [[]](https://www.geeksforgeeks.org/python-map-function/) function to create a new column, 'Probability%', based on the total value of the corresponding region.\n",
    "\n"
   ]
  },
  {
   "cell_type": "code",
   "execution_count": null,
   "metadata": {},
   "outputs": [],
   "source": [
    "# Group the data by 'Region' and calculate the sum of 'Value' for each group\n",
    "region_groups = Education_level_italy.groupby('Region')['Value'].sum()\n",
    "\n",
    "# Calculate the probability percentage for each region\n",
    "Education_level_italy['Probability%'] = Education_level_italy['Value'] / Education_level_italy['Region'].map(region_groups)\n",
    "Education_level_italy"
   ]
  },
  {
   "cell_type": "code",
   "execution_count": null,
   "metadata": {},
   "outputs": [],
   "source": []
  },
  {
   "cell_type": "code",
   "execution_count": null,
   "metadata": {},
   "outputs": [],
   "source": [
    "# Group Education_level_italy by 'Region'\n",
    "grouped_education = Education_level_italy.groupby('Region')['Probability%']\n",
    "\n",
    "Education_List = ['High School', 'Primary Education', 'Higher Education']\n",
    "\n",
    "# Define a function to sample education levels based on probabilities for each region\n",
    "def Education_level(row):\n",
    "    region = row[\"Region of residence\"]\n",
    "    probabilities = grouped_education.get_group(region).values\n",
    "    education = np.random.choice(Education_List, p=probabilities)\n",
    "    return education\n",
    "\n",
    "# Apply the function to create the 'Education' column\n",
    "violence_against_women[\"Education\"] = violence_against_women.apply(Education_level, axis=1)\n",
    "\n",
    "violence_against_women\n",
    "\n",
    "\n",
    "      \n",
    "        \n",
    "    "
   ]
  },
  {
   "cell_type": "markdown",
   "metadata": {},
   "source": []
  },
  {
   "cell_type": "code",
   "execution_count": null,
   "metadata": {},
   "outputs": [],
   "source": []
  },
  {
   "cell_type": "markdown",
   "metadata": {},
   "source": []
  }
 ],
 "metadata": {
  "kernelspec": {
   "display_name": "Python 3 (ipykernel)",
   "language": "python",
   "name": "python3"
  },
  "language_info": {
   "codemirror_mode": {
    "name": "ipython",
    "version": 3
   },
   "file_extension": ".py",
   "mimetype": "text/x-python",
   "name": "python",
   "nbconvert_exporter": "python",
   "pygments_lexer": "ipython3",
   "version": "3.11.4"
  }
 },
 "nbformat": 4,
 "nbformat_minor": 2
}
