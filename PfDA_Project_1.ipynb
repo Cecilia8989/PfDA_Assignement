{
 "cells": [
  {
   "cell_type": "markdown",
   "metadata": {},
   "source": [
    "<h3><center>Programming for Data Analytics - Project 1</center></h3>\n",
    "<h1><center>Fisic and sexual violance against women in italy</center></h1>"
   ]
  },
  {
   "cell_type": "markdown",
   "metadata": {},
   "source": [
    "### **1. Introduction**"
   ]
  },
  {
   "cell_type": "markdown",
   "metadata": {},
   "source": [
    "<details>\n",
    "  <summary>Task</summary>\n",
    "<br>\n",
    "\n",
    ">Problem statement\n",
    "\n",
    "For this project you must create a data set by simulating a real-world phenomenon of your choosing. You may pick any phenomenon you wish – you might pick one that is of interest to you in your personal or professional life. Then, rather than collect data related to the phenomenon, you should model and synthesise such data using Python.\n",
    "We suggest you use the numpy.random package for this purpose.<br><br>\n",
    "Specifically, in this project you should:<br>\n",
    "- Choose a real-world phenomenon that can be measured and for which you could collect at least one-hundred data points across at least four different variables.<br>\n",
    "- Investigate the types of variables involved, their likely distributions, and their relationships with each other.\n",
    "- Synthesise/simulate a data set as closely matching their properties as possible.<br>\n",
    "- Detail your research and implement the simulation in a Jupyter notebook – the data set itself can simply be displayed in an output cell within the notebook.\n",
    "\n",
    "Note that this project is about simulation – you must synthesise a data set. Some students may already have some real-world data sets in their own files. It is okay to base your synthesised data set on these should you wish (please reference it if you do), but the main task in this project is to create a synthesised data set. The next section gives an example project idea."
   ]
  },
  {
   "cell_type": "markdown",
   "metadata": {},
   "source": [
    "This project focuses on assessing the probability that a woman in Italy, aged between 15 and 70, will experience physical/sexual violence by her partner/ex-partner in 5 years time. \n",
    "To achieve this, various datasets and microdatasets from the [ISTAT [1]](https://esploradati.istat.it/databrowser/#/) have been utilized.\n",
    "\n",
    "ISTAT, the Italian National Institute of Statistics (Istituto Nazionale di Statistica), operates as the official statistical agency of Italy, functioning under the supervision of the Italian Ministry of Economy and Finance. It is tasked with collecting, producing, and disseminating statistical information across diverse aspects of Italian society and the economy.\n",
    "\n",
    "The study considers four variables. A dataset has been constructed to explore, based on each combination of these variables, the probability and likelihood of a woman experiencing physical/sexual violence by her partner/ex-partner in 5 years time.\n",
    "\n",
    "The four variables under consideration are:\n",
    "\n",
    "1. Area of residence\n",
    "2. Level of education\n",
    "3. Marital status\n",
    "4. Occupational level\n",
    "\n",
    "By combining the probabilities associated with each variable (e.g., the probability that a woman with a particular level of education will endure violence), the project aims to calculate, using a binomial distribution, whether the event will occur or not. "
   ]
  },
  {
   "cell_type": "markdown",
   "metadata": {},
   "source": [
    "### **2. Import the needed library**"
   ]
  },
  {
   "cell_type": "markdown",
   "metadata": {},
   "source": [
    "As a first step I would like import the library that will be needed in the project. \n",
    "They are:\n",
    "\n",
    "- **pandas**: This library is widely used for data manipulation and analysis. It provides data structures like DataFrame for efficient data manipulation with integrated indexing. Pandas is particularly useful for handling structured data and working with time-series data numpy [[2]](https://pandas.pydata.org/).\n",
    "- **numpy**: Numpy is a powerful library for numerical operations in Python. It provides support for large, multi-dimensional arrays and matrices, along with mathematical functions to operate on these elements. Many other scientific and data analysis libraries in Python, including pandas, are built on top of NumPy [[3]](https://numpy.org/).\n",
    "- **seaborn**: Seaborn is a statistical data visualization library based on Matplotlib. It provides a high-level interface for drawing attractive and informative statistical graphics. Seaborn is particularly useful for creating informative and visually appealing statistical graphics, making it easier to explore and understand complex datasets [[4]](https://seaborn.pydata.org/).\n",
    "- **matplotlib**: Matplotlib is a comprehensive 2D plotting library for Python. It provides a wide variety of static, animated, and interactive plots for visualizing data [[5]](https://matplotlib.org/). \n",
    "- **plotly**: Plotly Express is a high-level data visualization library that makes it easy to create interactive and visually appealing plots with minimal code [[6]](https://plotly.com/)"
   ]
  },
  {
   "cell_type": "code",
   "execution_count": 898,
   "metadata": {},
   "outputs": [],
   "source": [
    "#Importing the pandas library for data manipulation and analysis\n",
    "import pandas as pd\n",
    "# Importing the numpy library for numerical operations and array manipulations\n",
    "import numpy as np\n",
    "# Importing the seaborn library for data visualization\n",
    "import seaborn as sns\n",
    "# Importing the matplotlib library for data visualization \n",
    "import matplotlib.pyplot as plt\n",
    "# Import the Plotly Express library for data visualization'\n",
    "import plotly.express as px"
   ]
  },
  {
   "cell_type": "markdown",
   "metadata": {},
   "source": [
    "### **3. Area of residence**\n",
    "\n",
    "The **region of residence** plays a significant role in analyzing the risk of violence against women. It is often observed that the poorest regions are associated with higher instances of sexual and physical violence against women. This correlation can be attributed to a combination of economic and cultural factors. Women residing in economically disadvantaged regions face greater challenges in personal development and have limited access to resources for preventing and escaping violence. In addition, the probability of endure violence may be influenced by a cultural environment that tolerates such phenomena. This interconnectedness creates a complex scenario where the acceptance of violence against women becomes more prevalent [[7]](https://www.ladynomics.it/conoscere-la-violenza-economica-2a-puntata-la-poverta/).\n",
    "\n",
    "Italy can be divided into three main regions: **North, South (including islands), and Central**. Historically, the Northern and Center region has exhibited higher economic development, providing more employment and developmental opportunities for its population. Conversely, the South is acknowledged as the economically poorest area of Italy, characterized by a significantly affected employment rate.\n",
    "\n",
    "In the process of creating the database:\n",
    "1.  our first step involves determining the **probability of women aged 15 to 70 experiencing violence segmented by region** of residence, considering the distinct characteristics of the North, South, and Central regions. This probability will be used at the end to ultimate the dataset.\n",
    "2. Following this, we will construct an initial dataframe comprising **500 randomly generated entries**, strategically distributed among the three regions: North, South, and Central. This will be the first row of the dataset\n"
   ]
  },
  {
   "cell_type": "markdown",
   "metadata": {},
   "source": [
    "#### **3.1 Regional Disparities: Probability of Violence Against Women Across Italy's Main Regions**"
   ]
  },
  {
   "cell_type": "markdown",
   "metadata": {},
   "source": [
    "As a preliminary step, we need to calculate the probability that a woman residing in the South, North, or Centre of italy will experience violence from a partner or ex-partner over 5 years time.\n",
    "\n",
    "To achieve this, ISTAT has published microdatasets that explore the impact of various variables on violence against women. Specifically, there is a dataset available on the website that connects the region of residence with the percentage of women who endure violence [[8]](https://esploradati.istat.it/databrowser/#/it/dw/categories/IT1,Z0840JUS,1.0/JUS_VIOLENCE).\n",
    "\n",
    "Our next tasks involve importing the dataset, exploring its contents, and performing data cleaning and manipulation to derive the probability of violence associated with each region."
   ]
  },
  {
   "cell_type": "markdown",
   "metadata": {},
   "source": [
    "    - Import the dataset\n",
    "\n",
    "The dataseset has been imported from the ISTAT [[9]](https://esploradati.istat.it/databrowser/#/it/dw/categories/IT1,Z0840JUS,1.0/JUS_VIOLENCE) as a CSV and saved on the repository. The folder **DataSet** contain all the dataset used on the current project. We will them use the **read_csv()** function to import it as a dataframe unsing pandas [[10]](https://www.w3schools.com/python/pandas/pandas_csv.asp). "
   ]
  },
  {
   "cell_type": "code",
   "execution_count": 899,
   "metadata": {},
   "outputs": [],
   "source": [
    "# Importing the dataset on violence divided per region\n",
    "violence_by_region = pd.read_csv('DataSet/Violence divided per region.csv')"
   ]
  },
  {
   "cell_type": "markdown",
   "metadata": {},
   "source": [
    "    - Ceck missing value \n",
    "\n",
    "We can now check for missing values using the isnull() function [[11]](https://note.nkmk.me/en/python-pandas-nan-judge-count/). The dataset reveals missing values only in the 'flag' and 'flag codeds' columns. However, upon further inspection of the dataset, it is evident that these columns are not relevant, as they are empty. Therefore, we will be able after to drop those columns "
   ]
  },
  {
   "cell_type": "code",
   "execution_count": 900,
   "metadata": {},
   "outputs": [
    {
     "name": "stdout",
     "output_type": "stream",
     "text": [
      "== Missing values for \"violence by region\" ==\n",
      "ITTER107                 0\n",
      "Territory                0\n",
      "TIPO_DATO_VIOLENZA       0\n",
      "Data type                0\n",
      "TIPOAUT                  0\n",
      "Perpetrator              0\n",
      "TIPOVIOLENZA             0\n",
      "Type of violence         0\n",
      "TIME                     0\n",
      "Select time              0\n",
      "Value                    0\n",
      "Flag Codes            1204\n",
      "Flags                 1204\n",
      "dtype: int64\n"
     ]
    }
   ],
   "source": [
    "# Printing a header to indicate the section related to missing values for violence per region\n",
    "print(f'== Missing values for \"violence by region\" ==')\n",
    "# Using the isnull() function to check for missing values and summing them up\n",
    "missing_values_count = violence_by_region.isnull().sum()\n",
    "# Printing the count of missing values for each column in the dataset\n",
    "print(missing_values_count)"
   ]
  },
  {
   "cell_type": "markdown",
   "metadata": {},
   "source": [
    "    - Data exploration, manipulation and cleaning \n",
    "\n",
    "*Sampling the dataset*\n",
    "\n",
    "To begin our dataset observation and identify columns and rows for removal, we can utilize the **sample()** function [[12]](https://www.geeksforgeeks.org/python-pandas-dataframe-sample/). This function will display a random selection of rows from the specified dataset, aiding us in assessing the data and making informed decisions on what to remove.\""
   ]
  },
  {
   "cell_type": "code",
   "execution_count": 901,
   "metadata": {},
   "outputs": [
    {
     "name": "stdout",
     "output_type": "stream",
     "text": [
      "== Sample lines from \"violence by region\" ==\n",
      "     ITTER107                           Territory TIPO_DATO_VIOLENZA  \\\n",
      "346      ITD1  Provincia Autonoma Bolzano / Bozen     W16_70_CFP_M12   \n",
      "774      ITE4                               Lazio       W16_70_FP_LT   \n",
      "595      ITE1                             Toscana     W16_70_PNP_M12   \n",
      "914      ITF3                            Campania      W16_70_CFP_Y5   \n",
      "1185     ITG2                            Sardegna       W16_70_CP_Y5   \n",
      "\n",
      "                                              Data type       TIPOAUT  \\\n",
      "346   women aged 16-70 years who have suffered viole...  CURR_OR_FORM   \n",
      "774   women aged 16-70 years who have suffered viole...          EX_P   \n",
      "595   women aged 16-70 years who have suffered viole...           NOP   \n",
      "914   women aged 16-70 years who have suffered viole...  CURR_OR_FORM   \n",
      "1185  women aged 16-70 years who have suffered viole...        CURR_P   \n",
      "\n",
      "                            Perpetrator TIPOVIOLENZA         Type of violence  \\\n",
      "346   current partner or former partner      SEXVIOL          sexual violence   \n",
      "774                      former partner      SEXVIOL          sexual violence   \n",
      "595                     man non-partner  RAPE_OR_ATT   rape or attempted rape   \n",
      "914   current partner or former partner      SEXVIOL          sexual violence   \n",
      "1185                    current partner          PHY        physical violence   \n",
      "\n",
      "      TIME  Select time  Value  Flag Codes  Flags  \n",
      "346   2014         2014    0.4         NaN    NaN  \n",
      "774   2014         2014    8.3         NaN    NaN  \n",
      "595   2014         2014    0.1         NaN    NaN  \n",
      "914   2014         2014    2.4         NaN    NaN  \n",
      "1185  2014         2014    2.6         NaN    NaN  \n"
     ]
    }
   ],
   "source": [
    "# Printing a header to indicate that the following lines are a sample from the \"violence by region\" dataset\n",
    "print(f'== Sample lines from \"violence by region\" ==')\n",
    "# Using the sample() function to display a random selection of 5 rows from the dataset\n",
    "sample_data = violence_by_region.sample(5)\n",
    "# Printing the sampled data\n",
    "print(sample_data)"
   ]
  },
  {
   "cell_type": "markdown",
   "metadata": {},
   "source": [
    "*Dropping useless columns and renaming for better clarity*\n",
    "\n",
    "After observing the dataset, it appears that most columns contain duplicate or irrelevant data. Consequently, our initial step involves dropping empty or redundant columns using the **drop()** function [[13]](https://www.geeksforgeeks.org/how-to-drop-one-or-multiple-columns-in-pandas-dataframe/). This will be done after defining a list of columns to be dropped. \n",
    "\n",
    "Here the columnt to be removed due to irrilevant data:\n",
    "['ITTER107', 'TIPO_DATO_VIOLENZA', 'TIPOAUT', 'TIPOVIOLENZA','Select time', 'Flag Codes', 'Flags']\n",
    "\n",
    "We can them rename for clairty some of the columns. At the porpuse we will use the **rename()** function [[14]](https://pandas.pydata.org/docs/reference/api/pandas.DataFrame.rename.html), [[15]](https://www.kdnuggets.com/2022/11/4-ways-rename-pandas-columns.html). "
   ]
  },
  {
   "cell_type": "code",
   "execution_count": 902,
   "metadata": {},
   "outputs": [],
   "source": [
    "# List of columns to be removed from the 'violence_by_region' DataFrame\n",
    "columns_to_be_removed = ['ITTER107', 'TIPO_DATO_VIOLENZA', 'TIPOAUT', 'TIPOVIOLENZA',\n",
    "       'Select time', 'Flag Codes', 'Flags']\n",
    "# Remove the specified columns from the 'violence_by_region' DataFrame\n",
    "violence_by_region = violence_by_region.drop(columns=columns_to_be_removed)\n",
    "# Renaming columns in a Pandas DataFrame for clarity\n",
    "violence_by_region.rename(columns={\"TIME\": \"Year\", \n",
    "                                   'Value':'%_Violence_Territory',\n",
    "                                   'Territory': 'AreaOfResidence'}, inplace=True)"
   ]
  },
  {
   "cell_type": "markdown",
   "metadata": {},
   "source": [
    "The **%_Violence_Territory** column contains the percentage of women with those characteristics who endured violence. For better clarity, we can represent this percentage as a decimal number between 0 and 1. "
   ]
  },
  {
   "cell_type": "code",
   "execution_count": 903,
   "metadata": {},
   "outputs": [],
   "source": [
    "# Modify the format of the '%_Violence_Territory' column to be in the range [0, 1]\n",
    "violence_by_region['%_Violence_Territory'] = violence_by_region['%_Violence_Territory'] / 100"
   ]
  },
  {
   "cell_type": "markdown",
   "metadata": {},
   "source": [
    "*Remove the duplicate or not relevant rows of the dataset*\n",
    "\n",
    "After observation, we can see that some rows too contain duplicate or not relevant data. \n",
    "Focusing on the **perpetrator** column we can explore the unique() [[16]](https://pandas.pydata.org/docs/reference/api/pandas.unique.html) value to check for relevant data."
   ]
  },
  {
   "cell_type": "code",
   "execution_count": 904,
   "metadata": {},
   "outputs": [
    {
     "data": {
      "text/plain": [
       "array(['any man (partner and non-partner)', 'man non-partner',\n",
       "       'current partner or former partner', 'current partner',\n",
       "       'former partner'], dtype=object)"
      ]
     },
     "execution_count": 904,
     "metadata": {},
     "output_type": "execute_result"
    }
   ],
   "source": [
    "# Displaying unique values in the 'Perpetrator' column of the 'violence_by_region' DataFrame\n",
    "violence_by_region['Perpetrator'].unique()"
   ]
  },
  {
   "cell_type": "markdown",
   "metadata": {},
   "source": [
    "From above we can see that the only relevant value for our research is 'current partner or former partner'. All the other value are not relevant for our research.\n",
    "\n",
    "In the same way I have checked the other columns and determine what are the relevant data that need to be kept. Also some on the value name need ot be changed for a better clarity.\n",
    "\n",
    "Here the list of value to retain per columns name and the value they need to be replaced (if applycable):\n",
    "\n",
    "| Column Name        | ValueTokeep   | ReplaceWith |Reason  |\n",
    "|--------------------|--------------|-------------|-------------------------------------------------------------|\n",
    "| Type of Violence   | physical or sexual | Physical/Sexual |Keep onlly relevant value for the current study |\n",
    "| Perpetrator        | current partner or former partner | Partner/ExPartner |Keep onlly relevant value for the current study |\n",
    "| Data type          | Women aged 16-70 years who have suffered violence in the past 5 years (% of ever-partnered women 16-70 years)| Victims 16-70 - 5 years |Keep onlly relevant value for the current study|\n",
    "| AreaOfResidence   | Keep everything is not 'Italy'| ---| Eliminate duplicate values and focus on specific regions|\n",
    "\n",
    "For the porpuse a **filter_and_replace()** function will be defined. The function filters, using the **.loc** method [[16]](https://blog.hubspot.com/website/filter-rows-pandas), replaces values, using the **replace()** function in specific columns and the modified dataframe is returned. \n",
    "Finally the code keep for the column 'AreaOfResidence' the value that are not 'Italy'."
   ]
  },
  {
   "cell_type": "code",
   "execution_count": 905,
   "metadata": {},
   "outputs": [
    {
     "name": "stderr",
     "output_type": "stream",
     "text": [
      "C:\\Users\\anton\\AppData\\Local\\Temp\\ipykernel_16948\\2938192141.py:6: SettingWithCopyWarning:\n",
      "\n",
      "\n",
      "A value is trying to be set on a copy of a slice from a DataFrame.\n",
      "Try using .loc[row_indexer,col_indexer] = value instead\n",
      "\n",
      "See the caveats in the documentation: https://pandas.pydata.org/pandas-docs/stable/user_guide/indexing.html#returning-a-view-versus-a-copy\n",
      "\n"
     ]
    }
   ],
   "source": [
    "# Function to filter and replace values in the 'violence_by_region' DataFrame\n",
    "def filter_and_replace(dataframe):\n",
    "    # Filter for rows where 'Type of violence' is 'physical or sexual'\n",
    "    dataframe = dataframe.loc[dataframe['Type of violence'] == 'physical or sexual']\n",
    "    # Replace 'physical or sexual' with 'Physical/Sexual' in the 'Type of violence' column\n",
    "    dataframe['Type of violence'] = dataframe['Type of violence'].replace('physical or sexual', 'Physical/Sexual')\n",
    "    # Filter for rows where 'Perpetrator' is 'current partner or former partner'\n",
    "    dataframe = dataframe.loc[dataframe['Perpetrator'] == 'current partner or former partner']\n",
    "    # Replace 'current partner or former partner' with 'Partner/Ex Partner' in the 'Perpetrator' column\n",
    "    dataframe['Perpetrator'] = dataframe['Perpetrator'].replace('current partner or former partner', 'Partner/Ex Partner')\n",
    "    # Filter for rows where 'Data type' matches a specific condition\n",
    "    dataframe = dataframe.loc[dataframe['Data type'] == 'women aged 16-70 years who have suffered violence in the past 5 years (% of ever-partnered women 16-70 years)']\n",
    "    # Replace 'women aged 16-70 years who have suffered violence lifetime (% of ever-partnered women 16-70 years)' with 'Victims 16-70 - lifetime' in the 'Data type' column\n",
    "    dataframe['Data type'] = dataframe['Data type'].replace('women aged 16-70 years who have suffered violence in the past 5 years (% of ever-partnered women 16-70 years)', 'Victims 16-70 - 5 years')\n",
    "    return dataframe\n",
    "\n",
    "# Applying the filter_and_replace function to the 'violence_by_region' DataFrame\n",
    "violence_by_region = filter_and_replace(violence_by_region)\n",
    "\n",
    "# Filtering out rows where 'Territory' is 'Italy'\n",
    "violence_by_region = violence_by_region.loc[violence_by_region['AreaOfResidence'] != 'Italy']"
   ]
  },
  {
   "cell_type": "markdown",
   "metadata": {},
   "source": [
    "*Classifying observations in the 'AreaofResidence' column based on three main areas: North, South, and Centre*.\n",
    "\n",
    "Next, we need to determine the area of residence for each observation. The dataset categorizes observations into regions and two autonomous provinces. In Italy, regions and autonomous provinces are administrative subdivisions with varying degrees of self-governance. Italy comprises 20 regions, with 8 in the North, 4 in the Centre, and 8 in the South. Additionally, the two autonomous provinces to which the observations are assigned belong to the North. [[17]](https://www.tuttitalia.it/statistiche/nord-centro-mezzogiorno-italia/)."
   ]
  },
  {
   "cell_type": "code",
   "execution_count": 906,
   "metadata": {},
   "outputs": [],
   "source": [
    "# Define a dictionary for mapping regions to broader areas\n",
    "replacements_regions = {\n",
    "    'Liguria': 'North',\n",
    "    'Lombardia': 'North',\n",
    "    'Piemonte': 'North',\n",
    "    \"Valle d'Aosta / Vallée d'Aoste\": 'North',\n",
    "    'Emilia-Romagna': 'North',\n",
    "    'Friuli-Venezia Giulia': 'North',\n",
    "    'Trentino Alto Adige / Südtirol': 'North',\n",
    "    'Veneto': 'North',\n",
    "    'Provincia Autonoma Bolzano / Bozen': 'North',\n",
    "    'Provincia Autonoma Trento': 'North',\n",
    "    'Lazio': 'Centre',\n",
    "    'Marche': 'Centre',\n",
    "    'Toscana': 'Centre',\n",
    "    'Umbria': 'Centre',\n",
    "    'Abruzzo': 'South',\n",
    "    'Basilicata': 'South',\n",
    "    'Calabria': 'South',\n",
    "    'Campania': 'South',\n",
    "    'Molise': 'South',\n",
    "    'Puglia': 'South',\n",
    "    'Sardegna': 'South',\n",
    "    'Sicilia': 'South',\n",
    "}\n",
    "\n",
    "# Replace values in the 'AreaOfResidence' column based on the defined mapping\n",
    "violence_by_region['AreaOfResidence'] = violence_by_region['AreaOfResidence'].replace(replacements_regions)"
   ]
  },
  {
   "cell_type": "markdown",
   "metadata": {},
   "source": [
    "    - Determining the Final Probability Table\n",
    "\n",
    "Lastly, we need to generate the final table that presents the probability of a woman residing in each of the three areas experiencing physical/sexual violence from a current or former partner. This will be accomplished by utilizing the groupby() [[18]](https://realpython.com/pandas-groupby/) [[19]](https://www.geeksforgeeks.org/python-pandas-dataframe-groupby/) function and averaging the values.\n"
   ]
  },
  {
   "cell_type": "code",
   "execution_count": 907,
   "metadata": {},
   "outputs": [
    {
     "name": "stdout",
     "output_type": "stream",
     "text": [
      "  AreaOfResidence  %_Violence_Territory\n",
      "0          Centre              0.050250\n",
      "1           North              0.045900\n",
      "2           South              0.050875\n"
     ]
    }
   ],
   "source": [
    "# Grouping the 'violence_by_region' DataFrame by 'AreaOfResidence' and calculating the mean of '%_Violence_Territory' for each group\n",
    "violence_by_region_probability = violence_by_region.groupby('AreaOfResidence')['%_Violence_Territory'].mean().reset_index()\n",
    "\n",
    "# Displaying the resulting DataFrame showing the probability of violence for each area of residence\n",
    "print(violence_by_region_probability)"
   ]
  },
  {
   "cell_type": "markdown",
   "metadata": {},
   "source": [
    "To better understand the data we can now plot a bar using the **barplot()** function [[20]](https://www.geeksforgeeks.org/seaborn-barplot-method-in-python/), [[21]](https://stackoverflow.com/questions/43214978/how-to-display-custom-values-on-a-bar-plot)."
   ]
  },
  {
   "cell_type": "code",
   "execution_count": 908,
   "metadata": {},
   "outputs": [
    {
     "data": {
      "image/png": "[encoded data removed]",
      "text/plain": [
       "<Figure size 800x400 with 1 Axes>"
      ]
     },
     "metadata": {},
     "output_type": "display_data"
    }
   ],
   "source": [
    "\n",
    "# Set the style to \"whitegrid\" for the seaborn plot\n",
    "sns.set(style=\"whitegrid\")\n",
    "\n",
    "# Set the figure size for the plot\n",
    "plt.figure(figsize=(8, 4))\n",
    "\n",
    "# Creating a bar plot using seaborn\n",
    "ax = sns.barplot(x='AreaOfResidence', y='%_Violence_Territory', hue='AreaOfResidence', data=violence_by_region_probability, palette=\"viridis\")\n",
    "\n",
    "# Adding a label at the top of each bar plot \n",
    "for container in ax.containers:\n",
    "    ax.bar_label(container, fmt='%.3f')\n",
    "    \n",
    "# Adding labels and title to the plot\n",
    "plt.xlabel('Area of Residence')  # X-axis label\n",
    "plt.ylabel('Probability of Violence (%)')  # Y-axis label\n",
    "plt.title('Probability of Violence by Area of Residence')  # Title of the plot\n",
    "\n",
    "# Displaying the plot\n",
    "plt.show()"
   ]
  },
  {
   "cell_type": "markdown",
   "metadata": {},
   "source": [
    "As we can see, the area with the highest probability of experiencing violence is the South, followed by the Centre, and finally, the North. As explained before, this could be the result of multifaceted variables such as economic and cultural factors and being drive to the fact the North and Cente are the richest area in Italy. "
   ]
  },
  {
   "cell_type": "markdown",
   "metadata": {},
   "source": [
    "#### **3.2 Generating a DataFrame with 500 Entries for the Variable \"AreaOfResidence\"**"
   ]
  },
  {
   "cell_type": "markdown",
   "metadata": {},
   "source": [
    "We will create the **violence_against_women** DataFrame, comprising 500 observations of women characterized by a combination of four variables: Area of Residence, Level of Education, Occupational Status, and Marital Status. Finally it will indicate whether a woman with that specified set of characteristics will experience physical and sexual violence from a partner or ex-partner in her lifetime.\n",
    "\n",
    "As a first step, we can generate 500 observations that display the variable 'AreaOfResidence.' The entries will be divided among three areas:\n",
    "\n",
    "- North\n",
    "- South\n",
    "- Centre\n",
    "\n",
    "To generate the entries, we can use a **Random Choice function from NumPy** [[22]](https://www.geeksforgeeks.org/random-choices-method-in-python/). The random choice function allows us to randomly assign each observation to one of the specified areas based on predetermined probabilities or weights. It is the best choice for categorical variables with more than two possible outputs.\n",
    "\n",
    "To ensure the realism of our dataset, we will utilize the distribution of the Italian population from the 2020 census as predetermined probabilities or weights [[23]](https://www.istat.it/it/files/2021/12/CENSIMENTO-E-DINAMICA-DEMOGRAFICA-2020.pdf). "
   ]
  },
  {
   "cell_type": "code",
   "execution_count": 909,
   "metadata": {},
   "outputs": [
    {
     "data": {
      "text/html": [
       "<div>\n",
       "<style scoped>\n",
       "    .dataframe tbody tr th:only-of-type {\n",
       "        vertical-align: middle;\n",
       "    }\n",
       "\n",
       "    .dataframe tbody tr th {\n",
       "        vertical-align: top;\n",
       "    }\n",
       "\n",
       "    .dataframe thead th {\n",
       "        text-align: right;\n",
       "    }\n",
       "</style>\n",
       "<table border=\"1\" class=\"dataframe\">\n",
       "  <thead>\n",
       "    <tr style=\"text-align: right;\">\n",
       "      <th></th>\n",
       "      <th>AreaOfResidence</th>\n",
       "    </tr>\n",
       "  </thead>\n",
       "  <tbody>\n",
       "    <tr>\n",
       "      <th>0</th>\n",
       "      <td>North</td>\n",
       "    </tr>\n",
       "    <tr>\n",
       "      <th>1</th>\n",
       "      <td>North</td>\n",
       "    </tr>\n",
       "    <tr>\n",
       "      <th>2</th>\n",
       "      <td>North</td>\n",
       "    </tr>\n",
       "    <tr>\n",
       "      <th>3</th>\n",
       "      <td>Centre</td>\n",
       "    </tr>\n",
       "    <tr>\n",
       "      <th>4</th>\n",
       "      <td>North</td>\n",
       "    </tr>\n",
       "  </tbody>\n",
       "</table>\n",
       "</div>"
      ],
      "text/plain": [
       "  AreaOfResidence\n",
       "0           North\n",
       "1           North\n",
       "2           North\n",
       "3          Centre\n",
       "4           North"
      ]
     },
     "execution_count": 909,
     "metadata": {},
     "output_type": "execute_result"
    }
   ],
   "source": [
    "\n",
    "# Define the probabilities for each area of residence\n",
    "prob_population = {'North':0.464, 'South':0.198, 'Centre':0.338}\n",
    "# List of areas\n",
    "area_list = ['North', 'South', 'Centre']\n",
    "# Use the Random Choice function to generate 'AreaOfResidence' entries in the DataFrame\n",
    "data = np.random.choice(area_list, p=list(prob_population.values()), size=500)\n",
    "# Create the 'violence_against_women' DataFrame with the generated 'AreaOfResidence' entries\n",
    "violence_against_women = pd.DataFrame(data, columns=['AreaOfResidence'])\n",
    "\n",
    "# Display the first few rows of the DataFrame\n",
    "violence_against_women.head()\n"
   ]
  },
  {
   "cell_type": "markdown",
   "metadata": {},
   "source": [
    "### **4. Education Level**\n",
    "\n",
    "The correlation between a woman's educational background and the prevalence of violence is an aspect worth exploring. Higher educational attainment emerges as a potential safeguard, equipping women with knowledge and resources that empower them to navigate and reduce the risk of violence. Moreover, it provides easier access to economic independence, resulting in more flebity to escape from violent situations [[]](https://www.ingenere.it/articoli/fare-i-conti-con-la-violenza).\n",
    "\n",
    "For the popuse of this analysis we will devide the women in the different level of education:\n",
    "\n",
    "1. **Primary Education**: Individuals who have completed only primary school education (typically up to 13 years of age).\n",
    "2. **Secondary education**: Individuals who have successfully completed high school (typically up to 19 years of age).\n",
    "3. **Higher education**: This category encompasses all forms of higher education, including degrees, bachelor's degrees, master's degrees, PhDs, and more.\n",
    "\n",
    "As part of our analysis, we will:\n",
    "1. Calculate the probability that a woman endures physical/sexual violence from a partner and an ex-partner based on the level of education.\n",
    "2. Add to the **violence_against_women* dataset the distribution for the education level."
   ]
  },
  {
   "cell_type": "markdown",
   "metadata": {},
   "source": [
    "#### **4.1 Examining the Probability of Violence Against Women Across Different Education Levels**"
   ]
  },
  {
   "cell_type": "markdown",
   "metadata": {},
   "source": [
    "With the purpose of the analysis, we will use the dataset **violence_per_educational_level**, sourced from the ISTAT website. This dataset provides insights into the percentage of women who have experienced physical/sexual violence from a partner/ex-partner, categorized by education level. \n",
    "\n",
    "    - Import the dataset \n",
    "\n",
    "The dataset have been saved in the folder **DataSet**."
   ]
  },
  {
   "cell_type": "code",
   "execution_count": 910,
   "metadata": {},
   "outputs": [],
   "source": [
    "# Loading the CSV file into a DataFrame\n",
    "violence_per_educational_level = pd.read_csv('DataSet/violence_per_educational_level.csv')"
   ]
  },
  {
   "cell_type": "markdown",
   "metadata": {},
   "source": [
    "    - Check for missing value \n",
    "\n",
    "We can now check for missing values. Similar to previous instances, only two columns contain missing values. Since these columns are not relevant for the analysis, they will be dropped accordingly."
   ]
  },
  {
   "cell_type": "code",
   "execution_count": 911,
   "metadata": {},
   "outputs": [
    {
     "name": "stdout",
     "output_type": "stream",
     "text": [
      "== Missing values for \"violence_per_educational_level\" ==\n",
      "ITTER107                0\n",
      "Territory               0\n",
      "TIPO_DATO_VIOLENZA      0\n",
      "Data type               0\n",
      "TIPOAUT                 0\n",
      "Perpetrator             0\n",
      "TIPOVIOLENZA            0\n",
      "Type of violence        0\n",
      "TITOLO_STUDIO           0\n",
      "Educational level       0\n",
      "TIME                    0\n",
      "Select time             0\n",
      "Value                   0\n",
      "Flag Codes            300\n",
      "Flags                 300\n",
      "dtype: int64\n"
     ]
    }
   ],
   "source": [
    "# Printing a header to indicate the section related to missing values for violence per region\n",
    "print(f'== Missing values for \"violence_per_educational_level\" ==')\n",
    "# Using the isnull() function to check for missing values and summing them up\n",
    "missing_values_count = violence_per_educational_level.isnull().sum()\n",
    "# Printing the count of missing values for each column in the dataset\n",
    "print(missing_values_count)"
   ]
  },
  {
   "cell_type": "markdown",
   "metadata": {},
   "source": [
    "    - Data exploration, manipulation and cleaning \n",
    "\n",
    "*Removing useless or redundant columns and rename some of them for clarity*\n",
    "\n",
    "After observing the dataset, we can now proceed to drop columns containing irrelevant or duplicate information for our analysis. Additionally, we will rename some columns to enhance clarity.\n",
    "\n",
    "We will use the same structure used before. We will remove also the column 'Year' and 'Territory' as it has been confirmed it contain only one year observation. "
   ]
  },
  {
   "cell_type": "code",
   "execution_count": 912,
   "metadata": {},
   "outputs": [],
   "source": [
    "# List of columns to be removed from the DataFrame\n",
    "columns_to_be_removed = ['ITTER107', 'Territory', 'TIPO_DATO_VIOLENZA', 'TIME', 'TIPOAUT', 'TIPOVIOLENZA', 'TITOLO_STUDIO', 'Select time', 'Flag Codes', 'Flags']\n",
    "\n",
    "# Remove the specified columns from the 'Instruction_level_italy' DataFrame\n",
    "violence_per_educational_level = violence_per_educational_level.drop(columns=columns_to_be_removed)\n",
    "\n",
    "# Define columns to rename \n",
    "columns_to_rename = {\n",
    "    'Value': '%_Violence_Education',  # Rename 'Value' column to '%_Violence_Education'\n",
    "    'Educational level': 'Education level',  # Rename 'Educational level' column to 'Education level'\n",
    "    'Territory': 'AreaOfResidence'  # Rename 'Territory' column to 'AreaOfResidence'\n",
    "}\n",
    "\n",
    "# Use the rename method to apply the column name changes\n",
    "violence_per_educational_level = violence_per_educational_level.rename(columns=columns_to_rename)"
   ]
  },
  {
   "cell_type": "markdown",
   "metadata": {},
   "source": [
    "*Change the format of the %_Violence_Education column*\n",
    "\n",
    "We can now divide the **%_Violence_Education** value by 100 to have the percentage expressed as a number between 0 and 1. "
   ]
  },
  {
   "cell_type": "code",
   "execution_count": 913,
   "metadata": {},
   "outputs": [],
   "source": [
    "violence_per_educational_level['%_Violence_Education'] = violence_per_educational_level['%_Violence_Education']/100\n"
   ]
  },
  {
   "cell_type": "markdown",
   "metadata": {},
   "source": [
    "*Remove the duplicate or not relevant rows of the dataset*\n",
    "\n",
    "As before some columns containt duplicate value that need to be removed. \n",
    "\n",
    "Here the data that we will need to keep and replace for each columns:\n",
    "\n",
    "| Column Name        | ValueTokeep   | ReplaceWith |Reason  |\n",
    "|--------------------|--------------|-------------|-------------------------------------------------------------|\n",
    "| Type of Violence   | physical or sexual | Physical/Sexual |Keep onlly relevant value for the current study |\n",
    "| Perpetrator        | current partner or former partner | Partner/ExPartner |Keep onlly relevant value for the current study |\n",
    "| Data type          | Women aged 16-70 years who have suffered violence in the past 5 years (% of ever-partnered women 16-70 years)| Victims 16-70 - 5 years |Keep onlly relevant value for the current study|\n",
    "| Education level   | Keep everything is not 'Total'| ---| Eliminate duplicate values and focus on specific education level|\n",
    "\n",
    "As the dataset presents the same format and type of data as the previous one, we can reuse the **filter_and_replace** function defined earlier for filter the value needed and rename the rest in a more freindly way. Additionally, we will retain all entries in the 'Education level' column except for 'Total'."
   ]
  },
  {
   "cell_type": "code",
   "execution_count": 914,
   "metadata": {},
   "outputs": [
    {
     "name": "stderr",
     "output_type": "stream",
     "text": [
      "C:\\Users\\anton\\AppData\\Local\\Temp\\ipykernel_16948\\2938192141.py:6: SettingWithCopyWarning:\n",
      "\n",
      "\n",
      "A value is trying to be set on a copy of a slice from a DataFrame.\n",
      "Try using .loc[row_indexer,col_indexer] = value instead\n",
      "\n",
      "See the caveats in the documentation: https://pandas.pydata.org/pandas-docs/stable/user_guide/indexing.html#returning-a-view-versus-a-copy\n",
      "\n"
     ]
    }
   ],
   "source": [
    "# Filtering the DataFrame to select specific rows based on conditions\n",
    "\n",
    "# call the function to filter and replace column 'Perpetrator' and 'DataType' previously defined\n",
    "violence_per_educational_level = filter_and_replace(violence_per_educational_level)\n",
    "# remove line total from educational level\n",
    "violence_per_educational_level = violence_per_educational_level.loc[violence_per_educational_level['Education level'] != 'total']"
   ]
  },
  {
   "cell_type": "code",
   "execution_count": 915,
   "metadata": {},
   "outputs": [
    {
     "data": {
      "text/html": [
       "<div>\n",
       "<style scoped>\n",
       "    .dataframe tbody tr th:only-of-type {\n",
       "        vertical-align: middle;\n",
       "    }\n",
       "\n",
       "    .dataframe tbody tr th {\n",
       "        vertical-align: top;\n",
       "    }\n",
       "\n",
       "    .dataframe thead th {\n",
       "        text-align: right;\n",
       "    }\n",
       "</style>\n",
       "<table border=\"1\" class=\"dataframe\">\n",
       "  <thead>\n",
       "    <tr style=\"text-align: right;\">\n",
       "      <th></th>\n",
       "      <th>Data type</th>\n",
       "      <th>Perpetrator</th>\n",
       "      <th>Type of violence</th>\n",
       "      <th>Education level</th>\n",
       "      <th>%_Violence_Education</th>\n",
       "    </tr>\n",
       "  </thead>\n",
       "  <tbody>\n",
       "    <tr>\n",
       "      <th>172</th>\n",
       "      <td>Victims 16-70 - 5 years</td>\n",
       "      <td>Partner/Ex Partner</td>\n",
       "      <td>Physical/Sexual</td>\n",
       "      <td>diploma of upper secondary education and Certi...</td>\n",
       "      <td>0.052</td>\n",
       "    </tr>\n",
       "    <tr>\n",
       "      <th>173</th>\n",
       "      <td>Victims 16-70 - 5 years</td>\n",
       "      <td>Partner/Ex Partner</td>\n",
       "      <td>Physical/Sexual</td>\n",
       "      <td>no educational degree, final assessment (Prima...</td>\n",
       "      <td>0.026</td>\n",
       "    </tr>\n",
       "    <tr>\n",
       "      <th>174</th>\n",
       "      <td>Victims 16-70 - 5 years</td>\n",
       "      <td>Partner/Ex Partner</td>\n",
       "      <td>Physical/Sexual</td>\n",
       "      <td>diploma of lower secondary education</td>\n",
       "      <td>0.050</td>\n",
       "    </tr>\n",
       "    <tr>\n",
       "      <th>175</th>\n",
       "      <td>Victims 16-70 - 5 years</td>\n",
       "      <td>Partner/Ex Partner</td>\n",
       "      <td>Physical/Sexual</td>\n",
       "      <td>university diploma, bachelor’s degree, master’...</td>\n",
       "      <td>0.061</td>\n",
       "    </tr>\n",
       "  </tbody>\n",
       "</table>\n",
       "</div>"
      ],
      "text/plain": [
       "                   Data type         Perpetrator Type of violence  \\\n",
       "172  Victims 16-70 - 5 years  Partner/Ex Partner  Physical/Sexual   \n",
       "173  Victims 16-70 - 5 years  Partner/Ex Partner  Physical/Sexual   \n",
       "174  Victims 16-70 - 5 years  Partner/Ex Partner  Physical/Sexual   \n",
       "175  Victims 16-70 - 5 years  Partner/Ex Partner  Physical/Sexual   \n",
       "\n",
       "                                       Education level  %_Violence_Education  \n",
       "172  diploma of upper secondary education and Certi...                 0.052  \n",
       "173  no educational degree, final assessment (Prima...                 0.026  \n",
       "174               diploma of lower secondary education                 0.050  \n",
       "175  university diploma, bachelor’s degree, master’...                 0.061  "
      ]
     },
     "execution_count": 915,
     "metadata": {},
     "output_type": "execute_result"
    }
   ],
   "source": [
    "violence_per_educational_level"
   ]
  },
  {
   "cell_type": "code",
   "execution_count": 916,
   "metadata": {},
   "outputs": [
    {
     "data": {
      "text/plain": [
       "Education level\n",
       "diploma of upper secondary education and Certification of higher technical specialisation     1\n",
       "no educational degree, final assessment (Primary school)                                      1\n",
       "diploma of lower secondary education                                                          1\n",
       "university diploma, bachelor’s degree, master’s degree, academy Conservatory old programme    1\n",
       "Name: count, dtype: int64"
      ]
     },
     "execution_count": 916,
     "metadata": {},
     "output_type": "execute_result"
    }
   ],
   "source": [
    "violence_per_educational_level['Education level'].value_counts()"
   ]
  },
  {
   "cell_type": "markdown",
   "metadata": {},
   "source": [
    "*Mapping the education level in the three main categories*\n",
    "\n",
    "The dataset contains various observations for the 'Education level' column, reflecting the diversity of educational levels that can be reach in Italy. However, for the purpose of this study, we aim to classify them into three main categories:\n",
    "\n",
    "1. Primary education\n",
    "2. Secondary education\n",
    "3. Higher education\n",
    "\n",
    "Here are the main categories assigned to each unique value in the 'Education level' column:\n",
    "\n",
    "| Main Category          | Education Level                                                |\n",
    "|------------------------|----------------------------------------------------------------|\n",
    "| Secondary Education    | diploma of upper secondary education and Certification of higher technical specialisation |\n",
    "| Primary Education      | no educational degree, final assessment (Primary school)        |\n",
    "| Primary Education     | diploma of lower secondary education                           |\n",
    "| Higher Education       | university diploma, bachelor’s degree, master’s degree, academy Conservatory old programme |\n",
    "\n",
    "The substituction will be performad using .str.contains() [[]](https://pandas.pydata.org/docs/reference/api/pandas.Series.str.contains.html), [[]](https://stackoverflow.com/questions/39768547/replace-whole-string-if-it-contains-substring-in-pandas)."
   ]
  },
  {
   "cell_type": "code",
   "execution_count": 917,
   "metadata": {},
   "outputs": [],
   "source": [
    "# Assign 'Primary Education' to values containing 'Primary school' or 'diploma of lower' in the 'Education level' column\n",
    "violence_per_educational_level.loc[violence_per_educational_level['Education level'].str.contains('Primary school'), 'Education level'] = 'Primary Education'\n",
    "violence_per_educational_level.loc[violence_per_educational_level['Education level'].str.contains('diploma of lower'), 'Education level'] = 'Primary Education'\n",
    "\n",
    "# Substitute values containing the word \"laurea\" in the 'Education level' column with 'Higher Education'\n",
    "violence_per_educational_level.loc[violence_per_educational_level['Education level'].str.contains('university'), 'Education level'] = 'Higher Education'\n",
    "\n",
    "# Substitute values containing the word \"diploma\" in the 'Education level' column with 'Secondary Education'\n",
    "violence_per_educational_level.loc[violence_per_educational_level['Education level'].str.contains('diploma of upper'), 'Education level'] = 'Secondary Education'\n"
   ]
  },
  {
   "cell_type": "markdown",
   "metadata": {},
   "source": [
    "    - Determining the Final Probability Table\n",
    "\n",
    "Finally We can extract the final table showing the probability that a women endure fisical and sexual violence by the partner/ex parter in 5 years time. "
   ]
  },
  {
   "cell_type": "code",
   "execution_count": 918,
   "metadata": {},
   "outputs": [
    {
     "data": {
      "text/html": [
       "<div>\n",
       "<style scoped>\n",
       "    .dataframe tbody tr th:only-of-type {\n",
       "        vertical-align: middle;\n",
       "    }\n",
       "\n",
       "    .dataframe tbody tr th {\n",
       "        vertical-align: top;\n",
       "    }\n",
       "\n",
       "    .dataframe thead th {\n",
       "        text-align: right;\n",
       "    }\n",
       "</style>\n",
       "<table border=\"1\" class=\"dataframe\">\n",
       "  <thead>\n",
       "    <tr style=\"text-align: right;\">\n",
       "      <th></th>\n",
       "      <th>Education level</th>\n",
       "      <th>%_Violence_Education</th>\n",
       "    </tr>\n",
       "  </thead>\n",
       "  <tbody>\n",
       "    <tr>\n",
       "      <th>0</th>\n",
       "      <td>Higher Education</td>\n",
       "      <td>0.061</td>\n",
       "    </tr>\n",
       "    <tr>\n",
       "      <th>1</th>\n",
       "      <td>Primary Education</td>\n",
       "      <td>0.038</td>\n",
       "    </tr>\n",
       "    <tr>\n",
       "      <th>2</th>\n",
       "      <td>Secondary Education</td>\n",
       "      <td>0.052</td>\n",
       "    </tr>\n",
       "  </tbody>\n",
       "</table>\n",
       "</div>"
      ],
      "text/plain": [
       "       Education level  %_Violence_Education\n",
       "0     Higher Education                 0.061\n",
       "1    Primary Education                 0.038\n",
       "2  Secondary Education                 0.052"
      ]
     },
     "execution_count": 918,
     "metadata": {},
     "output_type": "execute_result"
    }
   ],
   "source": [
    "# Group the DataFrame by 'Education level'\n",
    "violence_educational_level_probability = violence_per_educational_level.groupby('Education level')['%_Violence_Education'].mean().reset_index()\n",
    "\n",
    "# Display the resulting DataFrame showing the mean probability of violence for each education level\n",
    "violence_educational_level_probability"
   ]
  },
  {
   "cell_type": "code",
   "execution_count": 919,
   "metadata": {},
   "outputs": [
    {
     "data": {
      "image/png": "[encoded data removed]",
      "text/plain": [
       "<Figure size 800x400 with 1 Axes>"
      ]
     },
     "metadata": {},
     "output_type": "display_data"
    }
   ],
   "source": [
    "# Set the style to \"whitegrid\" for the seaborn plot\n",
    "sns.set(style=\"whitegrid\")\n",
    "\n",
    "# Set the figure size for the plot\n",
    "plt.figure(figsize=(8, 4))\n",
    "\n",
    "# Creating a bar plot using seaborn\n",
    "ax = sns.barplot(x='Education level', y='%_Violence_Education', hue='Education level', data=violence_educational_level_probability, palette=\"viridis\")\n",
    "\n",
    "# Adding a label at the top of each bar plot \n",
    "for container in ax.containers:\n",
    "    ax.bar_label(container, fmt='%.3f')\n",
    "    \n",
    "# Adding labels and title to the plot\n",
    "plt.xlabel('Education level')  # X-axis label\n",
    "plt.ylabel('Probability of Violence (%)')  # Y-axis label\n",
    "plt.title('Probability of Violence by Education level')  # Title of the plot\n",
    "\n",
    "# Displaying the plot\n",
    "plt.show()"
   ]
  },
  {
   "cell_type": "markdown",
   "metadata": {},
   "source": [
    "As evident from the data, women with higher levels of education seem to have a higher probability of experiencing violence over the past five years. This observation, in my opinion, can be attributed to the age distribution within educational levels. Typically, women attain secondary education around the age of 19 and higher education around the age of 23.\n",
    "\n",
    "Younger women and older women, who are more likely to have only a primary level of education in the long term, fall into the primary education category. Due to their demographic age, these groups of women have a lower probability of experiencing violence from their partner/ex-partner. This explains why women with primary education are less impacted by violence experiences in the last five years.\n",
    "\n",
    "Similarly, women with secondary education are often not from the younger generation, and due to their age, they may be less exposed to such phenomena. The observed trends in violence probability across education levels can be contextualized by considering the demographic age distribution within each educational category. "
   ]
  },
  {
   "cell_type": "markdown",
   "metadata": {},
   "source": [
    "#####  **4.2 Calculate the education level divided per region of women with age 15+ years and add the distribution to the violence against women dataset**\n",
    "\n",
    "The aim of this section is to calculate the probability that a woman falls into a particular level of education for each region of residence. It is known that in Italy, the education level in the North is higher than in the South. ISTAT [[]](https://www.istat.it/it/files/2022/10/Livelli-di-istruzione-e-ritorni-occupazionali-anno-2021.pdf) reveals a significant gap in education levels between the North/Central and the South, primarily due to economic differences.\n",
    "\n",
    "Considering this regional variation, the distribution of educational levels in the 'violence_against_women' dataset needs to be based on the 'Area of Residence' column.\n",
    "\n",
    "Once the probabilities for each level of education and by region are determined, these probabilities will be combined with a random choice distribution to populate the 'Education Level' column in the 'violence_against_women' dataset.\n",
    "\n",
    "**4.2.1. Determine the probability of each level of education by Area of Residence** \n",
    "\n",
    "The purpose of this part is to determine the percentage of women aged 15 and above with various levels of education devided per area of residence: the North, Central, and Southern regions. This percentage will be then used to create the relevant distribution in the **violence_against_woman** dataset.\n",
    "\n",
    "The data used for this estimation, saved in the data folder as **Instruction_level_italy**, has been downloaded from the ISTAT website [[]](https://esploradati.istat.it/databrowser/#/it/dw/categories/IT1,Z0820EDU,1.0/DCCV_POPTIT1_UNT2020/IT1,52_1194_DF_DCCV_POPTIT1_UNT2020_2,1.0). \n",
    "The selected dataset, titled contains information on different levels of education for residents in Italy age 15 to 70, reported in thousands.\n",
    "\n",
    "    - Import the dataset"
   ]
  },
  {
   "cell_type": "code",
   "execution_count": 920,
   "metadata": {},
   "outputs": [],
   "source": [
    "# read the dataset \n",
    "education_level_italy = pd.read_csv('DataSet/Instruction_level_italy.csv')"
   ]
  },
  {
   "cell_type": "markdown",
   "metadata": {},
   "source": [
    "    - Check for the missing value \n",
    "\n",
    "We can now check the missing value. Same as before, only 2 columns shows missing value but those 2 columns are not relevant with the analysis and they will be dropped. "
   ]
  },
  {
   "cell_type": "code",
   "execution_count": 921,
   "metadata": {},
   "outputs": [
    {
     "name": "stdout",
     "output_type": "stream",
     "text": [
      "== Missing values for \"violence_educational_level_probability\" ==\n",
      "ITTER107                0\n",
      "Territorio              0\n",
      "TIPO_DATO_FOL           0\n",
      "Tipo dato               0\n",
      "SEXISTAT1               0\n",
      "Sesso                   0\n",
      "ETA1                    0\n",
      "Classe di età           0\n",
      "TITOLO_STUDIO           0\n",
      "Titolo di studio        0\n",
      "TIME                    0\n",
      "Seleziona periodo       0\n",
      "Value                   0\n",
      "Flag Codes           8604\n",
      "Flags                8604\n",
      "dtype: int64\n"
     ]
    }
   ],
   "source": [
    "# Printing a header to indicate the section related to missing values for violence per region\n",
    "print(f'== Missing values for \"violence_educational_level_probability\" ==')\n",
    "# Using the isnull() function to check for missing values and summing them up\n",
    "missing_values_count = education_level_italy.isnull().sum()\n",
    "# Printing the count of missing values for each column in the dataset\n",
    "print(missing_values_count)"
   ]
  },
  {
   "cell_type": "markdown",
   "metadata": {},
   "source": [
    "    - Data exploration, manipulation and cleaning \n",
    "\n",
    "*Removing useless or redundant columns and rename some of them for clarity*\n",
    "\n",
    "Upon examining the dataset, I have identified several columns that can be removed because they are not relevant for the analysis or because they contain redundant information.\n",
    "\n",
    "These columns include: ['ITTER107', 'TIPO_DATO_FOL', 'SEXISTAT1', 'Tipo dato', 'ETA1', 'TITOLO_STUDIO', 'TIME', 'Flag Codes', 'Flags']."
   ]
  },
  {
   "cell_type": "code",
   "execution_count": 922,
   "metadata": {},
   "outputs": [],
   "source": [
    "# List of columns to be removed from the DataFrame\n",
    "columns_to_be_removed = ['ITTER107', 'TIPO_DATO_FOL', 'SEXISTAT1', 'Tipo dato', 'ETA1', 'TITOLO_STUDIO', 'TIME', 'Flag Codes', 'Flags']\n",
    "\n",
    "# Remove the specified columns from the 'Instruction_level_italy' DataFrame\n",
    "education_level_italy = education_level_italy.drop(columns=columns_to_be_removed)"
   ]
  },
  {
   "cell_type": "markdown",
   "metadata": {},
   "source": [
    "We can now replace the colum name with a more understandacle meaning for english speaker using The rename() function [[A]](https://www.kdnuggets.com/2022/11/4-ways-rename-pandas-columns.html)."
   ]
  },
  {
   "cell_type": "code",
   "execution_count": 923,
   "metadata": {},
   "outputs": [],
   "source": [
    "# Renaming columns in a Pandas DataFrame\n",
    "education_level_italy.rename(\n",
    "    columns={\"Territorio\": \"AreaOfResidence\", \n",
    "             \"Sesso\": \"Sex\", \n",
    "             \"Titolo di studio\": \"Education level\",\n",
    "             \"Seleziona periodo\": \"Year of observation\",\n",
    "             \"Classe di età\": \"Age\"\n",
    "             },\n",
    "    inplace=True\n",
    ")"
   ]
  },
  {
   "cell_type": "markdown",
   "metadata": {},
   "source": [
    "*Remove Duplicate or Irrelevant Rows and Rename Values for Clarity*\n",
    "\n",
    "The dataset contains numerous redundant or irrelevant values that require removal. Additionally, certain values need to be renamed for improved clarity.\n",
    "\n",
    "Here are the values to be retained for each column [[]](https://datatofish.com/replace-values-pandas-dataframe/):\n",
    "\n",
    "| Column                | Value To Keep                 | Replace With                | Reason   |\n",
    "|-----------------------|-------------------------------|-----------------------------|---------------|\n",
    "| 'Sex'                 | 'Femmine'                     | 'Female'                    | Only women are relevant for the study                                    |\n",
    "| 'Year of observation' | '2020'                        | ---                         | Keep the last full year observation                                      |\n",
    "| 'AreaOfObservation'   | 'Mezzogiorno', 'Centro', 'Nord'| 'South', 'Centre', 'North'  | Retain relevant observations; others are redundant due to overlap        |\n",
    "| 'Education Level'     | All except 'Totale' | --- | Remove 'Total' values as they are redundant due to overlap |\n",
    "| Classe di età | 15-64 anni | 15-64 | Retain relevant observations; others are redundant due to overlap        |\n"
   ]
  },
  {
   "cell_type": "code",
   "execution_count": 924,
   "metadata": {},
   "outputs": [],
   "source": [
    "# keep only the rows with value \"femmmine\" in the sex colum\n",
    "education_level_italy = education_level_italy.loc[education_level_italy['Sex'] == 'femmine']\n",
    "# replace \"femmine\" with \"female\"\n",
    "education_level_italy['Sex']=education_level_italy['Sex'].replace(\"femmine\", \"Female\")\n",
    "# keep only the rows with value \"15 anni e più\" in the Age column\n",
    "education_level_italy = education_level_italy.loc[education_level_italy['Age'] == '15-64 anni']\n",
    "# replace \"15 anni e più\" with \"15+\"\n",
    "education_level_italy['Sex']=education_level_italy['Sex'].replace('15-64 anni', \"15-64\")"
   ]
  },
  {
   "cell_type": "code",
   "execution_count": 925,
   "metadata": {},
   "outputs": [],
   "source": [
    "# keep only the rows with value \"2020\" in the 'Year of observation' column\n",
    "education_level_italy = education_level_italy.loc[education_level_italy['Year of observation'] == '2020']\n",
    "\n",
    "# Remove rows with 'totale' value in the 'Education level' columns \n",
    "education_level_italy = education_level_italy.loc[education_level_italy['Education level'] != 'totale']"
   ]
  },
  {
   "cell_type": "code",
   "execution_count": 926,
   "metadata": {},
   "outputs": [],
   "source": [
    "# List of values to be selected from the 'Region' column\n",
    "filter_list = ['Nord-est', 'Nord-ovest', 'Italia']\n",
    "\n",
    "# Filter the DataFrame 'Instruction_level_italy' to exclude rows where 'Territorio' is in the 'filter_list'\n",
    "education_level_italy = education_level_italy.loc[~education_level_italy['AreaOfResidence'].isin(filter_list)]\n",
    "\n",
    "# replace mezzogiorno, centro and nord\n",
    "value_to_be_replaced = {\"Mezzogiorno\": \"South\",\n",
    "                        \"Centro\": \"Centre\",\n",
    "                        \"Nord\":\"North\"\n",
    "                        }\n",
    "education_level_italy['AreaOfResidence'] = education_level_italy['AreaOfResidence'].replace(value_to_be_replaced)"
   ]
  },
  {
   "cell_type": "markdown",
   "metadata": {},
   "source": [
    "*Mapping the education level in the three main categories*\n",
    "\n",
    "We will know to map each value in the 'Education Level' column into the three main categories: **Primary Education**, **Secondary Education** and **Higher Education**.\n",
    "\n",
    "Here the mapping for each unique value in the column:\n",
    "\n",
    "| MainCategory                | EducationLevel |          \n",
    "|-------------------------|---------------|\n",
    "| Primary Education    | licenza di scuola elementare, nessun titolo di studio | \n",
    "| Primary Education  | licenza di scuola media        | \n",
    "| Secondary Education   | diploma 2-3 anni (qualifica professionale)|\n",
    "| Secondary Education   | diploma 4-5 anni (maturità)|\n",
    "|Higher Education|laurea e post-laurea|\n",
    "\n",
    "The replace will be done with the pandas metho str.contain.\n"
   ]
  },
  {
   "cell_type": "code",
   "execution_count": 927,
   "metadata": {},
   "outputs": [],
   "source": [
    "\n",
    "# substitute the value that contain the word \"scuola\" in the education level column with 'Primary education'A\n",
    "education_level_italy.loc[education_level_italy['Education level'].str.contains('scuola'), 'Education level'] = 'Primary Education'\n",
    "\n",
    "# substitute the value that contain the word \"diploma\" in the education level column with 'high school'\n",
    "education_level_italy.loc[education_level_italy['Education level'].str.contains('diploma'), 'Education level'] = 'Secondary Education'\n",
    "\n",
    "# substitute the value that contain the word \"laurea\" in the education level column with 'higher education'\n",
    "education_level_italy.loc[education_level_italy['Education level'].str.contains('laurea'), 'Education level'] = 'Higher Education'"
   ]
  },
  {
   "cell_type": "markdown",
   "metadata": {},
   "source": [
    "     - Determing the final probability of each levle of education divided by Area of residence\n",
    "\n",
    "We can first calculate the probability of each level of education divided by region. We use the *groupby* operation to group the data by the 'Region' column and calculate the sum of the values for each group. Afterward, we utilize the *map* [[]](https://www.geeksforgeeks.org/python-map-function/) [[]](ttps://sparkbyexamples.com/pandas/pandas-map-function-explained/) [[]](https://practicaldatascience.co.uk/data-science/how-to-use-the-pandas-map-function) function to create a new column, '%_Education_level', based on the total value of the corresponding region."
   ]
  },
  {
   "cell_type": "code",
   "execution_count": 928,
   "metadata": {},
   "outputs": [],
   "source": [
    "# Group the dataframe education_level_italy to remove not needed column, groups the row and sum the values\n",
    "education_level_italy = education_level_italy.groupby(['AreaOfResidence', 'Education level'])['Value'].sum().reset_index()"
   ]
  },
  {
   "cell_type": "code",
   "execution_count": 929,
   "metadata": {},
   "outputs": [],
   "source": [
    "# Grouping the DataFrame by 'AreaOfResidence' and summing up the 'Value' column for each region\n",
    "region_groups = education_level_italy.groupby('AreaOfResidence')['Value'].sum()\n",
    "\n",
    "# Creating a new column '%_Education_level' by dividing the 'Value' column by the sum of values for its corresponding region\n",
    "education_level_italy['%_Education_level'] = education_level_italy['Value'] / education_level_italy['AreaOfResidence'].map(region_groups)"
   ]
  },
  {
   "cell_type": "markdown",
   "metadata": {},
   "source": [
    "Finally, we will need to determine the final probability table dropping the value columns and display it. "
   ]
  },
  {
   "cell_type": "code",
   "execution_count": 930,
   "metadata": {},
   "outputs": [],
   "source": [
    "#Drop the Value column\n",
    "education_level_italy.drop(columns=['Value'], inplace=True)"
   ]
  },
  {
   "cell_type": "code",
   "execution_count": 931,
   "metadata": {},
   "outputs": [
    {
     "data": {
      "text/html": [
       "<div>\n",
       "<style scoped>\n",
       "    .dataframe tbody tr th:only-of-type {\n",
       "        vertical-align: middle;\n",
       "    }\n",
       "\n",
       "    .dataframe tbody tr th {\n",
       "        vertical-align: top;\n",
       "    }\n",
       "\n",
       "    .dataframe thead th {\n",
       "        text-align: right;\n",
       "    }\n",
       "</style>\n",
       "<table border=\"1\" class=\"dataframe\">\n",
       "  <thead>\n",
       "    <tr style=\"text-align: right;\">\n",
       "      <th></th>\n",
       "      <th>AreaOfResidence</th>\n",
       "      <th>Education level</th>\n",
       "      <th>%_Education_level</th>\n",
       "    </tr>\n",
       "  </thead>\n",
       "  <tbody>\n",
       "    <tr>\n",
       "      <th>0</th>\n",
       "      <td>Centre</td>\n",
       "      <td>Higher Education</td>\n",
       "      <td>0.248352</td>\n",
       "    </tr>\n",
       "    <tr>\n",
       "      <th>1</th>\n",
       "      <td>Centre</td>\n",
       "      <td>Primary Education</td>\n",
       "      <td>0.315216</td>\n",
       "    </tr>\n",
       "    <tr>\n",
       "      <th>2</th>\n",
       "      <td>Centre</td>\n",
       "      <td>Secondary Education</td>\n",
       "      <td>0.436432</td>\n",
       "    </tr>\n",
       "    <tr>\n",
       "      <th>3</th>\n",
       "      <td>North</td>\n",
       "      <td>Higher Education</td>\n",
       "      <td>0.218951</td>\n",
       "    </tr>\n",
       "    <tr>\n",
       "      <th>4</th>\n",
       "      <td>North</td>\n",
       "      <td>Primary Education</td>\n",
       "      <td>0.335915</td>\n",
       "    </tr>\n",
       "    <tr>\n",
       "      <th>5</th>\n",
       "      <td>North</td>\n",
       "      <td>Secondary Education</td>\n",
       "      <td>0.445134</td>\n",
       "    </tr>\n",
       "    <tr>\n",
       "      <th>6</th>\n",
       "      <td>South</td>\n",
       "      <td>Higher Education</td>\n",
       "      <td>0.165541</td>\n",
       "    </tr>\n",
       "    <tr>\n",
       "      <th>7</th>\n",
       "      <td>South</td>\n",
       "      <td>Primary Education</td>\n",
       "      <td>0.449849</td>\n",
       "    </tr>\n",
       "    <tr>\n",
       "      <th>8</th>\n",
       "      <td>South</td>\n",
       "      <td>Secondary Education</td>\n",
       "      <td>0.384610</td>\n",
       "    </tr>\n",
       "  </tbody>\n",
       "</table>\n",
       "</div>"
      ],
      "text/plain": [
       "  AreaOfResidence      Education level  %_Education_level\n",
       "0          Centre     Higher Education           0.248352\n",
       "1          Centre    Primary Education           0.315216\n",
       "2          Centre  Secondary Education           0.436432\n",
       "3           North     Higher Education           0.218951\n",
       "4           North    Primary Education           0.335915\n",
       "5           North  Secondary Education           0.445134\n",
       "6           South     Higher Education           0.165541\n",
       "7           South    Primary Education           0.449849\n",
       "8           South  Secondary Education           0.384610"
      ]
     },
     "execution_count": 931,
     "metadata": {},
     "output_type": "execute_result"
    }
   ],
   "source": [
    "#Display the education_level_italy probability\n",
    "education_level_italy"
   ]
  },
  {
   "cell_type": "code",
   "execution_count": 932,
   "metadata": {},
   "outputs": [
    {
     "data": {
      "text/html": [
       "<div>\n",
       "<style scoped>\n",
       "    .dataframe tbody tr th:only-of-type {\n",
       "        vertical-align: middle;\n",
       "    }\n",
       "\n",
       "    .dataframe tbody tr th {\n",
       "        vertical-align: top;\n",
       "    }\n",
       "\n",
       "    .dataframe thead th {\n",
       "        text-align: right;\n",
       "    }\n",
       "</style>\n",
       "<table border=\"1\" class=\"dataframe\">\n",
       "  <thead>\n",
       "    <tr style=\"text-align: right;\">\n",
       "      <th></th>\n",
       "      <th>AreaOfResidence</th>\n",
       "      <th>Education level</th>\n",
       "      <th>%_Education_level</th>\n",
       "    </tr>\n",
       "  </thead>\n",
       "  <tbody>\n",
       "    <tr>\n",
       "      <th>0</th>\n",
       "      <td>Centre</td>\n",
       "      <td>Higher Education</td>\n",
       "      <td>0.248352</td>\n",
       "    </tr>\n",
       "    <tr>\n",
       "      <th>1</th>\n",
       "      <td>Centre</td>\n",
       "      <td>Primary Education</td>\n",
       "      <td>0.315216</td>\n",
       "    </tr>\n",
       "    <tr>\n",
       "      <th>2</th>\n",
       "      <td>Centre</td>\n",
       "      <td>Secondary Education</td>\n",
       "      <td>0.436432</td>\n",
       "    </tr>\n",
       "    <tr>\n",
       "      <th>3</th>\n",
       "      <td>North</td>\n",
       "      <td>Higher Education</td>\n",
       "      <td>0.218951</td>\n",
       "    </tr>\n",
       "    <tr>\n",
       "      <th>4</th>\n",
       "      <td>North</td>\n",
       "      <td>Primary Education</td>\n",
       "      <td>0.335915</td>\n",
       "    </tr>\n",
       "    <tr>\n",
       "      <th>5</th>\n",
       "      <td>North</td>\n",
       "      <td>Secondary Education</td>\n",
       "      <td>0.445134</td>\n",
       "    </tr>\n",
       "    <tr>\n",
       "      <th>6</th>\n",
       "      <td>South</td>\n",
       "      <td>Higher Education</td>\n",
       "      <td>0.165541</td>\n",
       "    </tr>\n",
       "    <tr>\n",
       "      <th>7</th>\n",
       "      <td>South</td>\n",
       "      <td>Primary Education</td>\n",
       "      <td>0.449849</td>\n",
       "    </tr>\n",
       "    <tr>\n",
       "      <th>8</th>\n",
       "      <td>South</td>\n",
       "      <td>Secondary Education</td>\n",
       "      <td>0.384610</td>\n",
       "    </tr>\n",
       "  </tbody>\n",
       "</table>\n",
       "</div>"
      ],
      "text/plain": [
       "  AreaOfResidence      Education level  %_Education_level\n",
       "0          Centre     Higher Education           0.248352\n",
       "1          Centre    Primary Education           0.315216\n",
       "2          Centre  Secondary Education           0.436432\n",
       "3           North     Higher Education           0.218951\n",
       "4           North    Primary Education           0.335915\n",
       "5           North  Secondary Education           0.445134\n",
       "6           South     Higher Education           0.165541\n",
       "7           South    Primary Education           0.449849\n",
       "8           South  Secondary Education           0.384610"
      ]
     },
     "execution_count": 932,
     "metadata": {},
     "output_type": "execute_result"
    }
   ],
   "source": [
    "# Display the 'education_level_italy' table \n",
    "education_level_italy"
   ]
  },
  {
   "cell_type": "markdown",
   "metadata": {},
   "source": [
    "Consistent with expectations, it appears that the North and the Centre regions exhibit higher rates of women with higher and secondary education compared to the South, which shows an higher rate of women with only primary education. This pattern can be visualized with a plot."
   ]
  },
  {
   "cell_type": "code",
   "execution_count": 933,
   "metadata": {},
   "outputs": [
    {
     "data": {
      "image/png": "[encoded data removed]",
      "text/plain": [
       "<Figure size 1200x600 with 1 Axes>"
      ]
     },
     "metadata": {},
     "output_type": "display_data"
    }
   ],
   "source": [
    "# Set the style to \"whitegrid\" for the seaborn plot\n",
    "sns.set(style=\"whitegrid\")\n",
    "\n",
    "# Set the figure size for the plot\n",
    "plt.figure(figsize=(12, 6))\n",
    "\n",
    "# Creating a bar plot using seaborn\n",
    "ax = sns.barplot(x='AreaOfResidence', y='%_Education_level', hue='Education level', data=education_level_italy, palette=\"plasma\")\n",
    "\n",
    "# Adding a label at the top of each bar plot \n",
    "for container in ax.containers:\n",
    "    ax.bar_label(container, fmt='%.3f')\n",
    "\n",
    "# Adding labels and title to the plot\n",
    "plt.xlabel('Area of Residence')  # X-axis label\n",
    "plt.ylabel('Percentage of Education Level')  # Y-axis label\n",
    "plt.title('Distribution of Education Levels by Area of Residence')  # Title of the plot\n",
    "\n",
    "# Displaying the legend\n",
    "plt.legend(title='Education Level', bbox_to_anchor=(1.05, 1), loc='upper left')\n",
    "\n",
    "# Displaying the plot\n",
    "plt.show()"
   ]
  },
  {
   "cell_type": "markdown",
   "metadata": {},
   "source": [
    "**4.2.2. Create the columns \"Education level\" on the \"violence_against_women\" dataset** \n",
    "\n",
    "Finally for this section we will need now use the probability for each level of education by Area of residence to calculate the distribution tht will populate the \"Educational level\" column. Below an explanation of the code used.\n",
    "\n",
    "<details>\n",
    "           <summary>Code comments</summary>\n",
    "           <p>\n",
    "\n",
    "**Grouping by Region**:This line groups the education_level_italy DataFrame by the 'AreaOfResidence' column and selects the '%_Education_level' column. The result is a grouped object.\n",
    "\n",
    "```python\n",
    "grouped_education = education_level_italy.groupby('AreaOfResidence')['%_Education_level']\n",
    "```\n",
    "**List of Education Levels**:This line creates a list containing the possible education levels.\n",
    "```python\n",
    "education_List = ['Secondary Education', 'Primary Education', 'Higher Education']\n",
    "```\n",
    "**Sampling Education Levels Function**: This function takes a row from the violence_against_women DataFrame, extracts the 'AreaOfResidence', gets the corresponding probabilities for education levels from the grouped object, and then uses numpy's random.choice to sample an education level based on these probabilities.\n",
    "```python\n",
    "def Education_level(row):\n",
    "    region = row['AreaOfResidence']\n",
    "    probabilities = grouped_education.get_group(region).values\n",
    "    education = np.random.choice(education_List, p=probabilities)\n",
    "    return education\n",
    "```\n",
    "**Applying the Function**: This line applies the Education_level function to each row of the violence_against_women DataFrame along the axis=1 (row-wise) and creates a new column 'Education level' with the sampled education levels.\n",
    "\n",
    "```python\n",
    "violence_against_women[\"Education level\"] = violence_against_women.apply(Education_level, axis=1)\n",
    "```\n"
   ]
  },
  {
   "cell_type": "code",
   "execution_count": 934,
   "metadata": {},
   "outputs": [],
   "source": [
    "# Group 'education_level_italy' by 'AreaOfResidence' and select the '%_Education_level' column\n",
    "grouped_education = education_level_italy.groupby('AreaOfResidence')['%_Education_level']\n",
    "# List of possible education levels\n",
    "education_List = ['Secondary Education', 'Primary Education', 'Higher Education']\n",
    "# Define a function to sample education levels based on probabilities for each region\n",
    "def Education_level(row):\n",
    "    # Extract the region for the current row\n",
    "    region = row['AreaOfResidence']\n",
    "    # Get the probabilities for education levels in the corresponding region\n",
    "    probabilities = grouped_education.get_group(region).values\n",
    "    # Sample an education level based on the probabilities\n",
    "    education = np.random.choice(education_List, p=probabilities)\n",
    "    # Return the sampled education level\n",
    "    return education\n",
    "\n",
    "# Apply the function to each row in 'violence_against_women' to create the 'Education level' column\n",
    "violence_against_women[\"Education level\"] = violence_against_women.apply(Education_level, axis=1)"
   ]
  },
  {
   "cell_type": "markdown",
   "metadata": {},
   "source": [
    "Finally we can display the new version of the **violence_against_women** dataset."
   ]
  },
  {
   "cell_type": "code",
   "execution_count": 935,
   "metadata": {},
   "outputs": [
    {
     "data": {
      "text/html": [
       "<div>\n",
       "<style scoped>\n",
       "    .dataframe tbody tr th:only-of-type {\n",
       "        vertical-align: middle;\n",
       "    }\n",
       "\n",
       "    .dataframe tbody tr th {\n",
       "        vertical-align: top;\n",
       "    }\n",
       "\n",
       "    .dataframe thead th {\n",
       "        text-align: right;\n",
       "    }\n",
       "</style>\n",
       "<table border=\"1\" class=\"dataframe\">\n",
       "  <thead>\n",
       "    <tr style=\"text-align: right;\">\n",
       "      <th></th>\n",
       "      <th>AreaOfResidence</th>\n",
       "      <th>Education level</th>\n",
       "    </tr>\n",
       "  </thead>\n",
       "  <tbody>\n",
       "    <tr>\n",
       "      <th>0</th>\n",
       "      <td>North</td>\n",
       "      <td>Higher Education</td>\n",
       "    </tr>\n",
       "    <tr>\n",
       "      <th>1</th>\n",
       "      <td>North</td>\n",
       "      <td>Higher Education</td>\n",
       "    </tr>\n",
       "    <tr>\n",
       "      <th>2</th>\n",
       "      <td>North</td>\n",
       "      <td>Higher Education</td>\n",
       "    </tr>\n",
       "    <tr>\n",
       "      <th>3</th>\n",
       "      <td>Centre</td>\n",
       "      <td>Primary Education</td>\n",
       "    </tr>\n",
       "    <tr>\n",
       "      <th>4</th>\n",
       "      <td>North</td>\n",
       "      <td>Secondary Education</td>\n",
       "    </tr>\n",
       "    <tr>\n",
       "      <th>...</th>\n",
       "      <td>...</td>\n",
       "      <td>...</td>\n",
       "    </tr>\n",
       "    <tr>\n",
       "      <th>495</th>\n",
       "      <td>Centre</td>\n",
       "      <td>Primary Education</td>\n",
       "    </tr>\n",
       "    <tr>\n",
       "      <th>496</th>\n",
       "      <td>North</td>\n",
       "      <td>Primary Education</td>\n",
       "    </tr>\n",
       "    <tr>\n",
       "      <th>497</th>\n",
       "      <td>Centre</td>\n",
       "      <td>Primary Education</td>\n",
       "    </tr>\n",
       "    <tr>\n",
       "      <th>498</th>\n",
       "      <td>South</td>\n",
       "      <td>Secondary Education</td>\n",
       "    </tr>\n",
       "    <tr>\n",
       "      <th>499</th>\n",
       "      <td>North</td>\n",
       "      <td>Higher Education</td>\n",
       "    </tr>\n",
       "  </tbody>\n",
       "</table>\n",
       "<p>500 rows × 2 columns</p>\n",
       "</div>"
      ],
      "text/plain": [
       "    AreaOfResidence      Education level\n",
       "0             North     Higher Education\n",
       "1             North     Higher Education\n",
       "2             North     Higher Education\n",
       "3            Centre    Primary Education\n",
       "4             North  Secondary Education\n",
       "..              ...                  ...\n",
       "495          Centre    Primary Education\n",
       "496           North    Primary Education\n",
       "497          Centre    Primary Education\n",
       "498           South  Secondary Education\n",
       "499           North     Higher Education\n",
       "\n",
       "[500 rows x 2 columns]"
      ]
     },
     "execution_count": 935,
     "metadata": {},
     "output_type": "execute_result"
    }
   ],
   "source": [
    "#Display the dataset \n",
    "violence_against_women"
   ]
  },
  {
   "cell_type": "markdown",
   "metadata": {},
   "source": [
    "### **5. Occupancy level**\n",
    "\n",
    "The third variable is the Occupancy Level. Specifically, for the purpose of this project, we will categorize a woman's labor status as either 'Occupied' or 'Unoccupied.' The Occupancy status is intricately linked to the Area of Residence [[a]](https://www.istat.it/it/files/2022/10/Livelli-di-istruzione-e-ritorni-occupazionali-anno-2021.pdf) and it holds the potential to be a crucial variable influencing the likelihood that a woman may endure physical or sexual violence from a partner within a 5-year period.\n",
    "\n",
    "Employment status serves as a socio-economic indicator, shaping power dynamics within relationships and influencing access to resources. Consequently, it may impact the risk of violence. In my opinion, a woman without economic independence, often influenced by her employment status, can easily find herself trapped in unwanted situations.\n",
    "\n",
    "On this section we will first determinate the probability for a woman to be occupied divided by region.\n",
    "\n",
    "This probability will be finally be used combined with a random choice distribution to populate the column \"Professional Status\"."
   ]
  },
  {
   "cell_type": "markdown",
   "metadata": {},
   "source": [
    "#### **5.1 Probability of violence against women by occupancy level**\n",
    "\n",
    "For this section, we will utilize the dataset **Violence per Labour Status** stored in the 'dataset' folder of the repository. This dataset was obtained from the ISTAT website [[]](https://esploradati.istat.it/databrowser/#/it/dw/categories/IT1,Z0840JUS,1.0/JUS_VIOLENCE/DCCV_VIOL_CARAT/IT1,78_1112_DF_DCCV_VIOL_CARAT_11,1.0) and includes data illustrating the percentage of women who have experienced physical or sexual violence by a partner or ex-partner over a 5-year period, categorized by their employment status.\n",
    "\n",
    "    - Import the dataset"
   ]
  },
  {
   "cell_type": "code",
   "execution_count": 936,
   "metadata": {},
   "outputs": [],
   "source": [
    "violence_per_labour_status = pd.read_csv('DataSet/Violence per labour status.csv')\n"
   ]
  },
  {
   "cell_type": "markdown",
   "metadata": {},
   "source": [
    "    - Checking missing value \n",
    "\n",
    "Again, the dataset doesn't contain any missing relevant value."
   ]
  },
  {
   "cell_type": "code",
   "execution_count": 937,
   "metadata": {},
   "outputs": [
    {
     "name": "stdout",
     "output_type": "stream",
     "text": [
      "== Missing values for \"violence_per_labour_status\" ==\n",
      "ITTER107                             0\n",
      "Territory                            0\n",
      "TIPO_DATO_VIOLENZA                   0\n",
      "Data type                            0\n",
      "TIPOAUT                              0\n",
      "Perpetrator                          0\n",
      "TIPOVIOLENZA                         0\n",
      "Type of violence                     0\n",
      "CITTADINANZA                         0\n",
      "Citizenship                          0\n",
      "CONDIZIONE_DICH4                     0\n",
      "Labour and professional status       0\n",
      "TIME                                 0\n",
      "Select time                          0\n",
      "Value                                0\n",
      "Flag Codes                        1744\n",
      "Flags                             1744\n",
      "dtype: int64\n"
     ]
    }
   ],
   "source": [
    "# Printing a header to indicate the section related to missing values for violence per region\n",
    "print(f'== Missing values for \"violence_per_labour_status\" ==')\n",
    "# Using the isnull() function to check for missing values and summing them up\n",
    "missing_values_count = violence_per_labour_status.isnull().sum()\n",
    "# Printing the count of missing values for each column in the dataset\n",
    "print(missing_values_count)"
   ]
  },
  {
   "cell_type": "markdown",
   "metadata": {},
   "source": [
    "    - Data exploration, manipulation and cleaning \n",
    "\n",
    "*Removing useless or redundant columns and rename some of them for clarity*\n",
    "\n",
    "After inspecting the dataset, we've identified several columns that contain either irrelevant or redundant data. The following columns will be removed:\n",
    "\n",
    "['ITTER107', 'TIPO_DATO_VIOLENZA', 'TIPOAUT', 'TIPOVIOLENZA', 'CITTADINANZA', 'Citizenship', 'CONDIZIONE_DICH4', 'TIME', 'Select time', 'Flag Codes', 'Flags'].\n",
    "\n",
    "A special note about the 'Territory' column: it exclusively contains the value 'Italy,' making it irrelevant for our study. Similarly, the 'TIME' column includes only one year of observation, rendering it unnecessary to retain.\n",
    "\n",
    "After have drop the no need column we will rename some of the left for better clarity."
   ]
  },
  {
   "cell_type": "code",
   "execution_count": 938,
   "metadata": {},
   "outputs": [],
   "source": [
    "# List of columns to be removed from the DataFrame\n",
    "columns_to_be_removed = ['ITTER107', 'Territory', 'TIPO_DATO_VIOLENZA', 'TIPOAUT',\n",
    "       'TIPOVIOLENZA', 'CITTADINANZA', 'Citizenship', 'CONDIZIONE_DICH4',\n",
    "       'TIME', 'Select time', 'Flag Codes', 'Flags']\n",
    "\n",
    "# Remove the specified columns from the 'Instruction_level_italy' DataFrame\n",
    "violence_per_labour_status = violence_per_labour_status.drop(columns=columns_to_be_removed)\n",
    "\n",
    "# Renaming columns in a Pandas DataFrame\n",
    "violence_per_labour_status.rename(\n",
    "    columns={'Labour and professional status': 'Professional Status',\n",
    "             'Value':'%_violence_labour'\n",
    "        },  inplace=True)\n",
    "\n"
   ]
  },
  {
   "cell_type": "markdown",
   "metadata": {},
   "source": [
    "We can divide the '%_violence_labour' by 100 to have the % value show as a number between 0 and 1"
   ]
  },
  {
   "cell_type": "code",
   "execution_count": 939,
   "metadata": {},
   "outputs": [],
   "source": [
    "#convert percentage values to a range between 0 and 1\n",
    "violence_per_labour_status['%_violence_labour'] = violence_per_labour_status['%_violence_labour'] / 100\n"
   ]
  },
  {
   "cell_type": "markdown",
   "metadata": {},
   "source": [
    "*Remove Duplicate or Irrelevant Rows and Rename Values for Clarity*\n",
    "\n",
    "After observation here the value that need to be kept/removed and replaced for each columns:\n",
    "| Column Name        | ValueTokeep   | ReplaceWith |Reason  |\n",
    "|--------------------|--------------|-------------|-------------------------------------------------------------|\n",
    "| Type of Violence   | physical or sexual | Physical/Sexual |Keep onlly relevant value for the current study |\n",
    "| Perpetrator        | current partner or former partner | Partner/ExPartner |Keep onlly relevant value for the current study |\n",
    "| Data type          | Women aged 16-70 years who have suffered violence in the past 5 years (% of ever-partnered women 16-70 years)| Victims 16-70 - 5 years |Keep onlly relevant value for the current study|\n",
    "| Professional Status  | Keep everything is not 'all items'| ---| Eliminate duplicate values and focus on specific labour status|"
   ]
  },
  {
   "cell_type": "markdown",
   "metadata": {},
   "source": [
    "In order to perform the drop and replace we will use the function **filter_and_replace** previously define. Then, all the rows containing 'all items' in the 'Professional Status' will be dropped."
   ]
  },
  {
   "cell_type": "code",
   "execution_count": 940,
   "metadata": {},
   "outputs": [
    {
     "name": "stderr",
     "output_type": "stream",
     "text": [
      "C:\\Users\\anton\\AppData\\Local\\Temp\\ipykernel_16948\\2938192141.py:6: SettingWithCopyWarning:\n",
      "\n",
      "\n",
      "A value is trying to be set on a copy of a slice from a DataFrame.\n",
      "Try using .loc[row_indexer,col_indexer] = value instead\n",
      "\n",
      "See the caveats in the documentation: https://pandas.pydata.org/pandas-docs/stable/user_guide/indexing.html#returning-a-view-versus-a-copy\n",
      "\n"
     ]
    }
   ],
   "source": [
    "# Filtering the DataFrame to select specific rows based on conditions\n",
    "\n",
    "# call the function to filter and replace column 'Perpetrator' and 'DataType' previously defined\n",
    "violence_per_labour_status = filter_and_replace(violence_per_labour_status)\n",
    "\n",
    "# remove line all items from educational level\n",
    "violence_per_labour_status = violence_per_labour_status.loc[violence_per_labour_status['Professional Status'] != 'all items']\n",
    "\n"
   ]
  },
  {
   "cell_type": "markdown",
   "metadata": {},
   "source": [
    "*Mapping each labour status on the 2 main categories: Occupied and unoccupied*\n",
    "\n",
    "For this study, we will need to map each labour status entered in the 'Professional Status' column into two main categories: Occupied and Unoccupied, where Occupied refers to women with income from a job or retirement, and Unoccupied refers to those who are not employed.\n",
    "\n",
    "We can extract the unique value from the columns 'Professional status' with the unique() funciont."
   ]
  },
  {
   "cell_type": "code",
   "execution_count": 941,
   "metadata": {},
   "outputs": [
    {
     "data": {
      "text/plain": [
       "array(['retired', 'seeking for job', 'executive, employer, professional',\n",
       "       'middle management, white collar', 'blu collar, apprentice',\n",
       "       'self-employed, family worker, co.co.co.', 'housewife', 'student',\n",
       "       'other condition (different from housewife,student,seeking for job,retired)'],\n",
       "      dtype=object)"
      ]
     },
     "execution_count": 941,
     "metadata": {},
     "output_type": "execute_result"
    }
   ],
   "source": [
    "# extract unique value \n",
    "violence_per_labour_status['Professional Status'].unique()"
   ]
  },
  {
   "cell_type": "markdown",
   "metadata": {},
   "source": [
    "Now we need to map each value on the main categories:\n",
    "\n",
    "| MainCategory  | Professional status                  |\n",
    "| -------------- | ------------------------------ |\n",
    "| Occupied       | retired                        |\n",
    "| Unoccupied     | seeking for job                |\n",
    "| Occupied       | executive, employer, professional|\n",
    "| Occupied       | middle management, white collar|\n",
    "| Occupied       | blu collar, apprentice         |\n",
    "| Unoccupied     | housewife|\n",
    "| Unoccupied     | student|\n",
    "| Occupied       | other condition (different from housewife,student,seeking for job,retired)|\n"
   ]
  },
  {
   "cell_type": "code",
   "execution_count": 942,
   "metadata": {},
   "outputs": [],
   "source": [
    "# Replace labour values with 'Occupied' and 'Unoccupied'\n",
    "replacements_labour_status = {\n",
    "    'seeking for job': 'Unoccupied',  \n",
    "    'executive, employer, professional': 'Occupied',  \n",
    "    'blu collar, apprentice': 'Occupied',  \n",
    "    'self-employed, family worker, co.co.co.': 'Occupied',  \n",
    "    'housewife': 'Unoccupied',  \n",
    "    'student': 'Unoccupied',  \n",
    "    'other condition (different from housewife,student,seeking for job,retired)': 'Unoccupied',  \n",
    "    'retired': 'Occupied',  \n",
    "    'middle management, white collar': 'Occupied'  \n",
    "}\n",
    "\n",
    "# Replace values in the 'Professional Status' column using the defined replacements\n",
    "violence_per_labour_status['Professional Status'] = violence_per_labour_status['Professional Status'].replace(replacements_labour_status)\n"
   ]
  },
  {
   "cell_type": "markdown",
   "metadata": {},
   "source": [
    "     - Determing the final violence probability table for professional status\n",
    "\n",
    "Finally we can extract the final table showing the probability of a woman to go through physical/sexual violence from a partner/ex partner in 5 year time. \n",
    "\n",
    "We will use the group by function to removes useless column and group rows. "
   ]
  },
  {
   "cell_type": "code",
   "execution_count": 943,
   "metadata": {},
   "outputs": [
    {
     "data": {
      "text/html": [
       "<div>\n",
       "<style scoped>\n",
       "    .dataframe tbody tr th:only-of-type {\n",
       "        vertical-align: middle;\n",
       "    }\n",
       "\n",
       "    .dataframe tbody tr th {\n",
       "        vertical-align: top;\n",
       "    }\n",
       "\n",
       "    .dataframe thead th {\n",
       "        text-align: right;\n",
       "    }\n",
       "</style>\n",
       "<table border=\"1\" class=\"dataframe\">\n",
       "  <thead>\n",
       "    <tr style=\"text-align: right;\">\n",
       "      <th></th>\n",
       "      <th>Professional Status</th>\n",
       "      <th>%_violence_labour</th>\n",
       "    </tr>\n",
       "  </thead>\n",
       "  <tbody>\n",
       "    <tr>\n",
       "      <th>0</th>\n",
       "      <td>Occupied</td>\n",
       "      <td>0.0434</td>\n",
       "    </tr>\n",
       "    <tr>\n",
       "      <th>1</th>\n",
       "      <td>Unoccupied</td>\n",
       "      <td>0.0590</td>\n",
       "    </tr>\n",
       "  </tbody>\n",
       "</table>\n",
       "</div>"
      ],
      "text/plain": [
       "  Professional Status  %_violence_labour\n",
       "0            Occupied             0.0434\n",
       "1          Unoccupied             0.0590"
      ]
     },
     "execution_count": 943,
     "metadata": {},
     "output_type": "execute_result"
    }
   ],
   "source": [
    "# Grouping the violence_per_labour_status DataFrame by 'Professional Status'\n",
    "violence_per_labour_statu_probability = violence_per_labour_status.groupby('Professional Status')['%_violence_labour'].mean().reset_index()\n",
    "# Display the final probability of violence based on occupancy status \n",
    "violence_per_labour_statu_probability"
   ]
  },
  {
   "cell_type": "markdown",
   "metadata": {},
   "source": [
    "As observed, unoccupied women have a higher probability of experiencing physical and sexual violence from a partner or ex-partner within a 5-year period. This can be attributed to the fact that unoccupied women often lack economic independence, limiting their flexibility and options to prevent and escape such situations.\n",
    "\n",
    "We can plot the probability to have a better representation."
   ]
  },
  {
   "cell_type": "code",
   "execution_count": 944,
   "metadata": {},
   "outputs": [
    {
     "name": "stderr",
     "output_type": "stream",
     "text": [
      "C:\\Users\\anton\\AppData\\Local\\Temp\\ipykernel_16948\\1507873442.py:8: FutureWarning:\n",
      "\n",
      "\n",
      "\n",
      "Passing `palette` without assigning `hue` is deprecated and will be removed in v0.14.0. Assign the `x` variable to `hue` and set `legend=False` for the same effect.\n",
      "\n",
      "\n"
     ]
    },
    {
     "data": {
      "image/png": "[encoded data removed]",
      "text/plain": [
       "<Figure size 800x300 with 1 Axes>"
      ]
     },
     "metadata": {},
     "output_type": "display_data"
    }
   ],
   "source": [
    "# Set the style to \"whitegrid\" for the seaborn plot\n",
    "sns.set(style=\"whitegrid\")\n",
    "\n",
    "# Set the figure size for the plot\n",
    "plt.figure(figsize=(8, 3))\n",
    "\n",
    "# Creating a bar plot using seaborn\n",
    "ax = sns.barplot(x='Professional Status', y='%_violence_labour', data=violence_per_labour_statu_probability, palette=\"Blues\")\n",
    "\n",
    "# Adding a label at the top of each bar plot \n",
    "for container in ax.containers:\n",
    "    ax.bar_label(container, fmt='%.3f')\n",
    "    \n",
    "# Adding labels and title to the plot\n",
    "plt.xlabel('Professional Status')  # X-axis label\n",
    "plt.ylabel('Probability of Violence (%)')  # Y-axis label\n",
    "plt.title('Probability of Violence by Professional Status')  # Title of the plot\n",
    "\n",
    "# Displaying the plot\n",
    "plt.show()"
   ]
  },
  {
   "cell_type": "markdown",
   "metadata": {},
   "source": [
    "#### **5.2 Generate the distribution for the \"Professional status\" column in the violence_against_women_dataset**\n",
    "\n",
    "This column will indicate whether a woman, residing in a particular area and possessing a specific level of education, is occupied or not.\n",
    "\n",
    "Occupational status is highly dependent on both the area of residence and the level of education [[a]](https://www.istat.it/it/files/2022/10/Livelli-di-istruzione-e-ritorni-occupazionali-anno-2021.pdf). As observed earlier, the North/Central regions are wealthier compared to the South, and women in these regions tend to have higher education levels. The combination of area of residence and level of education may also influence a woman's occupational status, and this status needs to be conditioned based on these factors.\n",
    "\n",
    "In this section, we will first calculate the probability of a woman being occupied based on her area of residence and level of education. Subsequently, we will generate a new column in the violence_against_women dataset, named \"Professional Status.\" This column will indicate, through a Bernoulli distribution and using the previously calculated probabilities, whether a woman with those specific characteristics is occupied or not.\""
   ]
  },
  {
   "cell_type": "markdown",
   "metadata": {},
   "source": [
    "**5.2.1 Calculate the occupancy rate of women in italy based on Area of residence/level of education**\n",
    "\n",
    "On this section we will use the dataset **Occupancy data** downloaded from the ISTAT website [[]](https://esploradati.istat.it/databrowser/#/it/dw/categories/IT1,Z0500LAB,1.0/LAB_OFFER/LAB_OFF_EMPLOY/DCCV_OCCUPATIT1/IT1,150_938_DF_DCCV_OCCUPATIT1_2,1.0).\n",
    "\n",
    "The dataset provides values in thousands for the number of occupied people, categorized by level of education and area of residence. From this dataset, we can extract the probabilities of being occupied based on the individual's education level and area of residence.\n",
    "\n",
    "This probability will be used with a bernouli distribution to populate the **violence_against_women** dataset.\n",
    "\n",
    "    - Import the dataset"
   ]
  },
  {
   "cell_type": "code",
   "execution_count": 945,
   "metadata": {},
   "outputs": [],
   "source": [
    "# import the dataset - Occupancy data set \n",
    "\n",
    "occupancy_rate = pd.read_csv('DataSet/Occupancy data.csv')"
   ]
  },
  {
   "cell_type": "markdown",
   "metadata": {},
   "source": [
    "    - Checking missing value \n",
    "\n",
    "The dataset doesn't contain any missing value "
   ]
  },
  {
   "cell_type": "code",
   "execution_count": 946,
   "metadata": {},
   "outputs": [
    {
     "name": "stdout",
     "output_type": "stream",
     "text": [
      "== Missing values for \"occupancy_rate\" ==\n",
      "FREQ                                      0\n",
      "Frequency                                 0\n",
      "REF_AREA                                  0\n",
      "Territory                                 0\n",
      "DATA_TYPE                                 0\n",
      "Indicator                                 0\n",
      "SEX                                       0\n",
      "Sex (DESC)                                0\n",
      "AGE                                       0\n",
      "Age (DESC)                                0\n",
      "EDU_LEV_HIGHEST                           0\n",
      "Highest level of education attained       0\n",
      "Time (TIME_PERIOD)                        0\n",
      "Observation                               0\n",
      "OBS_STATUS                             9270\n",
      "Observation status                     9270\n",
      "dtype: int64\n"
     ]
    }
   ],
   "source": [
    "# Printing a header to indicate the section related to missing values for violence per region\n",
    "print(f'== Missing values for \"occupancy_rate\" ==')\n",
    "# Using the isnull() function to check for missing values and summing them up\n",
    "missing_values_count = occupancy_rate.isnull().sum()\n",
    "# Printing the count of missing values for each column in the dataset\n",
    "print(missing_values_count)"
   ]
  },
  {
   "cell_type": "markdown",
   "metadata": {},
   "source": [
    "    - Data exploration, manipulation and cleaning \n",
    "\n",
    "*Removing useless or redundant columns and rename some of them for clarity*\n",
    "\n",
    "As usual, some columns will need to be removed due to uselss or redundant data for the project.\n",
    "\n",
    "Those are the columns that will need to drop:\n",
    "['FREQ', 'Frequency', 'REF_AREA', 'DATA_TYPE', 'Indicator', 'SEX', 'AGE', 'EDU_LEV_HIGHEST', 'OBS_STATUS', 'Observation status']\n",
    "\n",
    "After we will rename some of the left column bor better clarity."
   ]
  },
  {
   "cell_type": "code",
   "execution_count": 947,
   "metadata": {},
   "outputs": [],
   "source": [
    "# List of columns to be removed from the DataFrame\n",
    "columns_to_be_removed = ['FREQ', 'Frequency', 'REF_AREA', 'DATA_TYPE', 'Indicator',\n",
    "       'SEX', 'AGE', 'EDU_LEV_HIGHEST', 'OBS_STATUS', 'Observation status']\n",
    "\n",
    "# Remove the specified columns from the 'Instruction_level_italy' DataFrame\n",
    "occupancy_rate = occupancy_rate.drop(columns=columns_to_be_removed)\n",
    "\n",
    "# Renaming columns in a Pandas DataFrame\n",
    "occupancy_rate.rename(\n",
    "    columns={\"Time (TIME_PERIOD)\": \"Year\",\n",
    "             \"Territory\" : \"AreaOfResidence\",\n",
    "            \"Age (DESC)\": 'Age',\n",
    "            \"Highest level of education attained\":\"Education level\",\n",
    "            'Sex (DESC)': 'Sex',\n",
    "            'Observation' : '%_occupation'},\n",
    "    inplace=True\n",
    ")"
   ]
  },
  {
   "cell_type": "markdown",
   "metadata": {},
   "source": [
    "We can now change the % format of the column %_occupation to express a number between 0 and 1."
   ]
  },
  {
   "cell_type": "code",
   "execution_count": 948,
   "metadata": {},
   "outputs": [],
   "source": [
    "# Change format of percentage column \n",
    "occupancy_rate['%_occupation'] = occupancy_rate['%_occupation']/100"
   ]
  },
  {
   "cell_type": "markdown",
   "metadata": {},
   "source": [
    "*Remove Duplicate or Irrelevant Rows and Rename Values for Clarity*\n",
    "\n",
    "Here the values from the colums that need to be kept:\n",
    "\n",
    "| Columns | ValueToKeep | Reason\n",
    "|---------| ------------|-------|\n",
    "| AreaOfResidence | Everithing is not 'Nord-est', 'Nord-ovest' and 'Italy' | Duplicate value |\n",
    "| Year | 2022 | Keep only 2022 observation |\n",
    "| Sex | Females | Keep the only relevant data for the project |\n",
    "| Education level | Everything is not 'Total '|Remove duplicate values|\n",
    "\n"
   ]
  },
  {
   "cell_type": "code",
   "execution_count": 949,
   "metadata": {},
   "outputs": [],
   "source": [
    "# List of values to be removed from the 'Territity' column\n",
    "filter_list = ['Nord-est', 'Nord-ovest', 'Italy']\n",
    "\n",
    "# Filter the DataFrame 'Instruction_level_italy' to exclude rows where 'Territorio' is in the 'filter_list'\n",
    "occupancy_rate = occupancy_rate.loc[~occupancy_rate['AreaOfResidence'].isin(filter_list)]\n",
    "\n",
    "# Filter for rows where 'Year' is '2020'\n",
    "occupancy_rate = occupancy_rate.loc[occupancy_rate['Year']=='2022']\n",
    "\n",
    "# Filter for rows where 'Sex' is 'Females'\n",
    "occupancy_rate = occupancy_rate.loc[occupancy_rate['Sex']=='Females']\n",
    "\n",
    "# Filter for rows where 'Age' is '15-74' years\n",
    "occupancy_rate = occupancy_rate.loc[occupancy_rate['Age']=='15-74 years']\n",
    "\n",
    "# Filter for rows where 'Educational Level' is not 'Total'\n",
    "occupancy_rate = occupancy_rate.loc[occupancy_rate[\"Education level\"]!='Total ']"
   ]
  },
  {
   "cell_type": "markdown",
   "metadata": {},
   "source": [
    "The Value in the column 'AreaOfResidence' need to be renamed for a betetr clarity on North, South and Centre."
   ]
  },
  {
   "cell_type": "code",
   "execution_count": 950,
   "metadata": {},
   "outputs": [
    {
     "data": {
      "text/html": [
       "<div>\n",
       "<style scoped>\n",
       "    .dataframe tbody tr th:only-of-type {\n",
       "        vertical-align: middle;\n",
       "    }\n",
       "\n",
       "    .dataframe tbody tr th {\n",
       "        vertical-align: top;\n",
       "    }\n",
       "\n",
       "    .dataframe thead th {\n",
       "        text-align: right;\n",
       "    }\n",
       "</style>\n",
       "<table border=\"1\" class=\"dataframe\">\n",
       "  <thead>\n",
       "    <tr style=\"text-align: right;\">\n",
       "      <th></th>\n",
       "      <th>AreaOfResidence</th>\n",
       "      <th>Sex</th>\n",
       "      <th>Age</th>\n",
       "      <th>Education level</th>\n",
       "      <th>Year</th>\n",
       "      <th>%_occupation</th>\n",
       "    </tr>\n",
       "  </thead>\n",
       "  <tbody>\n",
       "    <tr>\n",
       "      <th>617</th>\n",
       "      <td>North</td>\n",
       "      <td>Females</td>\n",
       "      <td>15-74 years</td>\n",
       "      <td>'No educational degree  primary and lower seco...</td>\n",
       "      <td>2022</td>\n",
       "      <td>0.303864</td>\n",
       "    </tr>\n",
       "    <tr>\n",
       "      <th>619</th>\n",
       "      <td>North</td>\n",
       "      <td>Females</td>\n",
       "      <td>15-74 years</td>\n",
       "      <td>Upper and post secondary</td>\n",
       "      <td>2022</td>\n",
       "      <td>0.595232</td>\n",
       "    </tr>\n",
       "    <tr>\n",
       "      <th>621</th>\n",
       "      <td>North</td>\n",
       "      <td>Females</td>\n",
       "      <td>15-74 years</td>\n",
       "      <td>'Tertiary (university  doctoral and specializa...</td>\n",
       "      <td>2022</td>\n",
       "      <td>0.776481</td>\n",
       "    </tr>\n",
       "    <tr>\n",
       "      <th>1769</th>\n",
       "      <td>Centre</td>\n",
       "      <td>Females</td>\n",
       "      <td>15-74 years</td>\n",
       "      <td>'No educational degree  primary and lower seco...</td>\n",
       "      <td>2022</td>\n",
       "      <td>0.270148</td>\n",
       "    </tr>\n",
       "    <tr>\n",
       "      <th>1771</th>\n",
       "      <td>Centre</td>\n",
       "      <td>Females</td>\n",
       "      <td>15-74 years</td>\n",
       "      <td>Upper and post secondary</td>\n",
       "      <td>2022</td>\n",
       "      <td>0.543475</td>\n",
       "    </tr>\n",
       "    <tr>\n",
       "      <th>1773</th>\n",
       "      <td>Centre</td>\n",
       "      <td>Females</td>\n",
       "      <td>15-74 years</td>\n",
       "      <td>'Tertiary (university  doctoral and specializa...</td>\n",
       "      <td>2022</td>\n",
       "      <td>0.744607</td>\n",
       "    </tr>\n",
       "    <tr>\n",
       "      <th>2153</th>\n",
       "      <td>South</td>\n",
       "      <td>Females</td>\n",
       "      <td>15-74 years</td>\n",
       "      <td>'No educational degree  primary and lower seco...</td>\n",
       "      <td>2022</td>\n",
       "      <td>0.140164</td>\n",
       "    </tr>\n",
       "    <tr>\n",
       "      <th>2155</th>\n",
       "      <td>South</td>\n",
       "      <td>Females</td>\n",
       "      <td>15-74 years</td>\n",
       "      <td>Upper and post secondary</td>\n",
       "      <td>2022</td>\n",
       "      <td>0.361413</td>\n",
       "    </tr>\n",
       "    <tr>\n",
       "      <th>2157</th>\n",
       "      <td>South</td>\n",
       "      <td>Females</td>\n",
       "      <td>15-74 years</td>\n",
       "      <td>'Tertiary (university  doctoral and specializa...</td>\n",
       "      <td>2022</td>\n",
       "      <td>0.629646</td>\n",
       "    </tr>\n",
       "  </tbody>\n",
       "</table>\n",
       "</div>"
      ],
      "text/plain": [
       "     AreaOfResidence      Sex          Age  \\\n",
       "617            North  Females  15-74 years   \n",
       "619            North  Females  15-74 years   \n",
       "621            North  Females  15-74 years   \n",
       "1769          Centre  Females  15-74 years   \n",
       "1771          Centre  Females  15-74 years   \n",
       "1773          Centre  Females  15-74 years   \n",
       "2153           South  Females  15-74 years   \n",
       "2155           South  Females  15-74 years   \n",
       "2157           South  Females  15-74 years   \n",
       "\n",
       "                                        Education level  Year  %_occupation  \n",
       "617   'No educational degree  primary and lower seco...  2022      0.303864  \n",
       "619                           Upper and post secondary   2022      0.595232  \n",
       "621   'Tertiary (university  doctoral and specializa...  2022      0.776481  \n",
       "1769  'No educational degree  primary and lower seco...  2022      0.270148  \n",
       "1771                          Upper and post secondary   2022      0.543475  \n",
       "1773  'Tertiary (university  doctoral and specializa...  2022      0.744607  \n",
       "2153  'No educational degree  primary and lower seco...  2022      0.140164  \n",
       "2155                          Upper and post secondary   2022      0.361413  \n",
       "2157  'Tertiary (university  doctoral and specializa...  2022      0.629646  "
      ]
     },
     "execution_count": 950,
     "metadata": {},
     "output_type": "execute_result"
    }
   ],
   "source": [
    "# rename value in the 'AreaOfResidence' column for a better clarity\n",
    "occupancy_rate[\"AreaOfResidence\"] = occupancy_rate[\"AreaOfResidence\"].replace({\n",
    "    \"Centro (I)\": 'Centre',\n",
    "    'Mezzogiorno': 'South',\n",
    "    'Nord':'North',\n",
    "})\n",
    "occupancy_rate"
   ]
  },
  {
   "cell_type": "markdown",
   "metadata": {},
   "source": [
    "*Mapping the observation in the Education level column*\n",
    "\n",
    "We can now map each observation in the \"Educational level\" column on the three main categories: **Primary**,**Secondary** and **Higher education**.\n",
    "\n",
    "| MainCategory                | EducationLevel |          \n",
    "|-------------------------|---------------|\n",
    "| Primary Education    | No educational degree  primary and lower secondary school certificate | \n",
    "| Secondary Education   | Upper and post secondary|\n",
    "|Higher Education|Tertiary (university  doctoral and specialization courses)|"
   ]
  },
  {
   "cell_type": "code",
   "execution_count": 951,
   "metadata": {},
   "outputs": [],
   "source": [
    "# rename value in the 'Educational level' column for a better clarity\n",
    "occupancy_rate[\"Education level\"] = occupancy_rate[\"Education level\"].replace({\n",
    "    \"'No educational degree  primary and lower secondary school certificate'\": 'Primary Education',\n",
    "    'Upper and post secondary ': 'Secondary Education',\n",
    "    \"'Tertiary (university  doctoral and specialization courses)'\": 'Higher Education'\n",
    "})"
   ]
  },
  {
   "cell_type": "markdown",
   "metadata": {},
   "source": [
    "    - Defining the Final Probability of Violence for Women Based on Area of Residence and Education Level\n",
    "\n",
    "Finally, we can extract the finalized probability table by utilizing the groupby function to remove unnecessary columns and group the data effectively.\n",
    "Then, we wisualize them for a better clarity."
   ]
  },
  {
   "cell_type": "code",
   "execution_count": 952,
   "metadata": {},
   "outputs": [],
   "source": [
    "#Group the occupancy_rate dataframe and calculating the men of the %_occupation column\n",
    "occupancy_rate_probability = occupancy_rate.groupby(['AreaOfResidence','Education level'])['%_occupation'].mean().reset_index()"
   ]
  },
  {
   "cell_type": "code",
   "execution_count": 953,
   "metadata": {},
   "outputs": [
    {
     "data": {
      "image/png": "[encoded data removed]",
      "text/plain": [
       "<Figure size 1000x600 with 1 Axes>"
      ]
     },
     "metadata": {},
     "output_type": "display_data"
    }
   ],
   "source": [
    "# Set the style to \"whitegrid\" for the seaborn plot\n",
    "sns.set(style=\"whitegrid\")\n",
    "\n",
    "# Set the figure size for the plot\n",
    "plt.figure(figsize=(10, 6))\n",
    "\n",
    "# Creating a bar plot using seaborn with a different palette\n",
    "ax = sns.barplot(x='AreaOfResidence', y='%_occupation', hue='Education level', data=occupancy_rate_probability, palette=\"Set2\")\n",
    "\n",
    "# Adding a label at the top of each bar plot \n",
    "for container in ax.containers:\n",
    "    ax.bar_label(container, fmt='%.3f')\n",
    "\n",
    "# Adding labels and title to the plot\n",
    "plt.xlabel('Area of Residence')  # X-axis label\n",
    "plt.ylabel('Occupancy Rate (%)')  # Y-axis label\n",
    "plt.title('Occupancy Rate by Area of Residence and Education Level')  # Title of the plot\n",
    "\n",
    "# Displaying the plot\n",
    "plt.show()"
   ]
  },
  {
   "cell_type": "markdown",
   "metadata": {},
   "source": [
    "From the above, we can observe a significant correlation between occupational probability and both the area of residence and educational level. When considering the area of residence, there is a noticeable overall gap between the North/Centre and the South. The South, for each level of education, exhibits a relevant gap compared to the other two regions. For instance, a woman with a higher level of education in the South of Italy has a 63% chance of being occupied compared to almost 78% in the North.\n",
    "\n",
    "In all three regions, we also observe a significant impact of the level of education on the occupancy probability. Women with higher education have the highest probability of finding employment, followed by those with secondary education. Finally, individuals with primary education have a significantly lower probability of being occupied compared to those with a higher level of instruction."
   ]
  },
  {
   "cell_type": "markdown",
   "metadata": {},
   "source": [
    "**5.2.2 Create the column \"Professional Status\" in the \"violence_against_women\" dataset**"
   ]
  },
  {
   "cell_type": "markdown",
   "metadata": {},
   "source": [
    "We can now use the conjunted probability calculate in the dataframe **occupancy_rate_probability** to generate the column **Professional Status** based on a bernouly distribution where 1 is Occupied and 0 is unoccupied. \n",
    "\n",
    "A **Bernoulli** distribution is a discrete probability distribution that describes the outcomes of a random experiment with only two possible outcomes – success and failure. The distribution is characterized by a single parameter, often denoted as pp, which represents the probability of success. The probability of failure (qq), where q=1−pq=1−p, is complementary to the probability of success [[]](https://careerfoundry.com/en/blog/data-analytics/what-is-bernoulli-distribution/).\n",
    "\n",
    "On Numpy we can implement a bernouly distribution using a random binomial distribution with number of trials equal to 1 [[]](https://www.delftstack.com/howto/numpy/numpy-bernoulli/)."
   ]
  },
  {
   "cell_type": "code",
   "execution_count": 954,
   "metadata": {},
   "outputs": [],
   "source": [
    "# Group 'occupancy_rate' by 'AreaOfResidence' and 'Education level'\n",
    "grouped_occupancy_region = occupancy_rate.groupby(['AreaOfResidence', 'Education level'])['%_occupation']\n",
    "\n",
    "def Occupancy_level(row):\n",
    "    # Extract 'AreaOfResidence' and 'Education level' from the current row\n",
    "    row_combination = (row['AreaOfResidence'], row['Education level'])\n",
    "    \n",
    "    # Check if the row_combination is present in the grouped data\n",
    "    if row_combination in grouped_occupancy_region.groups:\n",
    "        # Retrieve the first value of '%_occupation' for the corresponding group\n",
    "        rate_of_occupancy = grouped_occupancy_region.get_group(row_combination).values\n",
    "        # Generate a random binomial variable with probability 'rate_of_occupancy'\n",
    "        occupation_binomial = np.random.binomial(1, p=rate_of_occupancy)\n",
    "        # Assign 'Occupied' if the binomial variable is 1, else assign 'Unoccupied'\n",
    "        occupation = \"Occupied\" if occupation_binomial == 1 else \"Unoccupied\"\n",
    "        return occupation \n",
    "\n",
    "# Apply the function to all rows and create a new column 'Professional Status' in 'violence_against_women'\n",
    "violence_against_women[\"Professional Status\"] = violence_against_women.apply(Occupancy_level, axis=1)"
   ]
  },
  {
   "cell_type": "markdown",
   "metadata": {},
   "source": [
    "We can now display a simple of the dataframe."
   ]
  },
  {
   "cell_type": "code",
   "execution_count": 955,
   "metadata": {},
   "outputs": [
    {
     "data": {
      "text/html": [
       "<div>\n",
       "<style scoped>\n",
       "    .dataframe tbody tr th:only-of-type {\n",
       "        vertical-align: middle;\n",
       "    }\n",
       "\n",
       "    .dataframe tbody tr th {\n",
       "        vertical-align: top;\n",
       "    }\n",
       "\n",
       "    .dataframe thead th {\n",
       "        text-align: right;\n",
       "    }\n",
       "</style>\n",
       "<table border=\"1\" class=\"dataframe\">\n",
       "  <thead>\n",
       "    <tr style=\"text-align: right;\">\n",
       "      <th></th>\n",
       "      <th>AreaOfResidence</th>\n",
       "      <th>Education level</th>\n",
       "      <th>Professional Status</th>\n",
       "    </tr>\n",
       "  </thead>\n",
       "  <tbody>\n",
       "    <tr>\n",
       "      <th>319</th>\n",
       "      <td>South</td>\n",
       "      <td>Higher Education</td>\n",
       "      <td>Occupied</td>\n",
       "    </tr>\n",
       "    <tr>\n",
       "      <th>494</th>\n",
       "      <td>Centre</td>\n",
       "      <td>Higher Education</td>\n",
       "      <td>Unoccupied</td>\n",
       "    </tr>\n",
       "    <tr>\n",
       "      <th>417</th>\n",
       "      <td>North</td>\n",
       "      <td>Secondary Education</td>\n",
       "      <td>Occupied</td>\n",
       "    </tr>\n",
       "    <tr>\n",
       "      <th>338</th>\n",
       "      <td>South</td>\n",
       "      <td>Primary Education</td>\n",
       "      <td>Unoccupied</td>\n",
       "    </tr>\n",
       "    <tr>\n",
       "      <th>145</th>\n",
       "      <td>North</td>\n",
       "      <td>Higher Education</td>\n",
       "      <td>Occupied</td>\n",
       "    </tr>\n",
       "    <tr>\n",
       "      <th>182</th>\n",
       "      <td>North</td>\n",
       "      <td>Higher Education</td>\n",
       "      <td>Occupied</td>\n",
       "    </tr>\n",
       "    <tr>\n",
       "      <th>191</th>\n",
       "      <td>North</td>\n",
       "      <td>Primary Education</td>\n",
       "      <td>Unoccupied</td>\n",
       "    </tr>\n",
       "    <tr>\n",
       "      <th>246</th>\n",
       "      <td>North</td>\n",
       "      <td>Primary Education</td>\n",
       "      <td>Unoccupied</td>\n",
       "    </tr>\n",
       "    <tr>\n",
       "      <th>263</th>\n",
       "      <td>South</td>\n",
       "      <td>Higher Education</td>\n",
       "      <td>Occupied</td>\n",
       "    </tr>\n",
       "    <tr>\n",
       "      <th>266</th>\n",
       "      <td>Centre</td>\n",
       "      <td>Secondary Education</td>\n",
       "      <td>Occupied</td>\n",
       "    </tr>\n",
       "  </tbody>\n",
       "</table>\n",
       "</div>"
      ],
      "text/plain": [
       "    AreaOfResidence      Education level Professional Status\n",
       "319           South     Higher Education            Occupied\n",
       "494          Centre     Higher Education          Unoccupied\n",
       "417           North  Secondary Education            Occupied\n",
       "338           South    Primary Education          Unoccupied\n",
       "145           North     Higher Education            Occupied\n",
       "182           North     Higher Education            Occupied\n",
       "191           North    Primary Education          Unoccupied\n",
       "246           North    Primary Education          Unoccupied\n",
       "263           South     Higher Education            Occupied\n",
       "266          Centre  Secondary Education            Occupied"
      ]
     },
     "execution_count": 955,
     "metadata": {},
     "output_type": "execute_result"
    }
   ],
   "source": [
    "#Display the dataframe\n",
    "violence_against_women.sample(10)"
   ]
  },
  {
   "cell_type": "markdown",
   "metadata": {},
   "source": [
    "### **6. Marital Status**\n",
    "\n",
    "Research conducted by the ISTAT [[]](https://www4.istat.it/it/violenza-sulle-donne/il-fenomeno/violenza-dentro-e-fuori-la-famig/chi-sono-le-vittime), has underscored a concerning trend — divorced women face a higher probability of enduring violence.\n",
    "\n",
    "This can suggest a correlation between a woman's marital status and the likelihood of experiencing physical or sexual violence from a partner or ex-partner within a five-year span.\n",
    "\n",
    "Four distinct categories of marital status will be explored in this context:\n",
    "\n",
    "- Single\n",
    "- Married\n",
    "- Widow\n",
    "- Divorced\n",
    "\n",
    "As customary, our approach involves first determining the probability of a woman encountering violence within a five-year timeframe based on her marital status. Subsequently, we will introduce the column Marital Status into the violence_against_women dataset, employing the calculated percentages as probabilities for a random choice distribution. \n",
    "\n",
    "#### **6.1. Probability of Violence by marital status**\n",
    "\n",
    "The aim of this section is to calculate the probability of violence against a woman based on marital status. The data has been extracted from the Marital Status dataset, which is saved in the DataSet folder of the repository. The dataset was downloaded from the ISTAT website [[]](https://esploradati.istat.it/databrowser/#/it/dw/categories/IT1,Z0840JUS,1.0/JUS_VIOLENCE/DCCV_VIOL_CARAT/IT1,78_1112_DF_DCCV_VIOL_CARAT_9,1.0) and provides comprehensive data on the percentage of women who experience violence, stratified by marital status.\n",
    "\n",
    "    - import the dataset\n"
   ]
  },
  {
   "cell_type": "code",
   "execution_count": 956,
   "metadata": {},
   "outputs": [],
   "source": [
    "# Import the dataset\n",
    "violence_marital_status = pd.read_csv('DataSet/Marital Status.csv')"
   ]
  },
  {
   "cell_type": "markdown",
   "metadata": {},
   "source": [
    "- Checking missing values\n",
    "\n",
    "Two columns display missing values, but upon observation of the dataset, it was found that these columns are empty and not relevant."
   ]
  },
  {
   "cell_type": "code",
   "execution_count": 957,
   "metadata": {},
   "outputs": [
    {
     "name": "stdout",
     "output_type": "stream",
     "text": [
      "== Missing values for \"occupancy_rate\" ==\n",
      "FREQ                      0\n",
      "Frequency                 0\n",
      "REF_AREA                  0\n",
      "Territory                 0\n",
      "DATA_TYPE                 0\n",
      "Indicator                 0\n",
      "PERPETRATOR               0\n",
      "Perpetrator (DESC)        0\n",
      "TYPE_VIOLENCE             0\n",
      "Type of violence          0\n",
      "MARITAL_STATUS_WOMAN      0\n",
      "Marital status woman      0\n",
      "Time (TIME_PERIOD)        0\n",
      "Observation               0\n",
      "OBS_STATUS              396\n",
      "Observation status      396\n",
      "dtype: int64\n"
     ]
    }
   ],
   "source": [
    "# Printing a header to indicate the section related to missing values for violence per region\n",
    "print(f'== Missing values for \"occupancy_rate\" ==')\n",
    "# Using the isnull() function to check for missing values and summing them up\n",
    "missing_values_count = violence_marital_status.isnull().sum()\n",
    "# Printing the count of missing values for each column in the dataset\n",
    "print(missing_values_count)"
   ]
  },
  {
   "cell_type": "markdown",
   "metadata": {},
   "source": [
    "- Data exploration, manipulation and cleaning \n",
    "\n",
    "*Removing useless or redundant columns and rename some of them for clarity*"
   ]
  },
  {
   "cell_type": "code",
   "execution_count": 958,
   "metadata": {},
   "outputs": [],
   "source": [
    "# List of columns to be removed from the DataFrame\n",
    "columns_to_be_removed = ['FREQ', 'Frequency', 'REF_AREA', 'Territory', 'DATA_TYPE',\n",
    "       'PERPETRATOR', 'TYPE_VIOLENCE', 'MARITAL_STATUS_WOMAN', 'OBS_STATUS', 'Observation status']\n",
    "\n",
    "# Remove the specified columns from the 'violence_marital_status' DataFrame\n",
    "violence_marital_status = violence_marital_status.drop(columns=columns_to_be_removed)\n",
    "\n",
    "# Renaming columns in a Pandas DataFrame\n",
    "violence_marital_status.rename(\n",
    "    columns={'Time (TIME_PERIOD)': \"Year\", \n",
    "             'Perpetrator (DESC)': 'Perpetrator',\n",
    "             'Observation' : '%_Marital_Status',\n",
    "             'Marital status woman':'Marital Status'},\n",
    "    inplace=True\n",
    ")"
   ]
  },
  {
   "cell_type": "markdown",
   "metadata": {},
   "source": [
    "*Remove Duplicate or Irrelevant Rows and Rename Values for Clarity*\n",
    "\n",
    "Here the values from the colums that need to be kept for the current analysis.\n",
    "\n",
    "| Column Name        | ValueTokeep   | Reason                                          |\n",
    "|--------------------|---------------|-------------------------------------------------|\n",
    "| Type of Violence   | physical or sexual | Keep only relevant value for the current study  |\n",
    "| Perpetrator        | current partner or former partner | Keep only relevant value for the current study  |\n",
    "| Data type          | Women aged 16-70 years who have suffered violence in the past 5 years (% of ever-partnered women 16-70 years)| Keep only relevant value for the current study|\n",
    "| Marital Status     | Keep everything is not 'Total'| Eliminate duplicate values and focus on specific Marital status|\n"
   ]
  },
  {
   "cell_type": "code",
   "execution_count": 959,
   "metadata": {},
   "outputs": [],
   "source": [
    "# Filter for rows where 'Type of violence' is 'Physical or sexual'\n",
    "violence_marital_status = violence_marital_status.loc[violence_marital_status['Type of violence'] == 'Physical or sexual']\n",
    "\n",
    "# Filter for rows where 'Perpetrator' is 'Current partner or former partner'\n",
    "violence_marital_status = violence_marital_status.loc[violence_marital_status['Perpetrator'] == 'Current partner or former partner']\n",
    "\n",
    "# Filter for rows where 'Indicator' is 'Women aged 16-70 years who have suffered violence in the past 12 months (% of ever-partnered women 16-70 years)'\n",
    "violence_marital_status = violence_marital_status.loc[violence_marital_status['Indicator'] == 'Women aged 16-70 years who have suffered violence in the past 5 years (% of ever-partnered women 16-70 years)']\n",
    "\n",
    "# Filter for rows where 'Marital status woman' is not 'Total'\n",
    "violence_marital_status = violence_marital_status.loc[violence_marital_status['Marital Status'] != 'Total']"
   ]
  },
  {
   "cell_type": "markdown",
   "metadata": {},
   "source": [
    "Now that the value have been filter we can replace some of them for clarity.\n",
    "\n",
    "Here the observation that need to be rename across the dataset:\n",
    "\n",
    "|Column|Value| ReplaceWith |\n",
    "|------|-----|-------------|\n",
    "|Indicator|Women aged 16-70 years who have suffered violence in the past 5 years (% of ever-partnered women 16-70 years)|Victims 16-70 - 5 years |\n",
    "|Perpetrator |current partner or former partner | Partner/Ex Partner|\n",
    "|Marital Status|Single persons (never married and never in same sex civil partnership)|Single|\n",
    "|Marital Status|Divorced persons|Divorced|\n",
    "|Marital Status|Married persons|Married|\n",
    "|Marital Status|Widowed persons|Widowed|\n"
   ]
  },
  {
   "cell_type": "code",
   "execution_count": 960,
   "metadata": {},
   "outputs": [],
   "source": [
    "# Replace values in the 'Marital Status' column for better clarity\n",
    "replacements = {\n",
    "    'Women aged 16-70 years who have suffered violence in the past 5 years (% of ever-partnered women 16-70 years)': 'Victims 16-70 in the last 5 years',\n",
    "    'Single persons (never married and never in same sex civil partnership)': 'Single',\n",
    "    'Married persons': 'Married',\n",
    "    'Divorced persons': 'Divorced',\n",
    "    'Widowed persons': 'Widowed',\n",
    "    'Current partner or former partner': 'Partner/Ex Partner'\n",
    "}\n",
    "\n",
    "# Apply the replacement to the 'Marital Status' column in the 'violence_marital_status' DataFrame\n",
    "violence_marital_status = violence_marital_status.replace(replacements)"
   ]
  },
  {
   "cell_type": "markdown",
   "metadata": {},
   "source": [
    "We can now change the percentage format in the \"%_Marital_Status\" as a value from 0 to 1."
   ]
  },
  {
   "cell_type": "code",
   "execution_count": 961,
   "metadata": {},
   "outputs": [],
   "source": [
    "# change the format of the percentage with a number between 0 and 1\n",
    "violence_marital_status['%_Marital_Status'] = violence_marital_status['%_Marital_Status']/100"
   ]
  },
  {
   "cell_type": "code",
   "execution_count": 962,
   "metadata": {},
   "outputs": [
    {
     "data": {
      "text/html": [
       "<div>\n",
       "<style scoped>\n",
       "    .dataframe tbody tr th:only-of-type {\n",
       "        vertical-align: middle;\n",
       "    }\n",
       "\n",
       "    .dataframe tbody tr th {\n",
       "        vertical-align: top;\n",
       "    }\n",
       "\n",
       "    .dataframe thead th {\n",
       "        text-align: right;\n",
       "    }\n",
       "</style>\n",
       "<table border=\"1\" class=\"dataframe\">\n",
       "  <thead>\n",
       "    <tr style=\"text-align: right;\">\n",
       "      <th></th>\n",
       "      <th>Indicator</th>\n",
       "      <th>Perpetrator</th>\n",
       "      <th>Type of violence</th>\n",
       "      <th>Marital Status</th>\n",
       "      <th>Year</th>\n",
       "      <th>%_Marital_Status</th>\n",
       "    </tr>\n",
       "  </thead>\n",
       "  <tbody>\n",
       "    <tr>\n",
       "      <th>236</th>\n",
       "      <td>Victims 16-70 in the last 5 years</td>\n",
       "      <td>Partner/Ex Partner</td>\n",
       "      <td>Physical or sexual</td>\n",
       "      <td>Single</td>\n",
       "      <td>2014</td>\n",
       "      <td>0.083</td>\n",
       "    </tr>\n",
       "    <tr>\n",
       "      <th>237</th>\n",
       "      <td>Victims 16-70 in the last 5 years</td>\n",
       "      <td>Partner/Ex Partner</td>\n",
       "      <td>Physical or sexual</td>\n",
       "      <td>Married</td>\n",
       "      <td>2014</td>\n",
       "      <td>0.033</td>\n",
       "    </tr>\n",
       "    <tr>\n",
       "      <th>238</th>\n",
       "      <td>Victims 16-70 in the last 5 years</td>\n",
       "      <td>Partner/Ex Partner</td>\n",
       "      <td>Physical or sexual</td>\n",
       "      <td>Divorced</td>\n",
       "      <td>2014</td>\n",
       "      <td>0.087</td>\n",
       "    </tr>\n",
       "    <tr>\n",
       "      <th>239</th>\n",
       "      <td>Victims 16-70 in the last 5 years</td>\n",
       "      <td>Partner/Ex Partner</td>\n",
       "      <td>Physical or sexual</td>\n",
       "      <td>Widowed</td>\n",
       "      <td>2014</td>\n",
       "      <td>0.001</td>\n",
       "    </tr>\n",
       "  </tbody>\n",
       "</table>\n",
       "</div>"
      ],
      "text/plain": [
       "                             Indicator         Perpetrator  \\\n",
       "236  Victims 16-70 in the last 5 years  Partner/Ex Partner   \n",
       "237  Victims 16-70 in the last 5 years  Partner/Ex Partner   \n",
       "238  Victims 16-70 in the last 5 years  Partner/Ex Partner   \n",
       "239  Victims 16-70 in the last 5 years  Partner/Ex Partner   \n",
       "\n",
       "       Type of violence Marital Status  Year  %_Marital_Status  \n",
       "236  Physical or sexual         Single  2014             0.083  \n",
       "237  Physical or sexual        Married  2014             0.033  \n",
       "238  Physical or sexual       Divorced  2014             0.087  \n",
       "239  Physical or sexual        Widowed  2014             0.001  "
      ]
     },
     "execution_count": 962,
     "metadata": {},
     "output_type": "execute_result"
    }
   ],
   "source": [
    "violence_marital_status"
   ]
  },
  {
   "cell_type": "markdown",
   "metadata": {},
   "source": [
    "    - Defining the Final Probability of Violence for Women Based on Area of Residence and Education Level\n",
    "\n",
    "We can finally Drop the not needed column to have the final tab showing the probability of violence divided per Marital Status and visualize the finnal probability dataframe for Marital Status."
   ]
  },
  {
   "cell_type": "code",
   "execution_count": 963,
   "metadata": {},
   "outputs": [],
   "source": [
    "# Define columns to be dropped \n",
    "columns_to_be_removed = ['Indicator', 'Perpetrator', 'Type of violence', 'Year']\n",
    "\n",
    "# Remove the specified columns from the 'violence_marital_status' DataFrame\n",
    "violence_marital_status_probability = violence_marital_status.drop(columns=columns_to_be_removed).reset_index(drop=True)"
   ]
  },
  {
   "cell_type": "code",
   "execution_count": 964,
   "metadata": {},
   "outputs": [
    {
     "data": {
      "text/html": [
       "<div>\n",
       "<style scoped>\n",
       "    .dataframe tbody tr th:only-of-type {\n",
       "        vertical-align: middle;\n",
       "    }\n",
       "\n",
       "    .dataframe tbody tr th {\n",
       "        vertical-align: top;\n",
       "    }\n",
       "\n",
       "    .dataframe thead th {\n",
       "        text-align: right;\n",
       "    }\n",
       "</style>\n",
       "<table border=\"1\" class=\"dataframe\">\n",
       "  <thead>\n",
       "    <tr style=\"text-align: right;\">\n",
       "      <th></th>\n",
       "      <th>Marital Status</th>\n",
       "      <th>%_Marital_Status</th>\n",
       "    </tr>\n",
       "  </thead>\n",
       "  <tbody>\n",
       "    <tr>\n",
       "      <th>0</th>\n",
       "      <td>Single</td>\n",
       "      <td>0.083</td>\n",
       "    </tr>\n",
       "    <tr>\n",
       "      <th>1</th>\n",
       "      <td>Married</td>\n",
       "      <td>0.033</td>\n",
       "    </tr>\n",
       "    <tr>\n",
       "      <th>2</th>\n",
       "      <td>Divorced</td>\n",
       "      <td>0.087</td>\n",
       "    </tr>\n",
       "    <tr>\n",
       "      <th>3</th>\n",
       "      <td>Widowed</td>\n",
       "      <td>0.001</td>\n",
       "    </tr>\n",
       "  </tbody>\n",
       "</table>\n",
       "</div>"
      ],
      "text/plain": [
       "  Marital Status  %_Marital_Status\n",
       "0         Single             0.083\n",
       "1        Married             0.033\n",
       "2       Divorced             0.087\n",
       "3        Widowed             0.001"
      ]
     },
     "execution_count": 964,
     "metadata": {},
     "output_type": "execute_result"
    }
   ],
   "source": [
    "#Display the dataframe\n",
    "violence_marital_status_probability"
   ]
  },
  {
   "cell_type": "markdown",
   "metadata": {},
   "source": [
    "From above the women with an higher risk of violence are single and divorced. On the contrary, widowed are the one less impacted by the violence. We can know plot the probability to have a visaul rapresentation of them."
   ]
  },
  {
   "cell_type": "code",
   "execution_count": 965,
   "metadata": {},
   "outputs": [
    {
     "name": "stderr",
     "output_type": "stream",
     "text": [
      "C:\\Users\\anton\\AppData\\Local\\Temp\\ipykernel_16948\\3580755685.py:8: FutureWarning:\n",
      "\n",
      "\n",
      "\n",
      "Passing `palette` without assigning `hue` is deprecated and will be removed in v0.14.0. Assign the `x` variable to `hue` and set `legend=False` for the same effect.\n",
      "\n",
      "\n"
     ]
    },
    {
     "data": {
      "image/png": "[encoded data removed]",
      "text/plain": [
       "<Figure size 800x300 with 1 Axes>"
      ]
     },
     "metadata": {},
     "output_type": "display_data"
    }
   ],
   "source": [
    "# Set the style to \"whitegrid\" for the seaborn plot\n",
    "sns.set(style=\"whitegrid\")\n",
    "\n",
    "# Set the figure size for the plot\n",
    "plt.figure(figsize=(8, 3))\n",
    "\n",
    "# Creating a bar plot using seaborn\n",
    "ax = sns.barplot(x='Marital Status', y='%_Marital_Status', data=violence_marital_status_probability, palette=\"Blues\")\n",
    "\n",
    "# Adding a label at the top of each bar plot \n",
    "for container in ax.containers:\n",
    "    ax.bar_label(container, fmt='%.3f')\n",
    "    \n",
    "# Adding labels and title to the plot\n",
    "plt.xlabel('Marital Status')  # X-axis label\n",
    "plt.ylabel('Probability of Violence (%)')  # Y-axis label\n",
    "plt.title('Probability of Violence by Marital Status')  # Title of the plot\n",
    "\n",
    "# Displaying the plot\n",
    "plt.show()"
   ]
  },
  {
   "cell_type": "markdown",
   "metadata": {},
   "source": [
    "##### **6.2 Generate the distribution for the \"Marital status\" column in the violence_against_women_dataset**"
   ]
  },
  {
   "cell_type": "markdown",
   "metadata": {},
   "source": [
    "The purpose of this section is to generate a \"Marital status\" column on the \"violence_against_women_dataset\" that indicates the marital status of the women under observation, taking into account their area of residence.\n",
    "\n",
    "In this section, we will initially calculate the probability for each area of residence that a woman falls into one of the following categories: single, married, widowed, or divorced. Subsequently, we will generate a new column in the violence_against_women dataset, named \"Marital status.\" This column will indicate, through a random choice distribution and using the previously calculated probabilities, the marital status of each woman.\n",
    "\n",
    "**6.2.1. Probability divided per region of Marital status**\n",
    "\n",
    "The distribution between marital status and area of residence in italy have been extracted from the [comuni-italiani website []](http://www.comuni-italiani.it/statistiche/coniugati.html).\n",
    "\n",
    "The website show the % of married, single, widow and divorced people divided by region.\n",
    "\n",
    "    - Create the Dataframe\n",
    "\n",
    "First we will need to enter the data as a dataframe using the **io.StringIO()** metod [[]](https://www.geeksforgeeks.org/construct-a-dataframe-in-pandas-using-string-data/). This code uses the io.StringIO module to convert the data string into a file-like object that pandas can read with pd.read_csv."
   ]
  },
  {
   "cell_type": "code",
   "execution_count": 966,
   "metadata": {},
   "outputs": [
    {
     "data": {
      "text/html": [
       "<div>\n",
       "<style scoped>\n",
       "    .dataframe tbody tr th:only-of-type {\n",
       "        vertical-align: middle;\n",
       "    }\n",
       "\n",
       "    .dataframe tbody tr th {\n",
       "        vertical-align: top;\n",
       "    }\n",
       "\n",
       "    .dataframe thead th {\n",
       "        text-align: right;\n",
       "    }\n",
       "</style>\n",
       "<table border=\"1\" class=\"dataframe\">\n",
       "  <thead>\n",
       "    <tr style=\"text-align: right;\">\n",
       "      <th></th>\n",
       "      <th>AreaOfResidence</th>\n",
       "      <th>Single</th>\n",
       "      <th>Married</th>\n",
       "      <th>Divorced</th>\n",
       "      <th>Widowed</th>\n",
       "      <th>Total</th>\n",
       "    </tr>\n",
       "  </thead>\n",
       "  <tbody>\n",
       "    <tr>\n",
       "      <th>0</th>\n",
       "      <td>Puglia</td>\n",
       "      <td>1680431</td>\n",
       "      <td>2047771</td>\n",
       "      <td>59777</td>\n",
       "      <td>275909</td>\n",
       "      <td>4063888</td>\n",
       "    </tr>\n",
       "    <tr>\n",
       "      <th>1</th>\n",
       "      <td>Basilicata</td>\n",
       "      <td>233063</td>\n",
       "      <td>283826</td>\n",
       "      <td>8108</td>\n",
       "      <td>45368</td>\n",
       "      <td>570365</td>\n",
       "    </tr>\n",
       "    <tr>\n",
       "      <th>2</th>\n",
       "      <td>Molise</td>\n",
       "      <td>125197</td>\n",
       "      <td>154426</td>\n",
       "      <td>4608</td>\n",
       "      <td>26218</td>\n",
       "      <td>310449</td>\n",
       "    </tr>\n",
       "    <tr>\n",
       "      <th>3</th>\n",
       "      <td>Abruzzo</td>\n",
       "      <td>534579</td>\n",
       "      <td>655591</td>\n",
       "      <td>27093</td>\n",
       "      <td>104984</td>\n",
       "      <td>1322247</td>\n",
       "    </tr>\n",
       "    <tr>\n",
       "      <th>4</th>\n",
       "      <td>Sicilia</td>\n",
       "      <td>2122407</td>\n",
       "      <td>2493149</td>\n",
       "      <td>78610</td>\n",
       "      <td>362475</td>\n",
       "      <td>5056641</td>\n",
       "    </tr>\n",
       "    <tr>\n",
       "      <th>5</th>\n",
       "      <td>Calabria</td>\n",
       "      <td>826606</td>\n",
       "      <td>968893</td>\n",
       "      <td>24960</td>\n",
       "      <td>144669</td>\n",
       "      <td>1965128</td>\n",
       "    </tr>\n",
       "    <tr>\n",
       "      <th>6</th>\n",
       "      <td>Campania</td>\n",
       "      <td>2523006</td>\n",
       "      <td>2853658</td>\n",
       "      <td>75166</td>\n",
       "      <td>387254</td>\n",
       "      <td>5839084</td>\n",
       "    </tr>\n",
       "    <tr>\n",
       "      <th>7</th>\n",
       "      <td>Umbria</td>\n",
       "      <td>361138</td>\n",
       "      <td>431497</td>\n",
       "      <td>22299</td>\n",
       "      <td>73974</td>\n",
       "      <td>888908</td>\n",
       "    </tr>\n",
       "    <tr>\n",
       "      <th>8</th>\n",
       "      <td>Marche</td>\n",
       "      <td>636481</td>\n",
       "      <td>741108</td>\n",
       "      <td>36403</td>\n",
       "      <td>124063</td>\n",
       "      <td>1538055</td>\n",
       "    </tr>\n",
       "    <tr>\n",
       "      <th>9</th>\n",
       "      <td>Toscana</td>\n",
       "      <td>1538464</td>\n",
       "      <td>1792460</td>\n",
       "      <td>107568</td>\n",
       "      <td>303945</td>\n",
       "      <td>3742437</td>\n",
       "    </tr>\n",
       "    <tr>\n",
       "      <th>10</th>\n",
       "      <td>Veneto</td>\n",
       "      <td>2080718</td>\n",
       "      <td>2336002</td>\n",
       "      <td>136439</td>\n",
       "      <td>354370</td>\n",
       "      <td>4907529</td>\n",
       "    </tr>\n",
       "    <tr>\n",
       "      <th>11</th>\n",
       "      <td>Piemonte</td>\n",
       "      <td>1771528</td>\n",
       "      <td>2090721</td>\n",
       "      <td>164131</td>\n",
       "      <td>366146</td>\n",
       "      <td>4392526</td>\n",
       "    </tr>\n",
       "    <tr>\n",
       "      <th>12</th>\n",
       "      <td>FriuliVeneziaGiulia</td>\n",
       "      <td>490888</td>\n",
       "      <td>572662</td>\n",
       "      <td>48255</td>\n",
       "      <td>106067</td>\n",
       "      <td>1217872</td>\n",
       "    </tr>\n",
       "    <tr>\n",
       "      <th>13</th>\n",
       "      <td>Lombardia</td>\n",
       "      <td>4318788</td>\n",
       "      <td>4680254</td>\n",
       "      <td>300759</td>\n",
       "      <td>719365</td>\n",
       "      <td>10019166</td>\n",
       "    </tr>\n",
       "    <tr>\n",
       "      <th>14</th>\n",
       "      <td>Lazio</td>\n",
       "      <td>2566807</td>\n",
       "      <td>2744813</td>\n",
       "      <td>177640</td>\n",
       "      <td>408864</td>\n",
       "      <td>5898124</td>\n",
       "    </tr>\n",
       "    <tr>\n",
       "      <th>15</th>\n",
       "      <td>Liguria</td>\n",
       "      <td>624489</td>\n",
       "      <td>726605</td>\n",
       "      <td>67158</td>\n",
       "      <td>147055</td>\n",
       "      <td>1565307</td>\n",
       "    </tr>\n",
       "    <tr>\n",
       "      <th>16</th>\n",
       "      <td>Sardegna</td>\n",
       "      <td>740771</td>\n",
       "      <td>759875</td>\n",
       "      <td>35809</td>\n",
       "      <td>116680</td>\n",
       "      <td>1653135</td>\n",
       "    </tr>\n",
       "    <tr>\n",
       "      <th>17</th>\n",
       "      <td>EmiliaRomagna</td>\n",
       "      <td>1917061</td>\n",
       "      <td>2037025</td>\n",
       "      <td>150809</td>\n",
       "      <td>343946</td>\n",
       "      <td>4448841</td>\n",
       "    </tr>\n",
       "    <tr>\n",
       "      <th>18</th>\n",
       "      <td>Valled'Aosta</td>\n",
       "      <td>56546</td>\n",
       "      <td>54971</td>\n",
       "      <td>5499</td>\n",
       "      <td>9867</td>\n",
       "      <td>126883</td>\n",
       "    </tr>\n",
       "    <tr>\n",
       "      <th>19</th>\n",
       "      <td>TrentinoAltoAdige</td>\n",
       "      <td>506054</td>\n",
       "      <td>457265</td>\n",
       "      <td>32706</td>\n",
       "      <td>66835</td>\n",
       "      <td>1062860</td>\n",
       "    </tr>\n",
       "  </tbody>\n",
       "</table>\n",
       "</div>"
      ],
      "text/plain": [
       "        AreaOfResidence   Single  Married  Divorced  Widowed     Total\n",
       "0                Puglia  1680431  2047771     59777   275909   4063888\n",
       "1            Basilicata   233063   283826      8108    45368    570365\n",
       "2                Molise   125197   154426      4608    26218    310449\n",
       "3               Abruzzo   534579   655591     27093   104984   1322247\n",
       "4               Sicilia  2122407  2493149     78610   362475   5056641\n",
       "5              Calabria   826606   968893     24960   144669   1965128\n",
       "6              Campania  2523006  2853658     75166   387254   5839084\n",
       "7                Umbria   361138   431497     22299    73974    888908\n",
       "8                Marche   636481   741108     36403   124063   1538055\n",
       "9               Toscana  1538464  1792460    107568   303945   3742437\n",
       "10               Veneto  2080718  2336002    136439   354370   4907529\n",
       "11             Piemonte  1771528  2090721    164131   366146   4392526\n",
       "12  FriuliVeneziaGiulia   490888   572662     48255   106067   1217872\n",
       "13            Lombardia  4318788  4680254    300759   719365  10019166\n",
       "14                Lazio  2566807  2744813    177640   408864   5898124\n",
       "15              Liguria   624489   726605     67158   147055   1565307\n",
       "16             Sardegna   740771   759875     35809   116680   1653135\n",
       "17        EmiliaRomagna  1917061  2037025    150809   343946   4448841\n",
       "18         Valled'Aosta    56546    54971      5499     9867    126883\n",
       "19    TrentinoAltoAdige   506054   457265     32706    66835   1062860"
      ]
     },
     "execution_count": 966,
     "metadata": {},
     "output_type": "execute_result"
    }
   ],
   "source": [
    "import io\n",
    "\n",
    "data = \"\"\"\n",
    "AreaOfResidence Single Married Divorced Widowed Total\n",
    "Puglia 1680431 2047771 59777 275909 4063888\n",
    "Basilicata 233063 283826 8108 45368 570365\n",
    "Molise 125197 154426 4608 26218 310449\n",
    "Abruzzo 534579 655591 27093 104984 1322247\n",
    "Sicilia 2122407 2493149 78610 362475 5056641\n",
    "Calabria 826606 968893 24960 144669 1965128\n",
    "Campania 2523006 2853658 75166 387254 5839084\n",
    "Umbria 361138 431497 22299 73974 888908\n",
    "Marche 636481 741108 36403 124063 1538055\n",
    "Toscana 1538464 1792460 107568 303945 3742437\n",
    "Veneto 2080718 2336002 136439 354370 4907529\n",
    "Piemonte 1771528 2090721 164131 366146 4392526\n",
    "FriuliVeneziaGiulia 490888 572662 48255 106067 1217872\n",
    "Lombardia 4318788 4680254 300759 719365 10019166\n",
    "Lazio 2566807 2744813 177640 408864 5898124\n",
    "Liguria 624489 726605 67158 147055 1565307\n",
    "Sardegna 740771 759875 35809 116680 1653135\n",
    "EmiliaRomagna 1917061 2037025 150809 343946 4448841\n",
    "Valled'Aosta 56546 54971 5499 9867 126883\n",
    "TrentinoAltoAdige 506054 457265 32706 66835 1062860\n",
    "\n",
    "\"\"\"\n",
    "\n",
    "# Read the data into a DataFrame\n",
    "marital_stausu_distribution = pd.read_csv(io.StringIO(data), delimiter=\"\\s+\")\n",
    "\n",
    "# Display the DataFrame\n",
    "marital_stausu_distribution"
   ]
  },
  {
   "cell_type": "markdown",
   "metadata": {},
   "source": [
    "    - Map 'AreaOfResidence' column's value \n",
    "Similar as above due to omogeneity with the violence_against_women dataframe, we will now map each regions in three main area: North, South and Centre.\n",
    "The following code replace the specified values in the 'AreaOfResidence' column of the marital_stausu_distribution DataFrame according to the regions defined in the replacements_regions dictionary."
   ]
  },
  {
   "cell_type": "code",
   "execution_count": 967,
   "metadata": {},
   "outputs": [
    {
     "data": {
      "text/html": [
       "<div>\n",
       "<style scoped>\n",
       "    .dataframe tbody tr th:only-of-type {\n",
       "        vertical-align: middle;\n",
       "    }\n",
       "\n",
       "    .dataframe tbody tr th {\n",
       "        vertical-align: top;\n",
       "    }\n",
       "\n",
       "    .dataframe thead th {\n",
       "        text-align: right;\n",
       "    }\n",
       "</style>\n",
       "<table border=\"1\" class=\"dataframe\">\n",
       "  <thead>\n",
       "    <tr style=\"text-align: right;\">\n",
       "      <th></th>\n",
       "      <th>AreaOfResidence</th>\n",
       "      <th>Single</th>\n",
       "      <th>Married</th>\n",
       "      <th>Divorced</th>\n",
       "      <th>Widowed</th>\n",
       "      <th>Total</th>\n",
       "    </tr>\n",
       "  </thead>\n",
       "  <tbody>\n",
       "    <tr>\n",
       "      <th>0</th>\n",
       "      <td>South</td>\n",
       "      <td>1680431</td>\n",
       "      <td>2047771</td>\n",
       "      <td>59777</td>\n",
       "      <td>275909</td>\n",
       "      <td>4063888</td>\n",
       "    </tr>\n",
       "    <tr>\n",
       "      <th>1</th>\n",
       "      <td>South</td>\n",
       "      <td>233063</td>\n",
       "      <td>283826</td>\n",
       "      <td>8108</td>\n",
       "      <td>45368</td>\n",
       "      <td>570365</td>\n",
       "    </tr>\n",
       "    <tr>\n",
       "      <th>2</th>\n",
       "      <td>South</td>\n",
       "      <td>125197</td>\n",
       "      <td>154426</td>\n",
       "      <td>4608</td>\n",
       "      <td>26218</td>\n",
       "      <td>310449</td>\n",
       "    </tr>\n",
       "    <tr>\n",
       "      <th>3</th>\n",
       "      <td>South</td>\n",
       "      <td>534579</td>\n",
       "      <td>655591</td>\n",
       "      <td>27093</td>\n",
       "      <td>104984</td>\n",
       "      <td>1322247</td>\n",
       "    </tr>\n",
       "    <tr>\n",
       "      <th>4</th>\n",
       "      <td>South</td>\n",
       "      <td>2122407</td>\n",
       "      <td>2493149</td>\n",
       "      <td>78610</td>\n",
       "      <td>362475</td>\n",
       "      <td>5056641</td>\n",
       "    </tr>\n",
       "    <tr>\n",
       "      <th>5</th>\n",
       "      <td>South</td>\n",
       "      <td>826606</td>\n",
       "      <td>968893</td>\n",
       "      <td>24960</td>\n",
       "      <td>144669</td>\n",
       "      <td>1965128</td>\n",
       "    </tr>\n",
       "    <tr>\n",
       "      <th>6</th>\n",
       "      <td>South</td>\n",
       "      <td>2523006</td>\n",
       "      <td>2853658</td>\n",
       "      <td>75166</td>\n",
       "      <td>387254</td>\n",
       "      <td>5839084</td>\n",
       "    </tr>\n",
       "    <tr>\n",
       "      <th>7</th>\n",
       "      <td>Centre</td>\n",
       "      <td>361138</td>\n",
       "      <td>431497</td>\n",
       "      <td>22299</td>\n",
       "      <td>73974</td>\n",
       "      <td>888908</td>\n",
       "    </tr>\n",
       "    <tr>\n",
       "      <th>8</th>\n",
       "      <td>Centre</td>\n",
       "      <td>636481</td>\n",
       "      <td>741108</td>\n",
       "      <td>36403</td>\n",
       "      <td>124063</td>\n",
       "      <td>1538055</td>\n",
       "    </tr>\n",
       "    <tr>\n",
       "      <th>9</th>\n",
       "      <td>Centre</td>\n",
       "      <td>1538464</td>\n",
       "      <td>1792460</td>\n",
       "      <td>107568</td>\n",
       "      <td>303945</td>\n",
       "      <td>3742437</td>\n",
       "    </tr>\n",
       "    <tr>\n",
       "      <th>10</th>\n",
       "      <td>North</td>\n",
       "      <td>2080718</td>\n",
       "      <td>2336002</td>\n",
       "      <td>136439</td>\n",
       "      <td>354370</td>\n",
       "      <td>4907529</td>\n",
       "    </tr>\n",
       "    <tr>\n",
       "      <th>11</th>\n",
       "      <td>North</td>\n",
       "      <td>1771528</td>\n",
       "      <td>2090721</td>\n",
       "      <td>164131</td>\n",
       "      <td>366146</td>\n",
       "      <td>4392526</td>\n",
       "    </tr>\n",
       "    <tr>\n",
       "      <th>12</th>\n",
       "      <td>North</td>\n",
       "      <td>490888</td>\n",
       "      <td>572662</td>\n",
       "      <td>48255</td>\n",
       "      <td>106067</td>\n",
       "      <td>1217872</td>\n",
       "    </tr>\n",
       "    <tr>\n",
       "      <th>13</th>\n",
       "      <td>North</td>\n",
       "      <td>4318788</td>\n",
       "      <td>4680254</td>\n",
       "      <td>300759</td>\n",
       "      <td>719365</td>\n",
       "      <td>10019166</td>\n",
       "    </tr>\n",
       "    <tr>\n",
       "      <th>14</th>\n",
       "      <td>Centre</td>\n",
       "      <td>2566807</td>\n",
       "      <td>2744813</td>\n",
       "      <td>177640</td>\n",
       "      <td>408864</td>\n",
       "      <td>5898124</td>\n",
       "    </tr>\n",
       "    <tr>\n",
       "      <th>15</th>\n",
       "      <td>North</td>\n",
       "      <td>624489</td>\n",
       "      <td>726605</td>\n",
       "      <td>67158</td>\n",
       "      <td>147055</td>\n",
       "      <td>1565307</td>\n",
       "    </tr>\n",
       "    <tr>\n",
       "      <th>16</th>\n",
       "      <td>South</td>\n",
       "      <td>740771</td>\n",
       "      <td>759875</td>\n",
       "      <td>35809</td>\n",
       "      <td>116680</td>\n",
       "      <td>1653135</td>\n",
       "    </tr>\n",
       "    <tr>\n",
       "      <th>17</th>\n",
       "      <td>North</td>\n",
       "      <td>1917061</td>\n",
       "      <td>2037025</td>\n",
       "      <td>150809</td>\n",
       "      <td>343946</td>\n",
       "      <td>4448841</td>\n",
       "    </tr>\n",
       "    <tr>\n",
       "      <th>18</th>\n",
       "      <td>North</td>\n",
       "      <td>56546</td>\n",
       "      <td>54971</td>\n",
       "      <td>5499</td>\n",
       "      <td>9867</td>\n",
       "      <td>126883</td>\n",
       "    </tr>\n",
       "    <tr>\n",
       "      <th>19</th>\n",
       "      <td>North</td>\n",
       "      <td>506054</td>\n",
       "      <td>457265</td>\n",
       "      <td>32706</td>\n",
       "      <td>66835</td>\n",
       "      <td>1062860</td>\n",
       "    </tr>\n",
       "  </tbody>\n",
       "</table>\n",
       "</div>"
      ],
      "text/plain": [
       "   AreaOfResidence   Single  Married  Divorced  Widowed     Total\n",
       "0            South  1680431  2047771     59777   275909   4063888\n",
       "1            South   233063   283826      8108    45368    570365\n",
       "2            South   125197   154426      4608    26218    310449\n",
       "3            South   534579   655591     27093   104984   1322247\n",
       "4            South  2122407  2493149     78610   362475   5056641\n",
       "5            South   826606   968893     24960   144669   1965128\n",
       "6            South  2523006  2853658     75166   387254   5839084\n",
       "7           Centre   361138   431497     22299    73974    888908\n",
       "8           Centre   636481   741108     36403   124063   1538055\n",
       "9           Centre  1538464  1792460    107568   303945   3742437\n",
       "10           North  2080718  2336002    136439   354370   4907529\n",
       "11           North  1771528  2090721    164131   366146   4392526\n",
       "12           North   490888   572662     48255   106067   1217872\n",
       "13           North  4318788  4680254    300759   719365  10019166\n",
       "14          Centre  2566807  2744813    177640   408864   5898124\n",
       "15           North   624489   726605     67158   147055   1565307\n",
       "16           South   740771   759875     35809   116680   1653135\n",
       "17           North  1917061  2037025    150809   343946   4448841\n",
       "18           North    56546    54971      5499     9867    126883\n",
       "19           North   506054   457265     32706    66835   1062860"
      ]
     },
     "execution_count": 967,
     "metadata": {},
     "output_type": "execute_result"
    }
   ],
   "source": [
    "\n",
    "# Replace multiple values in the 'AreaOfResidence' column\n",
    "replacements_regions = {\n",
    "    'Liguria': 'North', \n",
    "    'Lombardia': 'North',\n",
    "    'Piemonte': 'North',\n",
    "    \"Valled'Aosta\": 'North',\n",
    "    'EmiliaRomagna': 'North',\n",
    "    'FriuliVeneziaGiulia': 'North',\n",
    "    'TrentinoAltoAdige': 'North',\n",
    "    'Veneto': 'North',\n",
    "    'Lazio': 'Centre',\n",
    "    'Marche': 'Centre',\n",
    "    'Toscana': 'Centre',\n",
    "    'Umbria': 'Centre',\n",
    "    'Abruzzo': 'South',\n",
    "    'Basilicata': 'South',\n",
    "    'Calabria': 'South',\n",
    "    'Campania': 'South',\n",
    "    'Molise': 'South',\n",
    "    'Puglia': 'South',\n",
    "    'Sardegna': 'South',\n",
    "    'Sicilia': 'South',\n",
    "}\n",
    "\n",
    "# Replace values in the 'Territory' column using the dictionary\n",
    "marital_stausu_distribution['AreaOfResidence'] = marital_stausu_distribution['AreaOfResidence'].replace(replacements_regions)\n",
    "\n",
    "# Display the updated DataFrame\n",
    "marital_stausu_distribution"
   ]
  },
  {
   "cell_type": "markdown",
   "metadata": {},
   "source": [
    "We can now group the rows based on the Area of residence and sum the relative value."
   ]
  },
  {
   "cell_type": "code",
   "execution_count": 968,
   "metadata": {},
   "outputs": [],
   "source": [
    "# Group by 'AreaOfResidence' and sum specified columns, then reset the index\n",
    "marital_stausu_distribution = marital_stausu_distribution.groupby('AreaOfResidence')[['Single', 'Married', 'Divorced', 'Widowed', 'Total']].sum().reset_index()"
   ]
  },
  {
   "cell_type": "markdown",
   "metadata": {},
   "source": [
    "     - Generate the final probability for each marital status group by area of residence \n",
    "\n",
    "Finally, we will need to determinate the probability of each marital status, conidering the Area of residence, and extract the final probability dataframe.\n",
    "\n",
    "To do so in the following script we first calculate the percentages for each marital status category relative to the 'Total' column and then creates a new DataFrame without the original count columns.\n",
    "\n",
    "Finally we will display the **marital_status_distribution_probability** dataframe."
   ]
  },
  {
   "cell_type": "code",
   "execution_count": 969,
   "metadata": {},
   "outputs": [],
   "source": [
    "# Calculate the percentage of each marital status category relative to the 'Total' column\n",
    "marital_stausu_distribution['Single(%)'] = marital_stausu_distribution['Single'] / marital_stausu_distribution['Total']\n",
    "marital_stausu_distribution['Married(%)'] = marital_stausu_distribution['Married'] / marital_stausu_distribution['Total']\n",
    "marital_stausu_distribution['Divorced(%)'] = marital_stausu_distribution['Divorced'] / marital_stausu_distribution['Total']\n",
    "marital_stausu_distribution['Widowed(%)'] = marital_stausu_distribution['Widowed'] / marital_stausu_distribution['Total']\n",
    "\n",
    "# List of columns to be removed from the DataFrame\n",
    "columns_to_be_removed = ['Single', 'Married', 'Divorced', 'Widowed', 'Total']\n",
    "\n",
    "# Remove the specified columns from the 'marital_stausu_distribution' DataFrame\n",
    "marital_status_distribution_probability = marital_stausu_distribution.drop(columns=columns_to_be_removed)"
   ]
  },
  {
   "cell_type": "code",
   "execution_count": 970,
   "metadata": {},
   "outputs": [
    {
     "data": {
      "text/html": [
       "<div>\n",
       "<style scoped>\n",
       "    .dataframe tbody tr th:only-of-type {\n",
       "        vertical-align: middle;\n",
       "    }\n",
       "\n",
       "    .dataframe tbody tr th {\n",
       "        vertical-align: top;\n",
       "    }\n",
       "\n",
       "    .dataframe thead th {\n",
       "        text-align: right;\n",
       "    }\n",
       "</style>\n",
       "<table border=\"1\" class=\"dataframe\">\n",
       "  <thead>\n",
       "    <tr style=\"text-align: right;\">\n",
       "      <th></th>\n",
       "      <th>AreaOfResidence</th>\n",
       "      <th>Single(%)</th>\n",
       "      <th>Married(%)</th>\n",
       "      <th>Divorced(%)</th>\n",
       "      <th>Widowed(%)</th>\n",
       "    </tr>\n",
       "  </thead>\n",
       "  <tbody>\n",
       "    <tr>\n",
       "      <th>0</th>\n",
       "      <td>Centre</td>\n",
       "      <td>0.422861</td>\n",
       "      <td>0.473161</td>\n",
       "      <td>0.028499</td>\n",
       "      <td>0.075479</td>\n",
       "    </tr>\n",
       "    <tr>\n",
       "      <th>1</th>\n",
       "      <td>North</td>\n",
       "      <td>0.424140</td>\n",
       "      <td>0.467017</td>\n",
       "      <td>0.032650</td>\n",
       "      <td>0.076192</td>\n",
       "    </tr>\n",
       "    <tr>\n",
       "      <th>2</th>\n",
       "      <td>South</td>\n",
       "      <td>0.422794</td>\n",
       "      <td>0.491662</td>\n",
       "      <td>0.015116</td>\n",
       "      <td>0.070428</td>\n",
       "    </tr>\n",
       "  </tbody>\n",
       "</table>\n",
       "</div>"
      ],
      "text/plain": [
       "  AreaOfResidence  Single(%)  Married(%)  Divorced(%)  Widowed(%)\n",
       "0          Centre   0.422861    0.473161     0.028499    0.075479\n",
       "1           North   0.424140    0.467017     0.032650    0.076192\n",
       "2           South   0.422794    0.491662     0.015116    0.070428"
      ]
     },
     "execution_count": 970,
     "metadata": {},
     "output_type": "execute_result"
    }
   ],
   "source": [
    "# Display the updated DataFrame with the calculated percentages\n",
    "marital_status_distribution_probability"
   ]
  },
  {
   "cell_type": "markdown",
   "metadata": {},
   "source": [
    "**6.2.2. Generate the \"Marital status\" column in the \"violence_against_women\" dataframe**\n",
    "\n",
    "We need now to use the percentage of each marital status previously calculate to generate a distribution to populate the \"Marital Status\" column in our dataset through a random choice distribution. \n",
    "\n",
    "To do so, the code starts by computing the average percentages of various marital statuses for each region. It then defines a function, **generate_marital_status**, which extracts the regional probabilities and utilizes NumPy's **random choice** [[]](https://www.geeksforgeeks.org/flatten-a-list-of-dataframes/) mechanism to stochastically assign a **Marital Status** to each row in the **violence_against_women** DataFrame. The function considers the calculated probabilities as weights, allowing for a more realistic representation of marital status distributions across different regions. This process introduces a degree of randomness, reflecting the inherent variability in marital status patterns within each geographic area."
   ]
  },
  {
   "cell_type": "code",
   "execution_count": 971,
   "metadata": {},
   "outputs": [
    {
     "data": {
      "text/html": [
       "<div>\n",
       "<style scoped>\n",
       "    .dataframe tbody tr th:only-of-type {\n",
       "        vertical-align: middle;\n",
       "    }\n",
       "\n",
       "    .dataframe tbody tr th {\n",
       "        vertical-align: top;\n",
       "    }\n",
       "\n",
       "    .dataframe thead th {\n",
       "        text-align: right;\n",
       "    }\n",
       "</style>\n",
       "<table border=\"1\" class=\"dataframe\">\n",
       "  <thead>\n",
       "    <tr style=\"text-align: right;\">\n",
       "      <th></th>\n",
       "      <th>AreaOfResidence</th>\n",
       "      <th>Education level</th>\n",
       "      <th>Professional Status</th>\n",
       "      <th>Marital Status</th>\n",
       "    </tr>\n",
       "  </thead>\n",
       "  <tbody>\n",
       "    <tr>\n",
       "      <th>0</th>\n",
       "      <td>North</td>\n",
       "      <td>Higher Education</td>\n",
       "      <td>Occupied</td>\n",
       "      <td>Single</td>\n",
       "    </tr>\n",
       "    <tr>\n",
       "      <th>1</th>\n",
       "      <td>North</td>\n",
       "      <td>Higher Education</td>\n",
       "      <td>Unoccupied</td>\n",
       "      <td>Single</td>\n",
       "    </tr>\n",
       "    <tr>\n",
       "      <th>2</th>\n",
       "      <td>North</td>\n",
       "      <td>Higher Education</td>\n",
       "      <td>Occupied</td>\n",
       "      <td>Married</td>\n",
       "    </tr>\n",
       "    <tr>\n",
       "      <th>3</th>\n",
       "      <td>Centre</td>\n",
       "      <td>Primary Education</td>\n",
       "      <td>Unoccupied</td>\n",
       "      <td>Married</td>\n",
       "    </tr>\n",
       "    <tr>\n",
       "      <th>4</th>\n",
       "      <td>North</td>\n",
       "      <td>Secondary Education</td>\n",
       "      <td>Unoccupied</td>\n",
       "      <td>Single</td>\n",
       "    </tr>\n",
       "    <tr>\n",
       "      <th>...</th>\n",
       "      <td>...</td>\n",
       "      <td>...</td>\n",
       "      <td>...</td>\n",
       "      <td>...</td>\n",
       "    </tr>\n",
       "    <tr>\n",
       "      <th>495</th>\n",
       "      <td>Centre</td>\n",
       "      <td>Primary Education</td>\n",
       "      <td>Unoccupied</td>\n",
       "      <td>Single</td>\n",
       "    </tr>\n",
       "    <tr>\n",
       "      <th>496</th>\n",
       "      <td>North</td>\n",
       "      <td>Primary Education</td>\n",
       "      <td>Unoccupied</td>\n",
       "      <td>Married</td>\n",
       "    </tr>\n",
       "    <tr>\n",
       "      <th>497</th>\n",
       "      <td>Centre</td>\n",
       "      <td>Primary Education</td>\n",
       "      <td>Unoccupied</td>\n",
       "      <td>Married</td>\n",
       "    </tr>\n",
       "    <tr>\n",
       "      <th>498</th>\n",
       "      <td>South</td>\n",
       "      <td>Secondary Education</td>\n",
       "      <td>Unoccupied</td>\n",
       "      <td>Married</td>\n",
       "    </tr>\n",
       "    <tr>\n",
       "      <th>499</th>\n",
       "      <td>North</td>\n",
       "      <td>Higher Education</td>\n",
       "      <td>Unoccupied</td>\n",
       "      <td>Widowed</td>\n",
       "    </tr>\n",
       "  </tbody>\n",
       "</table>\n",
       "<p>500 rows × 4 columns</p>\n",
       "</div>"
      ],
      "text/plain": [
       "    AreaOfResidence      Education level Professional Status Marital Status\n",
       "0             North     Higher Education            Occupied         Single\n",
       "1             North     Higher Education          Unoccupied         Single\n",
       "2             North     Higher Education            Occupied        Married\n",
       "3            Centre    Primary Education          Unoccupied        Married\n",
       "4             North  Secondary Education          Unoccupied         Single\n",
       "..              ...                  ...                 ...            ...\n",
       "495          Centre    Primary Education          Unoccupied         Single\n",
       "496           North    Primary Education          Unoccupied        Married\n",
       "497          Centre    Primary Education          Unoccupied        Married\n",
       "498           South  Secondary Education          Unoccupied        Married\n",
       "499           North     Higher Education          Unoccupied        Widowed\n",
       "\n",
       "[500 rows x 4 columns]"
      ]
     },
     "execution_count": 971,
     "metadata": {},
     "output_type": "execute_result"
    }
   ],
   "source": [
    "# Calculate the mean of marital status percentages for each region\n",
    "marital_status_distribution_probability = marital_stausu_distribution.groupby('AreaOfResidence')[['Single(%)', 'Married(%)', 'Divorced(%)', 'Widowed(%)']].mean().reset_index()\n",
    "\n",
    "# Define the list of marital status categories\n",
    "marital_status_list = ['Single', 'Married', 'Divorced', 'Widowed']\n",
    "\n",
    "# Create a function to generate random marital statuses based on probabilities\n",
    "def generate_marital_status(row):\n",
    "    # Extract the region from the row\n",
    "    region = row['AreaOfResidence']\n",
    "\n",
    "    # Extract the probabilities for each marital status category in the region\n",
    "    probability = marital_status_distribution_probability.loc[marital_status_distribution_probability['AreaOfResidence'] == region]\n",
    "\n",
    "    # Flatten the probability values into a 1D array\n",
    "    prob = probability.loc[:, 'Single(%)':].values.flatten()\n",
    "\n",
    "    # Generate a random marital status based on the probabilities\n",
    "    return np.random.choice(marital_status_list, p=prob)\n",
    "\n",
    "# Apply the function to create the 'Marital Status' column in the 'violence_against_women' DataFrame\n",
    "violence_against_women['Marital Status'] = violence_against_women.apply(generate_marital_status, axis=1)\n",
    "\n",
    "# Display the updated 'violence_against_women' DataFrame with the new 'Marital Status' column\n",
    "violence_against_women"
   ]
  },
  {
   "cell_type": "code",
   "execution_count": 972,
   "metadata": {},
   "outputs": [
    {
     "data": {
      "text/plain": [
       "Marital Status\n",
       "Single      227\n",
       "Married     218\n",
       "Widowed      41\n",
       "Divorced     14\n",
       "Name: count, dtype: int64"
      ]
     },
     "execution_count": 972,
     "metadata": {},
     "output_type": "execute_result"
    }
   ],
   "source": [
    "violence_against_women['Marital Status'].value_counts()"
   ]
  },
  {
   "cell_type": "markdown",
   "metadata": {},
   "source": [
    "### **7. Finalizing the datase: violence_against_women_dataset**\n",
    "\n",
    "This section generates and explores the final dataset indicating whether a woman, based on a specific combination of area of residence, level of education, occupational status, and marital status, has experienced violence within the last 5 years.\n",
    "\n",
    "#### **7.2 Generate the Distribution of the ViolenceOccurred Column**\n",
    "\n",
    "We can now generate the final column of the dataset that will indicate whether a woman with that set of characteristics will experience violence or not.\n",
    "\n",
    "For this task, we will use the inclusion-exclusion principle [[]](https://www.gameludere.it/2019/01/18/principio-di-inclusione-esclusione/) [[]](https://it.wikipedia.org/wiki/Principio_di_inclusione-esclusione) to calculate the probability that a woman, with that set of characteristics, will experience violence.\n",
    "\n",
    "This has been done through a code that generates a synthetic dataset, called **violence_against_women_dataset**, by combining the **violence_against_women** dataset with the probability to endure physical/sexual violence by a partner/expartner in the next 5 year by education level, region of residence, labor status, and marital status. It then calculates the probability of experiencing violence based on these factors, using the inclusion-exclusion principle, simulates whether an individual has experienced violence and provides counts of 'Yes' and 'No' in the **ViolenceOccurred** column.\n",
    "\n",
    "Below a more detailed explanation of the code."
   ]
  },
  {
   "cell_type": "markdown",
   "metadata": {},
   "source": [
    "<details>\n",
    "  <summary>Data Merging</summary>\n",
    "\n",
    "These lines of code merge several DataFrames (**violence_educational_level_probability, violence_by_region_probability, violence_per_labour_statu_probability, and violence_marital_status_probability**) into the **violence_against_women** DataFrame based on specific columns such as 'Education level', 'AreaOfResidence', 'Professional Status', and 'Marital Status'. It the create a new dataframe, our final dataframe, called **violence_against_women_dataset**. The merge have been performed with the merge function [[]](https://pandas.pydata.org/docs/reference/api/pandas.DataFrame.merge.html) [[]](https://realpython.com/pandas-merge-join-and-concat/)."
   ]
  },
  {
   "cell_type": "code",
   "execution_count": 973,
   "metadata": {},
   "outputs": [],
   "source": [
    "# Merge the probability DataFrames\n",
    "violence_against_women_dataset = pd.merge(violence_against_women, violence_educational_level_probability, on='Education level')\n",
    "violence_against_women_dataset = pd.merge(violence_against_women_dataset, violence_by_region_probability, on='AreaOfResidence')\n",
    "violence_against_women_dataset = pd.merge(violence_against_women_dataset, violence_per_labour_statu_probability, on='Professional Status')\n",
    "violence_against_women_dataset = pd.merge(violence_against_women_dataset, violence_marital_status_probability, on='Marital Status')\n"
   ]
  },
  {
   "cell_type": "markdown",
   "metadata": {},
   "source": [
    "<details>\n",
    "  <summary>Define the calculate_violence_occurred function</summary>\n",
    "\n",
    "A function named **calculate_violence_occurred** is defined to determine the occurrence of violence for each individual based on the total probability. This function takes a row of data as input, extracts probabilities from specific columns, and calculates the total probability using the inclusion-exclusion principle. Subsequently, the total probability is used in a Bernoulli distribution, simulated with a binomial distribution with one trial. The output is a binary value, where 1 indicates violence occurrence and 0 signifies no violence. Finally, the binary outcome is transformed through an if statement, with 1 being represented as 'Yes' and 0 as 'No' in the result."
   ]
  },
  {
   "cell_type": "code",
   "execution_count": 974,
   "metadata": {},
   "outputs": [],
   "source": [
    "# def the calculate_violence_occurred function to calculate the total probability\n",
    "def calculate_violence_occurred(row):\n",
    "    # Extract probabilities from the row\n",
    "    a = row['%_Violence_Education']\n",
    "    b = row['%_Violence_Territory']\n",
    "    c = row['%_violence_labour']\n",
    "    d = row['%_Marital_Status']\n",
    "\n",
    "    # Calculate total probability using the inclusion-exclusion principle\n",
    "    total_probability = (\n",
    "        a + b + c + d -\n",
    "        (a * b) - (a * c) - (a * d) -\n",
    "        (b * c) - (b * d) - (c * d) +\n",
    "        (a * b * c) + (a * b * d) + (a * c * d) + (b * c * d) -\n",
    "        (a * b * c * d)\n",
    "    )\n",
    "\n",
    "    # Use the total probability to simulate violence occurrence\n",
    "    violence_occurred = np.random.binomial(1, p=total_probability)\n",
    "    # Assign 'Yes' if violence occurred, 'No' otherwise\n",
    "    event = \"Yes\" if violence_occurred == 1 else \"No\"\n",
    "\n",
    "    return event"
   ]
  },
  {
   "cell_type": "markdown",
   "metadata": {},
   "source": [
    "<details>\n",
    "  <summary>Applying the function</summary>\n",
    "\n",
    "The **calculate_violence_occurred** function is applied to each row of the DataFrame using the **apply** method. The result, indicating whether violence occurred ('Yes') or not ('No'), is stored in a new column named **ViolenceOccurred**."
   ]
  },
  {
   "cell_type": "code",
   "execution_count": 975,
   "metadata": {},
   "outputs": [],
   "source": [
    "# Apply the function to each row to calculate total probability and output 'Yes' or 'No'\n",
    "violence_against_women_dataset['ViolenceOccurred'] = violence_against_women_dataset.apply(calculate_violence_occurred, axis=1)"
   ]
  },
  {
   "cell_type": "markdown",
   "metadata": {},
   "source": [
    "<details>\n",
    "  <summary>Formatting the dataset and display</summary>\n",
    "\n",
    "Finally, the dataframe is formatted for a better display dropping the columnns created for the final calculation and not needed anymore and we can display the final dataset."
   ]
  },
  {
   "cell_type": "code",
   "execution_count": 976,
   "metadata": {},
   "outputs": [],
   "source": [
    "# Drop all probability columns as they are no longer needed\n",
    "remove_columns = ['%_Violence_Education', '%_Violence_Territory', '%_violence_labour', '%_Marital_Status']\n",
    "violence_against_women_dataset.drop(remove_columns , axis=1, inplace=True)"
   ]
  },
  {
   "cell_type": "code",
   "execution_count": 977,
   "metadata": {},
   "outputs": [
    {
     "name": "stdout",
     "output_type": "stream",
     "text": [
      "violence_against_women_dataset.columns\n"
     ]
    },
    {
     "data": {
      "text/plain": [
       "Index(['AreaOfResidence', 'Education level', 'Professional Status',\n",
       "       'Marital Status', 'ViolenceOccurred'],\n",
       "      dtype='object')"
      ]
     },
     "execution_count": 977,
     "metadata": {},
     "output_type": "execute_result"
    }
   ],
   "source": [
    "#Display the dataset \n",
    "violence_against_women_dataset.columns\n",
    "\n",
    "print('violence_against_women_dataset.columns')\n",
    "violence_against_women_dataset.columns"
   ]
  },
  {
   "cell_type": "markdown",
   "metadata": {},
   "source": [
    "#### **7.2 Data exploration and visualizatio**n"
   ]
  },
  {
   "cell_type": "markdown",
   "metadata": {},
   "source": [
    "We can now check with a graph the count of the woman who endured violence withing 5 year based on the dataset. For visualization issue I have choose a bar plot and a cake plot. Both of them apply to categorical variable.\n",
    "\n",
    "The following python code create a side-by-side comparison [[]](https://python-course.eu/numerical-programming/creating-subplots-in-matplotlib.php) of visualizations for the Varaiable **ViolenceOccurred** of the dataset/. The first subplot is a countplot (bar chart) [[]](https://datagy.io/seaborn-countplot/) [[]](https://stackoverflow.com/questions/55104819/display-count-on-top-of-seaborn-barplot) showing the number of women who endured violence within 5 years. The second subplot is a pie chart illustrating the same distribution in another verison [[]](https://matplotlib.org/3.1.1/gallery/pie_and_polar_charts/pie_features.html). The code employs informative color palettes and formatting for enhanced clarity and aesthetics. Labels are added to the countplot bars for better readability. The figure is titled \"Violence Against Women - 5 Year Analysis,\" and the layout is adjusted to prevent clipping.\n",
    "\n"
   ]
  },
  {
   "cell_type": "code",
   "execution_count": 978,
   "metadata": {},
   "outputs": [
    {
     "data": {
      "image/png": "[encoded data removed]",
      "text/plain": [
       "<Figure size 1500x600 with 2 Axes>"
      ]
     },
     "metadata": {},
     "output_type": "display_data"
    }
   ],
   "source": [
    "# Create a figure with two subplots side by side\n",
    "fig, (ax1, ax2) = plt.subplots(1, 2, figsize=(15, 6))\n",
    "\n",
    "# Plot a countplot on the first subplot (ax1)\n",
    "sns.countplot(x='ViolenceOccurred', data=violence_against_women_dataset, hue='ViolenceOccurred', palette='viridis', ax=ax1)\n",
    "\n",
    "# Add labels to the bars in the countplot\n",
    "for label in ax1.containers:\n",
    "    ax1.bar_label(label)\n",
    "\n",
    "# Set labels for the first subplot\n",
    "ax1.set_xlabel('Violence Occurred')\n",
    "ax1.set_ylabel('Count')\n",
    "\n",
    "# Calculate and plot a pie chart on the second subplot (ax2)\n",
    "violence_occurred_counts = violence_against_women_dataset['ViolenceOccurred'].value_counts()\n",
    "labels = violence_occurred_counts.index\n",
    "sizes = violence_occurred_counts.values\n",
    "colors = ['lightcoral', 'lightgreen']\n",
    "explode = (0.1, 0)\n",
    "\n",
    "ax2.pie(sizes, labels=labels, explode=explode,\n",
    "        colors=colors, autopct='%1.1f%%', \n",
    "        shadow=True, startangle=90)\n",
    "\n",
    "# Adjust layout to prevent clipping of titles\n",
    "plt.tight_layout(rect=[0, 0, 1, 0.96])\n",
    "\n",
    "# Add a title to the entire figure\n",
    "fig.suptitle('Distribution of Violence Occurrence', fontsize=16)\n",
    "\n",
    "# Display the plot\n",
    "plt.show()"
   ]
  },
  {
   "cell_type": "markdown",
   "metadata": {},
   "source": [
    "Another nice plot for visualizing categorical variables is the sunburst plot [[]](#https://plotly.com/python/sunburst-charts/) [[]](https://python-charts.com/part-whole/sunburst-plotly/?utm_content=cmp-true) [[]](https://plotly.com/python/setting-graph-size/). A sunburst plot provides a hierarchical view of data, representing nested categories with concentric circles. Each circle segment corresponds to a category, and the size of each segment reflects its proportion within the overall data. This type of plot is particularly useful for illustrating the relationships and compositions within categorical data, offering an insightful and visually appealing way to explore complex hierarchies. Sunburst plots are valuable for conveying both the distribution and the hierarchical structure of categorical variables in a single, intuitive visualization. The sunburst has been geenrated with the plotly library. "
   ]
  },
  {
   "cell_type": "code",
   "execution_count": 979,
   "metadata": {},
   "outputs": [
    {
     "data": {
      "application/vnd.plotly.v1+json": {
       "config": {
        "plotlyServerURL": "https://plot.ly"
       },
       "data": [
        {
         "branchvalues": "total",
         "customdata": [
          [
           "Centre"
          ],
          [
           "Centre"
          ],
          [
           "Centre"
          ],
          [
           "North"
          ],
          [
           "Centre"
          ],
          [
           "North"
          ],
          [
           "North"
          ],
          [
           "South"
          ],
          [
           "South"
          ],
          [
           "Centre"
          ],
          [
           "Centre"
          ],
          [
           "North"
          ],
          [
           "North"
          ],
          [
           "Centre"
          ],
          [
           "Centre"
          ],
          [
           "North"
          ],
          [
           "North"
          ],
          [
           "South"
          ],
          [
           "Centre"
          ],
          [
           "South"
          ],
          [
           "North"
          ],
          [
           "South"
          ],
          [
           "Centre"
          ],
          [
           "North"
          ],
          [
           "North"
          ],
          [
           "Centre"
          ],
          [
           "Centre"
          ],
          [
           "South"
          ],
          [
           "South"
          ],
          [
           "North"
          ],
          [
           "North"
          ],
          [
           "Centre"
          ],
          [
           "South"
          ],
          [
           "South"
          ],
          [
           "North"
          ],
          [
           "North"
          ],
          [
           "Centre"
          ],
          [
           "Centre"
          ],
          [
           "South"
          ],
          [
           "North"
          ],
          [
           "North"
          ],
          [
           "South"
          ],
          [
           "Centre"
          ],
          [
           "Centre"
          ],
          [
           "North"
          ],
          [
           "North"
          ],
          [
           "South"
          ],
          [
           "South"
          ],
          [
           "Centre"
          ],
          [
           "Centre"
          ],
          [
           "North"
          ],
          [
           "North"
          ],
          [
           "South"
          ],
          [
           "South"
          ],
          [
           "Centre"
          ],
          [
           "Centre"
          ],
          [
           "North"
          ],
          [
           "North"
          ],
          [
           "South"
          ],
          [
           "South"
          ],
          [
           "Centre"
          ],
          [
           "South"
          ],
          [
           "South"
          ],
          [
           "North"
          ],
          [
           "North"
          ],
          [
           "South"
          ],
          [
           "South"
          ],
          [
           "Centre"
          ],
          [
           "Centre"
          ],
          [
           "North"
          ],
          [
           "North"
          ],
          [
           "South"
          ],
          [
           "North"
          ],
          [
           "South"
          ],
          [
           "Centre"
          ],
          [
           "North"
          ],
          [
           "North"
          ],
          [
           "South"
          ],
          [
           "South"
          ],
          [
           "Centre"
          ],
          [
           "Centre"
          ],
          [
           "North"
          ],
          [
           "Centre"
          ],
          [
           "Centre"
          ],
          [
           "Centre"
          ],
          [
           "South"
          ],
          [
           "Centre"
          ],
          [
           "North"
          ],
          [
           "North"
          ],
          [
           "South"
          ],
          [
           "South"
          ],
          [
           "Centre"
          ],
          [
           "Centre"
          ],
          [
           "Centre"
          ],
          [
           "North"
          ],
          [
           "South"
          ],
          [
           "Centre"
          ],
          [
           "Centre"
          ],
          [
           "North"
          ],
          [
           "North"
          ],
          [
           "North"
          ],
          [
           "South"
          ],
          [
           "North"
          ],
          [
           "North"
          ],
          [
           "North"
          ],
          [
           "North"
          ],
          [
           "South"
          ],
          [
           "Centre"
          ],
          [
           "Centre"
          ],
          [
           "North"
          ],
          [
           "North"
          ],
          [
           "Centre"
          ],
          [
           "Centre"
          ],
          [
           "North"
          ],
          [
           "North"
          ],
          [
           "South"
          ],
          [
           "South"
          ],
          [
           "Centre"
          ],
          [
           "Centre"
          ],
          [
           "South"
          ],
          [
           "(?)"
          ],
          [
           "South"
          ],
          [
           "Centre"
          ],
          [
           "North"
          ],
          [
           "South"
          ],
          [
           "South"
          ],
          [
           "Centre"
          ],
          [
           "Centre"
          ],
          [
           "North"
          ],
          [
           "North"
          ],
          [
           "North"
          ],
          [
           "South"
          ],
          [
           "Centre"
          ],
          [
           "Centre"
          ],
          [
           "North"
          ],
          [
           "North"
          ],
          [
           "South"
          ],
          [
           "South"
          ],
          [
           "Centre"
          ],
          [
           "(?)"
          ],
          [
           "North"
          ],
          [
           "North"
          ],
          [
           "South"
          ],
          [
           "South"
          ],
          [
           "Centre"
          ],
          [
           "Centre"
          ],
          [
           "Centre"
          ],
          [
           "South"
          ],
          [
           "South"
          ],
          [
           "North"
          ],
          [
           "Centre"
          ],
          [
           "Centre"
          ],
          [
           "South"
          ],
          [
           "South"
          ],
          [
           "North"
          ],
          [
           "North"
          ],
          [
           "North"
          ],
          [
           "Centre"
          ]
         ],
         "domain": {
          "x": [
           0,
           1
          ],
          "y": [
           0,
           1
          ]
         },
         "hovertemplate": "labels=%{label}<br>count=%{value}<br>parent=%{parent}<br>id=%{id}<br>AreaOfResidence=%{customdata[0]}<extra></extra>",
         "ids": [
          "Yes/Centre/Higher Education/Occupied/Widowed",
          "No/Centre/Higher Education/Unoccupied/Single",
          "Yes/Centre/Higher Education/Unoccupied/Widowed",
          "Yes/North/Higher Education/Unoccupied/Widowed",
          "No/Centre/Primary Education/Unoccupied/Widowed",
          "No/North/Primary Education/Unoccupied/Widowed",
          "Yes/North/Primary Education/Unoccupied/Widowed",
          "No/South/Primary Education/Unoccupied/Widowed",
          "Yes/South/Primary Education/Unoccupied/Widowed",
          "No/Centre/Secondary Education/Unoccupied/Widowed",
          "Yes/Centre/Secondary Education/Unoccupied/Widowed",
          "No/North/Secondary Education/Unoccupied/Widowed",
          "Yes/North/Secondary Education/Unoccupied/Widowed",
          "No/Centre/Higher Education/Occupied",
          "Yes/Centre/Higher Education/Occupied",
          "No/North/Higher Education/Occupied",
          "Yes/North/Higher Education/Occupied",
          "No/South/Higher Education/Occupied",
          "Yes/Centre/Higher Education/Unoccupied/Single",
          "Yes/South/Higher Education/Occupied",
          "No/North/Higher Education/Unoccupied/Single",
          "No/South/Higher Education/Unoccupied/Single",
          "No/Centre/Secondary Education/Occupied/Widowed",
          "No/North/Primary Education/Occupied/Widowed",
          "No/North/Higher Education/Occupied/Widowed",
          "No/Centre/Higher Education/Unoccupied/Widowed",
          "No/Centre/Higher Education/Occupied/Widowed",
          "Yes/South/Secondary Education/Unoccupied/Single",
          "No/South/Secondary Education/Unoccupied/Single",
          "Yes/North/Secondary Education/Unoccupied/Single",
          "No/North/Secondary Education/Unoccupied/Single",
          "No/Centre/Secondary Education/Unoccupied/Single",
          "Yes/South/Primary Education/Unoccupied/Single",
          "No/South/Primary Education/Unoccupied/Single",
          "Yes/North/Primary Education/Unoccupied/Single",
          "No/North/Primary Education/Unoccupied/Single",
          "Yes/Centre/Primary Education/Unoccupied/Single",
          "No/Centre/Primary Education/Unoccupied/Single",
          "Yes/South/Higher Education/Unoccupied/Single",
          "Yes/North/Higher Education/Unoccupied/Single",
          "No/North/Secondary Education/Occupied/Widowed",
          "No/South/Secondary Education/Occupied/Widowed",
          "No/Centre/Higher Education/Unoccupied",
          "Yes/Centre/Primary Education",
          "No/North/Primary Education",
          "Yes/North/Primary Education",
          "No/South/Primary Education",
          "Yes/South/Primary Education",
          "No/Centre/Secondary Education",
          "Yes/Centre/Secondary Education",
          "No/North/Secondary Education",
          "Yes/North/Secondary Education",
          "No/South/Secondary Education",
          "Yes/South/Secondary Education",
          "No/Centre",
          "Yes/Centre",
          "No/North",
          "Yes/North",
          "No/South",
          "Yes/South",
          "No/Centre/Primary Education",
          "Yes/South/Higher Education",
          "No/South/Higher Education",
          "Yes/North/Higher Education",
          "Yes/North/Higher Education/Unoccupied",
          "No/South/Higher Education/Unoccupied",
          "Yes/South/Higher Education/Unoccupied",
          "No/Centre/Primary Education/Unoccupied",
          "Yes/Centre/Primary Education/Unoccupied",
          "No/North/Primary Education/Unoccupied",
          "Yes/North/Primary Education/Unoccupied",
          "No/South/Primary Education/Unoccupied",
          "No/North/Higher Education/Unoccupied",
          "Yes/South/Primary Education/Unoccupied",
          "Yes/Centre/Secondary Education/Unoccupied",
          "No/North/Secondary Education/Unoccupied",
          "Yes/North/Secondary Education/Unoccupied",
          "No/South/Secondary Education/Unoccupied",
          "Yes/South/Secondary Education/Unoccupied",
          "No/Centre/Higher Education",
          "Yes/Centre/Higher Education",
          "No/North/Higher Education",
          "No/Centre/Secondary Education/Unoccupied",
          "Yes/Centre/Higher Education/Unoccupied",
          "No/Centre/Higher Education/Occupied/Divorced",
          "Yes/South/Secondary Education/Occupied/Single",
          "Yes/Centre/Secondary Education/Occupied/Married",
          "No/North/Secondary Education/Occupied/Married",
          "Yes/North/Secondary Education/Occupied/Married",
          "No/South/Secondary Education/Occupied/Married",
          "Yes/South/Secondary Education/Occupied/Married",
          "No/Centre/Higher Education/Unoccupied/Married",
          "No/Centre/Secondary Education/Occupied/Married",
          "Yes/Centre/Higher Education/Unoccupied/Married",
          "Yes/North/Higher Education/Unoccupied/Married",
          "No/South/Higher Education/Unoccupied/Married",
          "No/Centre/Primary Education/Unoccupied/Married",
          "Yes/Centre/Primary Education/Unoccupied/Married",
          "No/North/Primary Education/Unoccupied/Married",
          "Yes/North/Primary Education/Unoccupied/Married",
          "No/North/Higher Education/Unoccupied/Married",
          "No/South/Primary Education/Occupied/Married",
          "Yes/North/Primary Education/Occupied/Married",
          "No/North/Primary Education/Occupied/Married",
          "No/North/Higher Education/Occupied/Divorced",
          "No/North/Primary Education/Occupied/Divorced",
          "Yes/South/Higher Education/Unoccupied/Divorced",
          "No/Centre/Primary Education/Unoccupied/Divorced",
          "Yes/Centre/Primary Education/Unoccupied/Divorced",
          "No/North/Primary Education/Unoccupied/Divorced",
          "Yes/North/Secondary Education/Unoccupied/Divorced",
          "No/Centre/Higher Education/Occupied/Married",
          "Yes/Centre/Higher Education/Occupied/Married",
          "No/North/Higher Education/Occupied/Married",
          "Yes/North/Higher Education/Occupied/Married",
          "No/South/Higher Education/Occupied/Married",
          "Yes/South/Higher Education/Occupied/Married",
          "No/Centre/Primary Education/Occupied/Married",
          "Yes/Centre/Primary Education/Occupied/Married",
          "No/South/Primary Education/Unoccupied/Married",
          "No",
          "Yes/South/Primary Education/Unoccupied/Married",
          "Yes/Centre/Secondary Education/Unoccupied/Married",
          "Yes/North/Higher Education/Occupied/Single",
          "No/South/Higher Education/Occupied/Single",
          "Yes/South/Higher Education/Occupied/Single",
          "No/Centre/Primary Education/Occupied/Single",
          "Yes/Centre/Primary Education/Occupied/Single",
          "No/North/Primary Education/Occupied/Single",
          "No/North/Higher Education/Occupied/Single",
          "Yes/North/Primary Education/Occupied/Single",
          "Yes/South/Primary Education/Occupied/Single",
          "No/Centre/Secondary Education/Occupied/Single",
          "Yes/Centre/Secondary Education/Occupied/Single",
          "No/North/Secondary Education/Occupied/Single",
          "Yes/North/Secondary Education/Occupied/Single",
          "No/South/Secondary Education/Occupied/Single",
          "No/South/Primary Education/Occupied/Single",
          "Yes/Centre/Higher Education/Occupied/Single",
          "Yes",
          "No/North/Secondary Education/Unoccupied/Married",
          "Yes/North/Secondary Education/Unoccupied/Married",
          "No/South/Secondary Education/Unoccupied/Married",
          "Yes/South/Secondary Education/Unoccupied/Married",
          "No/Centre/Higher Education/Occupied/Single",
          "No/Centre/Secondary Education/Unoccupied/Married",
          "Yes/Centre/Primary Education/Occupied",
          "Yes/South/Secondary Education/Occupied",
          "No/South/Secondary Education/Occupied",
          "Yes/North/Secondary Education/Occupied",
          "Yes/Centre/Secondary Education/Occupied",
          "No/Centre/Secondary Education/Occupied",
          "Yes/South/Primary Education/Occupied",
          "No/South/Primary Education/Occupied",
          "Yes/North/Primary Education/Occupied",
          "No/North/Primary Education/Occupied",
          "No/North/Secondary Education/Occupied",
          "No/Centre/Primary Education/Occupied"
         ],
         "labels": [
          "Widowed",
          "Single",
          "Widowed",
          "Widowed",
          "Widowed",
          "Widowed",
          "Widowed",
          "Widowed",
          "Widowed",
          "Widowed",
          "Widowed",
          "Widowed",
          "Widowed",
          "Occupied",
          "Occupied",
          "Occupied",
          "Occupied",
          "Occupied",
          "Single",
          "Occupied",
          "Single",
          "Single",
          "Widowed",
          "Widowed",
          "Widowed",
          "Widowed",
          "Widowed",
          "Single",
          "Single",
          "Single",
          "Single",
          "Single",
          "Single",
          "Single",
          "Single",
          "Single",
          "Single",
          "Single",
          "Single",
          "Single",
          "Widowed",
          "Widowed",
          "Unoccupied",
          "Primary Education",
          "Primary Education",
          "Primary Education",
          "Primary Education",
          "Primary Education",
          "Secondary Education",
          "Secondary Education",
          "Secondary Education",
          "Secondary Education",
          "Secondary Education",
          "Secondary Education",
          "Centre",
          "Centre",
          "North",
          "North",
          "South",
          "South",
          "Primary Education",
          "Higher Education",
          "Higher Education",
          "Higher Education",
          "Unoccupied",
          "Unoccupied",
          "Unoccupied",
          "Unoccupied",
          "Unoccupied",
          "Unoccupied",
          "Unoccupied",
          "Unoccupied",
          "Unoccupied",
          "Unoccupied",
          "Unoccupied",
          "Unoccupied",
          "Unoccupied",
          "Unoccupied",
          "Unoccupied",
          "Higher Education",
          "Higher Education",
          "Higher Education",
          "Unoccupied",
          "Unoccupied",
          "Divorced",
          "Single",
          "Married",
          "Married",
          "Married",
          "Married",
          "Married",
          "Married",
          "Married",
          "Married",
          "Married",
          "Married",
          "Married",
          "Married",
          "Married",
          "Married",
          "Married",
          "Married",
          "Married",
          "Married",
          "Divorced",
          "Divorced",
          "Divorced",
          "Divorced",
          "Divorced",
          "Divorced",
          "Divorced",
          "Married",
          "Married",
          "Married",
          "Married",
          "Married",
          "Married",
          "Married",
          "Married",
          "Married",
          "No",
          "Married",
          "Married",
          "Single",
          "Single",
          "Single",
          "Single",
          "Single",
          "Single",
          "Single",
          "Single",
          "Single",
          "Single",
          "Single",
          "Single",
          "Single",
          "Single",
          "Single",
          "Single",
          "Yes",
          "Married",
          "Married",
          "Married",
          "Married",
          "Single",
          "Married",
          "Occupied",
          "Occupied",
          "Occupied",
          "Occupied",
          "Occupied",
          "Occupied",
          "Occupied",
          "Occupied",
          "Occupied",
          "Occupied",
          "Occupied",
          "Occupied"
         ],
         "marker": {
          "colors": [
           "#ab63fa",
           "#ab63fa",
           "#ab63fa",
           "#FFA15A",
           "#ab63fa",
           "#FFA15A",
           "#FFA15A",
           "#19d3f3",
           "#19d3f3",
           "#ab63fa",
           "#ab63fa",
           "#FFA15A",
           "#FFA15A",
           "#ab63fa",
           "#ab63fa",
           "#FFA15A",
           "#FFA15A",
           "#19d3f3",
           "#ab63fa",
           "#19d3f3",
           "#FFA15A",
           "#19d3f3",
           "#ab63fa",
           "#FFA15A",
           "#FFA15A",
           "#ab63fa",
           "#ab63fa",
           "#19d3f3",
           "#19d3f3",
           "#FFA15A",
           "#FFA15A",
           "#ab63fa",
           "#19d3f3",
           "#19d3f3",
           "#FFA15A",
           "#FFA15A",
           "#ab63fa",
           "#ab63fa",
           "#19d3f3",
           "#FFA15A",
           "#FFA15A",
           "#19d3f3",
           "#ab63fa",
           "#ab63fa",
           "#FFA15A",
           "#FFA15A",
           "#19d3f3",
           "#19d3f3",
           "#ab63fa",
           "#ab63fa",
           "#FFA15A",
           "#FFA15A",
           "#19d3f3",
           "#19d3f3",
           "#ab63fa",
           "#ab63fa",
           "#FFA15A",
           "#FFA15A",
           "#19d3f3",
           "#19d3f3",
           "#ab63fa",
           "#19d3f3",
           "#19d3f3",
           "#FFA15A",
           "#FFA15A",
           "#19d3f3",
           "#19d3f3",
           "#ab63fa",
           "#ab63fa",
           "#FFA15A",
           "#FFA15A",
           "#19d3f3",
           "#FFA15A",
           "#19d3f3",
           "#ab63fa",
           "#FFA15A",
           "#FFA15A",
           "#19d3f3",
           "#19d3f3",
           "#ab63fa",
           "#ab63fa",
           "#FFA15A",
           "#ab63fa",
           "#ab63fa",
           "#ab63fa",
           "#19d3f3",
           "#ab63fa",
           "#FFA15A",
           "#FFA15A",
           "#19d3f3",
           "#19d3f3",
           "#ab63fa",
           "#ab63fa",
           "#ab63fa",
           "#FFA15A",
           "#19d3f3",
           "#ab63fa",
           "#ab63fa",
           "#FFA15A",
           "#FFA15A",
           "#FFA15A",
           "#19d3f3",
           "#FFA15A",
           "#FFA15A",
           "#FFA15A",
           "#FFA15A",
           "#19d3f3",
           "#ab63fa",
           "#ab63fa",
           "#FFA15A",
           "#FFA15A",
           "#ab63fa",
           "#ab63fa",
           "#FFA15A",
           "#FFA15A",
           "#19d3f3",
           "#19d3f3",
           "#ab63fa",
           "#ab63fa",
           "#19d3f3",
           "black",
           "#19d3f3",
           "#ab63fa",
           "#FFA15A",
           "#19d3f3",
           "#19d3f3",
           "#ab63fa",
           "#ab63fa",
           "#FFA15A",
           "#FFA15A",
           "#FFA15A",
           "#19d3f3",
           "#ab63fa",
           "#ab63fa",
           "#FFA15A",
           "#FFA15A",
           "#19d3f3",
           "#19d3f3",
           "#ab63fa",
           "black",
           "#FFA15A",
           "#FFA15A",
           "#19d3f3",
           "#19d3f3",
           "#ab63fa",
           "#ab63fa",
           "#ab63fa",
           "#19d3f3",
           "#19d3f3",
           "#FFA15A",
           "#ab63fa",
           "#ab63fa",
           "#19d3f3",
           "#19d3f3",
           "#FFA15A",
           "#FFA15A",
           "#FFA15A",
           "#ab63fa"
          ]
         },
         "name": "",
         "parents": [
          "Yes/Centre/Higher Education/Occupied",
          "No/Centre/Higher Education/Unoccupied",
          "Yes/Centre/Higher Education/Unoccupied",
          "Yes/North/Higher Education/Unoccupied",
          "No/Centre/Primary Education/Unoccupied",
          "No/North/Primary Education/Unoccupied",
          "Yes/North/Primary Education/Unoccupied",
          "No/South/Primary Education/Unoccupied",
          "Yes/South/Primary Education/Unoccupied",
          "No/Centre/Secondary Education/Unoccupied",
          "Yes/Centre/Secondary Education/Unoccupied",
          "No/North/Secondary Education/Unoccupied",
          "Yes/North/Secondary Education/Unoccupied",
          "No/Centre/Higher Education",
          "Yes/Centre/Higher Education",
          "No/North/Higher Education",
          "Yes/North/Higher Education",
          "No/South/Higher Education",
          "Yes/Centre/Higher Education/Unoccupied",
          "Yes/South/Higher Education",
          "No/North/Higher Education/Unoccupied",
          "No/South/Higher Education/Unoccupied",
          "No/Centre/Secondary Education/Occupied",
          "No/North/Primary Education/Occupied",
          "No/North/Higher Education/Occupied",
          "No/Centre/Higher Education/Unoccupied",
          "No/Centre/Higher Education/Occupied",
          "Yes/South/Secondary Education/Unoccupied",
          "No/South/Secondary Education/Unoccupied",
          "Yes/North/Secondary Education/Unoccupied",
          "No/North/Secondary Education/Unoccupied",
          "No/Centre/Secondary Education/Unoccupied",
          "Yes/South/Primary Education/Unoccupied",
          "No/South/Primary Education/Unoccupied",
          "Yes/North/Primary Education/Unoccupied",
          "No/North/Primary Education/Unoccupied",
          "Yes/Centre/Primary Education/Unoccupied",
          "No/Centre/Primary Education/Unoccupied",
          "Yes/South/Higher Education/Unoccupied",
          "Yes/North/Higher Education/Unoccupied",
          "No/North/Secondary Education/Occupied",
          "No/South/Secondary Education/Occupied",
          "No/Centre/Higher Education",
          "Yes/Centre",
          "No/North",
          "Yes/North",
          "No/South",
          "Yes/South",
          "No/Centre",
          "Yes/Centre",
          "No/North",
          "Yes/North",
          "No/South",
          "Yes/South",
          "No",
          "Yes",
          "No",
          "Yes",
          "No",
          "Yes",
          "No/Centre",
          "Yes/South",
          "No/South",
          "Yes/North",
          "Yes/North/Higher Education",
          "No/South/Higher Education",
          "Yes/South/Higher Education",
          "No/Centre/Primary Education",
          "Yes/Centre/Primary Education",
          "No/North/Primary Education",
          "Yes/North/Primary Education",
          "No/South/Primary Education",
          "No/North/Higher Education",
          "Yes/South/Primary Education",
          "Yes/Centre/Secondary Education",
          "No/North/Secondary Education",
          "Yes/North/Secondary Education",
          "No/South/Secondary Education",
          "Yes/South/Secondary Education",
          "No/Centre",
          "Yes/Centre",
          "No/North",
          "No/Centre/Secondary Education",
          "Yes/Centre/Higher Education",
          "No/Centre/Higher Education/Occupied",
          "Yes/South/Secondary Education/Occupied",
          "Yes/Centre/Secondary Education/Occupied",
          "No/North/Secondary Education/Occupied",
          "Yes/North/Secondary Education/Occupied",
          "No/South/Secondary Education/Occupied",
          "Yes/South/Secondary Education/Occupied",
          "No/Centre/Higher Education/Unoccupied",
          "No/Centre/Secondary Education/Occupied",
          "Yes/Centre/Higher Education/Unoccupied",
          "Yes/North/Higher Education/Unoccupied",
          "No/South/Higher Education/Unoccupied",
          "No/Centre/Primary Education/Unoccupied",
          "Yes/Centre/Primary Education/Unoccupied",
          "No/North/Primary Education/Unoccupied",
          "Yes/North/Primary Education/Unoccupied",
          "No/North/Higher Education/Unoccupied",
          "No/South/Primary Education/Occupied",
          "Yes/North/Primary Education/Occupied",
          "No/North/Primary Education/Occupied",
          "No/North/Higher Education/Occupied",
          "No/North/Primary Education/Occupied",
          "Yes/South/Higher Education/Unoccupied",
          "No/Centre/Primary Education/Unoccupied",
          "Yes/Centre/Primary Education/Unoccupied",
          "No/North/Primary Education/Unoccupied",
          "Yes/North/Secondary Education/Unoccupied",
          "No/Centre/Higher Education/Occupied",
          "Yes/Centre/Higher Education/Occupied",
          "No/North/Higher Education/Occupied",
          "Yes/North/Higher Education/Occupied",
          "No/South/Higher Education/Occupied",
          "Yes/South/Higher Education/Occupied",
          "No/Centre/Primary Education/Occupied",
          "Yes/Centre/Primary Education/Occupied",
          "No/South/Primary Education/Unoccupied",
          "",
          "Yes/South/Primary Education/Unoccupied",
          "Yes/Centre/Secondary Education/Unoccupied",
          "Yes/North/Higher Education/Occupied",
          "No/South/Higher Education/Occupied",
          "Yes/South/Higher Education/Occupied",
          "No/Centre/Primary Education/Occupied",
          "Yes/Centre/Primary Education/Occupied",
          "No/North/Primary Education/Occupied",
          "No/North/Higher Education/Occupied",
          "Yes/North/Primary Education/Occupied",
          "Yes/South/Primary Education/Occupied",
          "No/Centre/Secondary Education/Occupied",
          "Yes/Centre/Secondary Education/Occupied",
          "No/North/Secondary Education/Occupied",
          "Yes/North/Secondary Education/Occupied",
          "No/South/Secondary Education/Occupied",
          "No/South/Primary Education/Occupied",
          "Yes/Centre/Higher Education/Occupied",
          "",
          "No/North/Secondary Education/Unoccupied",
          "Yes/North/Secondary Education/Unoccupied",
          "No/South/Secondary Education/Unoccupied",
          "Yes/South/Secondary Education/Unoccupied",
          "No/Centre/Higher Education/Occupied",
          "No/Centre/Secondary Education/Unoccupied",
          "Yes/Centre/Primary Education",
          "Yes/South/Secondary Education",
          "No/South/Secondary Education",
          "Yes/North/Secondary Education",
          "Yes/Centre/Secondary Education",
          "No/Centre/Secondary Education",
          "Yes/South/Primary Education",
          "No/South/Primary Education",
          "Yes/North/Primary Education",
          "No/North/Primary Education",
          "No/North/Secondary Education",
          "No/Centre/Primary Education"
         ],
         "type": "sunburst",
         "values": [
          3,
          7,
          1,
          1,
          4,
          2,
          1,
          5,
          2,
          2,
          1,
          1,
          1,
          50,
          13,
          70,
          13,
          9,
          3,
          3,
          11,
          5,
          3,
          1,
          5,
          2,
          4,
          1,
          5,
          4,
          6,
          5,
          5,
          17,
          3,
          21,
          3,
          15,
          1,
          1,
          1,
          1,
          21,
          11,
          56,
          10,
          46,
          10,
          32,
          6,
          28,
          12,
          16,
          4,
          148,
          35,
          175,
          40,
          83,
          19,
          45,
          5,
          21,
          18,
          5,
          12,
          2,
          34,
          6,
          41,
          5,
          43,
          21,
          9,
          3,
          14,
          9,
          11,
          2,
          71,
          18,
          91,
          10,
          5,
          2,
          1,
          2,
          4,
          2,
          2,
          1,
          12,
          11,
          1,
          3,
          7,
          13,
          2,
          17,
          1,
          10,
          1,
          1,
          9,
          4,
          1,
          1,
          2,
          1,
          1,
          2,
          21,
          6,
          26,
          6,
          5,
          1,
          8,
          2,
          21,
          406,
          2,
          2,
          7,
          4,
          2,
          3,
          3,
          4,
          35,
          4,
          1,
          8,
          1,
          9,
          1,
          2,
          2,
          4,
          94,
          7,
          2,
          6,
          1,
          23,
          3,
          5,
          2,
          5,
          3,
          3,
          22,
          1,
          3,
          5,
          15,
          14,
          11
         ]
        }
       ],
       "layout": {
        "height": 400,
        "legend": {
         "tracegroupgap": 0
        },
        "margin": {
         "b": 10,
         "l": 10,
         "r": 10,
         "t": 10
        },
        "template": {
         "data": {
          "bar": [
           {
            "error_x": {
             "color": "#2a3f5f"
            },
            "error_y": {
             "color": "#2a3f5f"
            },
            "marker": {
             "line": {
              "color": "#E5ECF6",
              "width": 0.5
             },
             "pattern": {
              "fillmode": "overlay",
              "size": 10,
              "solidity": 0.2
             }
            },
            "type": "bar"
           }
          ],
          "barpolar": [
           {
            "marker": {
             "line": {
              "color": "#E5ECF6",
              "width": 0.5
             },
             "pattern": {
              "fillmode": "overlay",
              "size": 10,
              "solidity": 0.2
             }
            },
            "type": "barpolar"
           }
          ],
          "carpet": [
           {
            "aaxis": {
             "endlinecolor": "#2a3f5f",
             "gridcolor": "white",
             "linecolor": "white",
             "minorgridcolor": "white",
             "startlinecolor": "#2a3f5f"
            },
            "baxis": {
             "endlinecolor": "#2a3f5f",
             "gridcolor": "white",
             "linecolor": "white",
             "minorgridcolor": "white",
             "startlinecolor": "#2a3f5f"
            },
            "type": "carpet"
           }
          ],
          "choropleth": [
           {
            "colorbar": {
             "outlinewidth": 0,
             "ticks": ""
            },
            "type": "choropleth"
           }
          ],
          "contour": [
           {
            "colorbar": {
             "outlinewidth": 0,
             "ticks": ""
            },
            "colorscale": [
             [
              0,
              "#0d0887"
             ],
             [
              0.1111111111111111,
              "#46039f"
             ],
             [
              0.2222222222222222,
              "#7201a8"
             ],
             [
              0.3333333333333333,
              "#9c179e"
             ],
             [
              0.4444444444444444,
              "#bd3786"
             ],
             [
              0.5555555555555556,
              "#d8576b"
             ],
             [
              0.6666666666666666,
              "#ed7953"
             ],
             [
              0.7777777777777778,
              "#fb9f3a"
             ],
             [
              0.8888888888888888,
              "#fdca26"
             ],
             [
              1,
              "#f0f921"
             ]
            ],
            "type": "contour"
           }
          ],
          "contourcarpet": [
           {
            "colorbar": {
             "outlinewidth": 0,
             "ticks": ""
            },
            "type": "contourcarpet"
           }
          ],
          "heatmap": [
           {
            "colorbar": {
             "outlinewidth": 0,
             "ticks": ""
            },
            "colorscale": [
             [
              0,
              "#0d0887"
             ],
             [
              0.1111111111111111,
              "#46039f"
             ],
             [
              0.2222222222222222,
              "#7201a8"
             ],
             [
              0.3333333333333333,
              "#9c179e"
             ],
             [
              0.4444444444444444,
              "#bd3786"
             ],
             [
              0.5555555555555556,
              "#d8576b"
             ],
             [
              0.6666666666666666,
              "#ed7953"
             ],
             [
              0.7777777777777778,
              "#fb9f3a"
             ],
             [
              0.8888888888888888,
              "#fdca26"
             ],
             [
              1,
              "#f0f921"
             ]
            ],
            "type": "heatmap"
           }
          ],
          "heatmapgl": [
           {
            "colorbar": {
             "outlinewidth": 0,
             "ticks": ""
            },
            "colorscale": [
             [
              0,
              "#0d0887"
             ],
             [
              0.1111111111111111,
              "#46039f"
             ],
             [
              0.2222222222222222,
              "#7201a8"
             ],
             [
              0.3333333333333333,
              "#9c179e"
             ],
             [
              0.4444444444444444,
              "#bd3786"
             ],
             [
              0.5555555555555556,
              "#d8576b"
             ],
             [
              0.6666666666666666,
              "#ed7953"
             ],
             [
              0.7777777777777778,
              "#fb9f3a"
             ],
             [
              0.8888888888888888,
              "#fdca26"
             ],
             [
              1,
              "#f0f921"
             ]
            ],
            "type": "heatmapgl"
           }
          ],
          "histogram": [
           {
            "marker": {
             "pattern": {
              "fillmode": "overlay",
              "size": 10,
              "solidity": 0.2
             }
            },
            "type": "histogram"
           }
          ],
          "histogram2d": [
           {
            "colorbar": {
             "outlinewidth": 0,
             "ticks": ""
            },
            "colorscale": [
             [
              0,
              "#0d0887"
             ],
             [
              0.1111111111111111,
              "#46039f"
             ],
             [
              0.2222222222222222,
              "#7201a8"
             ],
             [
              0.3333333333333333,
              "#9c179e"
             ],
             [
              0.4444444444444444,
              "#bd3786"
             ],
             [
              0.5555555555555556,
              "#d8576b"
             ],
             [
              0.6666666666666666,
              "#ed7953"
             ],
             [
              0.7777777777777778,
              "#fb9f3a"
             ],
             [
              0.8888888888888888,
              "#fdca26"
             ],
             [
              1,
              "#f0f921"
             ]
            ],
            "type": "histogram2d"
           }
          ],
          "histogram2dcontour": [
           {
            "colorbar": {
             "outlinewidth": 0,
             "ticks": ""
            },
            "colorscale": [
             [
              0,
              "#0d0887"
             ],
             [
              0.1111111111111111,
              "#46039f"
             ],
             [
              0.2222222222222222,
              "#7201a8"
             ],
             [
              0.3333333333333333,
              "#9c179e"
             ],
             [
              0.4444444444444444,
              "#bd3786"
             ],
             [
              0.5555555555555556,
              "#d8576b"
             ],
             [
              0.6666666666666666,
              "#ed7953"
             ],
             [
              0.7777777777777778,
              "#fb9f3a"
             ],
             [
              0.8888888888888888,
              "#fdca26"
             ],
             [
              1,
              "#f0f921"
             ]
            ],
            "type": "histogram2dcontour"
           }
          ],
          "mesh3d": [
           {
            "colorbar": {
             "outlinewidth": 0,
             "ticks": ""
            },
            "type": "mesh3d"
           }
          ],
          "parcoords": [
           {
            "line": {
             "colorbar": {
              "outlinewidth": 0,
              "ticks": ""
             }
            },
            "type": "parcoords"
           }
          ],
          "pie": [
           {
            "automargin": true,
            "type": "pie"
           }
          ],
          "scatter": [
           {
            "fillpattern": {
             "fillmode": "overlay",
             "size": 10,
             "solidity": 0.2
            },
            "type": "scatter"
           }
          ],
          "scatter3d": [
           {
            "line": {
             "colorbar": {
              "outlinewidth": 0,
              "ticks": ""
             }
            },
            "marker": {
             "colorbar": {
              "outlinewidth": 0,
              "ticks": ""
             }
            },
            "type": "scatter3d"
           }
          ],
          "scattercarpet": [
           {
            "marker": {
             "colorbar": {
              "outlinewidth": 0,
              "ticks": ""
             }
            },
            "type": "scattercarpet"
           }
          ],
          "scattergeo": [
           {
            "marker": {
             "colorbar": {
              "outlinewidth": 0,
              "ticks": ""
             }
            },
            "type": "scattergeo"
           }
          ],
          "scattergl": [
           {
            "marker": {
             "colorbar": {
              "outlinewidth": 0,
              "ticks": ""
             }
            },
            "type": "scattergl"
           }
          ],
          "scattermapbox": [
           {
            "marker": {
             "colorbar": {
              "outlinewidth": 0,
              "ticks": ""
             }
            },
            "type": "scattermapbox"
           }
          ],
          "scatterpolar": [
           {
            "marker": {
             "colorbar": {
              "outlinewidth": 0,
              "ticks": ""
             }
            },
            "type": "scatterpolar"
           }
          ],
          "scatterpolargl": [
           {
            "marker": {
             "colorbar": {
              "outlinewidth": 0,
              "ticks": ""
             }
            },
            "type": "scatterpolargl"
           }
          ],
          "scatterternary": [
           {
            "marker": {
             "colorbar": {
              "outlinewidth": 0,
              "ticks": ""
             }
            },
            "type": "scatterternary"
           }
          ],
          "surface": [
           {
            "colorbar": {
             "outlinewidth": 0,
             "ticks": ""
            },
            "colorscale": [
             [
              0,
              "#0d0887"
             ],
             [
              0.1111111111111111,
              "#46039f"
             ],
             [
              0.2222222222222222,
              "#7201a8"
             ],
             [
              0.3333333333333333,
              "#9c179e"
             ],
             [
              0.4444444444444444,
              "#bd3786"
             ],
             [
              0.5555555555555556,
              "#d8576b"
             ],
             [
              0.6666666666666666,
              "#ed7953"
             ],
             [
              0.7777777777777778,
              "#fb9f3a"
             ],
             [
              0.8888888888888888,
              "#fdca26"
             ],
             [
              1,
              "#f0f921"
             ]
            ],
            "type": "surface"
           }
          ],
          "table": [
           {
            "cells": {
             "fill": {
              "color": "#EBF0F8"
             },
             "line": {
              "color": "white"
             }
            },
            "header": {
             "fill": {
              "color": "#C8D4E3"
             },
             "line": {
              "color": "white"
             }
            },
            "type": "table"
           }
          ]
         },
         "layout": {
          "annotationdefaults": {
           "arrowcolor": "#2a3f5f",
           "arrowhead": 0,
           "arrowwidth": 1
          },
          "autotypenumbers": "strict",
          "coloraxis": {
           "colorbar": {
            "outlinewidth": 0,
            "ticks": ""
           }
          },
          "colorscale": {
           "diverging": [
            [
             0,
             "#8e0152"
            ],
            [
             0.1,
             "#c51b7d"
            ],
            [
             0.2,
             "#de77ae"
            ],
            [
             0.3,
             "#f1b6da"
            ],
            [
             0.4,
             "#fde0ef"
            ],
            [
             0.5,
             "#f7f7f7"
            ],
            [
             0.6,
             "#e6f5d0"
            ],
            [
             0.7,
             "#b8e186"
            ],
            [
             0.8,
             "#7fbc41"
            ],
            [
             0.9,
             "#4d9221"
            ],
            [
             1,
             "#276419"
            ]
           ],
           "sequential": [
            [
             0,
             "#0d0887"
            ],
            [
             0.1111111111111111,
             "#46039f"
            ],
            [
             0.2222222222222222,
             "#7201a8"
            ],
            [
             0.3333333333333333,
             "#9c179e"
            ],
            [
             0.4444444444444444,
             "#bd3786"
            ],
            [
             0.5555555555555556,
             "#d8576b"
            ],
            [
             0.6666666666666666,
             "#ed7953"
            ],
            [
             0.7777777777777778,
             "#fb9f3a"
            ],
            [
             0.8888888888888888,
             "#fdca26"
            ],
            [
             1,
             "#f0f921"
            ]
           ],
           "sequentialminus": [
            [
             0,
             "#0d0887"
            ],
            [
             0.1111111111111111,
             "#46039f"
            ],
            [
             0.2222222222222222,
             "#7201a8"
            ],
            [
             0.3333333333333333,
             "#9c179e"
            ],
            [
             0.4444444444444444,
             "#bd3786"
            ],
            [
             0.5555555555555556,
             "#d8576b"
            ],
            [
             0.6666666666666666,
             "#ed7953"
            ],
            [
             0.7777777777777778,
             "#fb9f3a"
            ],
            [
             0.8888888888888888,
             "#fdca26"
            ],
            [
             1,
             "#f0f921"
            ]
           ]
          },
          "colorway": [
           "#636efa",
           "#EF553B",
           "#00cc96",
           "#ab63fa",
           "#FFA15A",
           "#19d3f3",
           "#FF6692",
           "#B6E880",
           "#FF97FF",
           "#FECB52"
          ],
          "font": {
           "color": "#2a3f5f"
          },
          "geo": {
           "bgcolor": "white",
           "lakecolor": "white",
           "landcolor": "#E5ECF6",
           "showlakes": true,
           "showland": true,
           "subunitcolor": "white"
          },
          "hoverlabel": {
           "align": "left"
          },
          "hovermode": "closest",
          "mapbox": {
           "style": "light"
          },
          "paper_bgcolor": "white",
          "plot_bgcolor": "#E5ECF6",
          "polar": {
           "angularaxis": {
            "gridcolor": "white",
            "linecolor": "white",
            "ticks": ""
           },
           "bgcolor": "#E5ECF6",
           "radialaxis": {
            "gridcolor": "white",
            "linecolor": "white",
            "ticks": ""
           }
          },
          "scene": {
           "xaxis": {
            "backgroundcolor": "#E5ECF6",
            "gridcolor": "white",
            "gridwidth": 2,
            "linecolor": "white",
            "showbackground": true,
            "ticks": "",
            "zerolinecolor": "white"
           },
           "yaxis": {
            "backgroundcolor": "#E5ECF6",
            "gridcolor": "white",
            "gridwidth": 2,
            "linecolor": "white",
            "showbackground": true,
            "ticks": "",
            "zerolinecolor": "white"
           },
           "zaxis": {
            "backgroundcolor": "#E5ECF6",
            "gridcolor": "white",
            "gridwidth": 2,
            "linecolor": "white",
            "showbackground": true,
            "ticks": "",
            "zerolinecolor": "white"
           }
          },
          "shapedefaults": {
           "line": {
            "color": "#2a3f5f"
           }
          },
          "ternary": {
           "aaxis": {
            "gridcolor": "white",
            "linecolor": "white",
            "ticks": ""
           },
           "baxis": {
            "gridcolor": "white",
            "linecolor": "white",
            "ticks": ""
           },
           "bgcolor": "#E5ECF6",
           "caxis": {
            "gridcolor": "white",
            "linecolor": "white",
            "ticks": ""
           }
          },
          "title": {
           "x": 0.05
          },
          "xaxis": {
           "automargin": true,
           "gridcolor": "white",
           "linecolor": "white",
           "ticks": "",
           "title": {
            "standoff": 15
           },
           "zerolinecolor": "white",
           "zerolinewidth": 2
          },
          "yaxis": {
           "automargin": true,
           "gridcolor": "white",
           "linecolor": "white",
           "ticks": "",
           "title": {
            "standoff": 15
           },
           "zerolinecolor": "white",
           "zerolinewidth": 2
          }
         }
        },
        "width": 800
       }
      }
     },
     "metadata": {},
     "output_type": "display_data"
    }
   ],
   "source": [
    "# Create a sunburst plot for violence against women dataset\n",
    "fig = px.sunburst(\n",
    "    violence_against_women_dataset, \n",
    "    path=['ViolenceOccurred', 'AreaOfResidence', 'Education level', 'Professional Status', 'Marital Status'],  # Hierarchy of categories\n",
    "    color='AreaOfResidence',  # Color variable for differentiating segments\n",
    "    color_discrete_map={'(?)': 'black', 'Lunch': 'gold', 'Dinner': 'darkblue'},  # Custom color mapping for specific values\n",
    "    width=800, height=400  # Set the width and height of the plot\n",
    ")\n",
    "\n",
    "# Update layout for better appearance by adjusting margins\n",
    "fig.update_layout(margin=dict(l=10, r=10, b=10, t=10))\n",
    "\n",
    "# Show the sunburst plot\n",
    "fig.show()"
   ]
  },
  {
   "cell_type": "markdown",
   "metadata": {},
   "source": [
    "We can now check how many yes value, for the variable ViolenceOccurred, have been geenrated grouped by the other variable. \n",
    "\n",
    "The code create a 2x2 subplot [[]](https://github.com/Cecilia8989/pands-project/blob/main/analysis.py)grid containing four count plots, each comparing the occurrence of violence against women based on Marital Status, Area of Residence, Education Level, and Professional Status. Each subplot displays a count plot [[]](https://stackoverflow.com/questions/55104819/display-count-on-top-of-seaborn-barplot), showing the distribution of violence occurrences within each category of the respective variable, and legends are provided only for the first subplot (Marital Status) [[]](https://stackoverflow.com/questions/5735208/remove-the-legend-on-a-matplotlib-figure).\n",
    "\n",
    "As we can see from the below figure the variable that look impact more the distribution of \"Yes\" is marital status. This was already brough up previously, when the probability for each category where defined, as single and divorced show an higher rate of violence within 5 years."
   ]
  },
  {
   "cell_type": "code",
   "execution_count": 980,
   "metadata": {},
   "outputs": [
    {
     "data": {
      "image/png": "[encoded data removed]",
      "text/plain": [
       "<Figure size 1400x700 with 4 Axes>"
      ]
     },
     "metadata": {},
     "output_type": "display_data"
    }
   ],
   "source": [
    "\n",
    "# Create a subplot with 4 count plots comparing different variables\n",
    "fig = plt.figure(figsize=(14, 7))\n",
    "sns.set_style(\"darkgrid\")\n",
    "fig.subplots_adjust(hspace=0.4, top=0.85)\n",
    "plt.suptitle(\"Violence_against_women_dataset - Variables\", fontsize=18, color='red', fontweight='bold')\n",
    "\n",
    "# Create the first count plot comparing Marital Status\n",
    "plt.subplot(221)\n",
    "plt.title(\"Marital Status\", fontweight='bold')\n",
    "ax = sns.countplot(data=violence_against_women_dataset, x='Marital Status', hue='ViolenceOccurred')\n",
    "for container in ax.containers:\n",
    "    ax.bar_label(container)\n",
    "ax.legend(loc='upper right')  # Keep the legend for the first subplot\n",
    "\n",
    "# Create the second count plot comparing AreaOfResidence\n",
    "plt.subplot(222)\n",
    "plt.title(\"AreaOfResidence\", fontweight='bold')\n",
    "ax = sns.countplot(data=violence_against_women_dataset, x='AreaOfResidence', hue='ViolenceOccurred')\n",
    "for container in ax.containers:\n",
    "    ax.bar_label(container)\n",
    "ax.legend().set_visible(False)  # Hide the legend for this subplot\n",
    "\n",
    "# Create the third count plot comparing Education level\n",
    "plt.subplot(223)\n",
    "plt.title(\"Education level\", fontweight='bold')\n",
    "ax = sns.countplot(data=violence_against_women_dataset, x='Education level', hue='ViolenceOccurred')\n",
    "for container in ax.containers:\n",
    "    ax.bar_label(container)\n",
    "ax.legend().set_visible(False)  # Hide the legend for this subplot\n",
    "\n",
    "# Create the fourth count plot comparing Professional Status\n",
    "plt.subplot(224)\n",
    "plt.title(\"Professional Status\", fontweight='bold')\n",
    "ax = sns.countplot(data=violence_against_women_dataset, x='Professional Status', hue='ViolenceOccurred')\n",
    "for container in ax.containers:\n",
    "    ax.bar_label(container)\n",
    "ax.legend().set_visible(False)  # Hide the legend for this subplot\n",
    "\n",
    "#Show the plot.\n",
    "plt.show()"
   ]
  },
  {
   "cell_type": "markdown",
   "metadata": {},
   "source": [
    "Another way to visualize it is through a crosstable for each variable. As expected, considering the probability previously calculated, we have an higher % of yes for women from the south, that due to the lower economic level, with lower education level, unoccupied and divorced or Single.\n",
    "\n",
    "The one that show an higher impact on the probability to endure violence is the Marital Status when a woman is single or divorced.\n",
    "\n",
    "About this last point it confirm a general research that show that the period more in danger to a woman to endure violence is when she try to leave the partner [[]](https://www4.istat.it/it/violenza-sulle-donne/il-fenomeno/violenza-dentro-e-fuori-la-famig/chi-sono-le-vittime). \n",
    "\n",
    "The following code define a function **calculate_and_display_crosstab** that computes and presents crosstabulations with the percentage of 'Yes' for specified categorical variables related to violence against women. The crosstab() methond [[]](https://pbpython.com/pandas-crosstab.html). It then applies this function to each variables displaying the results with sorted percentages of 'Yes' in descending order. \n"
   ]
  },
  {
   "cell_type": "code",
   "execution_count": 981,
   "metadata": {},
   "outputs": [
    {
     "data": {
      "text/html": [
       "<div>\n",
       "<style scoped>\n",
       "    .dataframe tbody tr th:only-of-type {\n",
       "        vertical-align: middle;\n",
       "    }\n",
       "\n",
       "    .dataframe tbody tr th {\n",
       "        vertical-align: top;\n",
       "    }\n",
       "\n",
       "    .dataframe thead th {\n",
       "        text-align: right;\n",
       "    }\n",
       "</style>\n",
       "<table border=\"1\" class=\"dataframe\">\n",
       "  <thead>\n",
       "    <tr style=\"text-align: right;\">\n",
       "      <th>ViolenceOccurred</th>\n",
       "      <th>No</th>\n",
       "      <th>Yes</th>\n",
       "      <th>% Yes</th>\n",
       "    </tr>\n",
       "    <tr>\n",
       "      <th>AreaOfResidence</th>\n",
       "      <th></th>\n",
       "      <th></th>\n",
       "      <th></th>\n",
       "    </tr>\n",
       "  </thead>\n",
       "  <tbody>\n",
       "    <tr>\n",
       "      <th>Centre</th>\n",
       "      <td>148</td>\n",
       "      <td>35</td>\n",
       "      <td>0.191257</td>\n",
       "    </tr>\n",
       "    <tr>\n",
       "      <th>South</th>\n",
       "      <td>83</td>\n",
       "      <td>19</td>\n",
       "      <td>0.186275</td>\n",
       "    </tr>\n",
       "    <tr>\n",
       "      <th>North</th>\n",
       "      <td>175</td>\n",
       "      <td>40</td>\n",
       "      <td>0.186047</td>\n",
       "    </tr>\n",
       "  </tbody>\n",
       "</table>\n",
       "</div>"
      ],
      "text/plain": [
       "ViolenceOccurred   No  Yes     % Yes\n",
       "AreaOfResidence                     \n",
       "Centre            148   35  0.191257\n",
       "South              83   19  0.186275\n",
       "North             175   40  0.186047"
      ]
     },
     "metadata": {},
     "output_type": "display_data"
    },
    {
     "data": {
      "text/html": [
       "<div>\n",
       "<style scoped>\n",
       "    .dataframe tbody tr th:only-of-type {\n",
       "        vertical-align: middle;\n",
       "    }\n",
       "\n",
       "    .dataframe tbody tr th {\n",
       "        vertical-align: top;\n",
       "    }\n",
       "\n",
       "    .dataframe thead th {\n",
       "        text-align: right;\n",
       "    }\n",
       "</style>\n",
       "<table border=\"1\" class=\"dataframe\">\n",
       "  <thead>\n",
       "    <tr style=\"text-align: right;\">\n",
       "      <th>ViolenceOccurred</th>\n",
       "      <th>No</th>\n",
       "      <th>Yes</th>\n",
       "      <th>% Yes</th>\n",
       "    </tr>\n",
       "    <tr>\n",
       "      <th>Marital Status</th>\n",
       "      <th></th>\n",
       "      <th></th>\n",
       "      <th></th>\n",
       "    </tr>\n",
       "  </thead>\n",
       "  <tbody>\n",
       "    <tr>\n",
       "      <th>Divorced</th>\n",
       "      <td>10</td>\n",
       "      <td>4</td>\n",
       "      <td>0.285714</td>\n",
       "    </tr>\n",
       "    <tr>\n",
       "      <th>Widowed</th>\n",
       "      <td>31</td>\n",
       "      <td>10</td>\n",
       "      <td>0.243902</td>\n",
       "    </tr>\n",
       "    <tr>\n",
       "      <th>Single</th>\n",
       "      <td>182</td>\n",
       "      <td>45</td>\n",
       "      <td>0.198238</td>\n",
       "    </tr>\n",
       "    <tr>\n",
       "      <th>Married</th>\n",
       "      <td>183</td>\n",
       "      <td>35</td>\n",
       "      <td>0.160550</td>\n",
       "    </tr>\n",
       "  </tbody>\n",
       "</table>\n",
       "</div>"
      ],
      "text/plain": [
       "ViolenceOccurred   No  Yes     % Yes\n",
       "Marital Status                      \n",
       "Divorced           10    4  0.285714\n",
       "Widowed            31   10  0.243902\n",
       "Single            182   45  0.198238\n",
       "Married           183   35  0.160550"
      ]
     },
     "metadata": {},
     "output_type": "display_data"
    },
    {
     "data": {
      "text/html": [
       "<div>\n",
       "<style scoped>\n",
       "    .dataframe tbody tr th:only-of-type {\n",
       "        vertical-align: middle;\n",
       "    }\n",
       "\n",
       "    .dataframe tbody tr th {\n",
       "        vertical-align: top;\n",
       "    }\n",
       "\n",
       "    .dataframe thead th {\n",
       "        text-align: right;\n",
       "    }\n",
       "</style>\n",
       "<table border=\"1\" class=\"dataframe\">\n",
       "  <thead>\n",
       "    <tr style=\"text-align: right;\">\n",
       "      <th>ViolenceOccurred</th>\n",
       "      <th>No</th>\n",
       "      <th>Yes</th>\n",
       "      <th>% Yes</th>\n",
       "    </tr>\n",
       "    <tr>\n",
       "      <th>Professional Status</th>\n",
       "      <th></th>\n",
       "      <th></th>\n",
       "      <th></th>\n",
       "    </tr>\n",
       "  </thead>\n",
       "  <tbody>\n",
       "    <tr>\n",
       "      <th>Occupied</th>\n",
       "      <td>199</td>\n",
       "      <td>48</td>\n",
       "      <td>0.194332</td>\n",
       "    </tr>\n",
       "    <tr>\n",
       "      <th>Unoccupied</th>\n",
       "      <td>207</td>\n",
       "      <td>46</td>\n",
       "      <td>0.181818</td>\n",
       "    </tr>\n",
       "  </tbody>\n",
       "</table>\n",
       "</div>"
      ],
      "text/plain": [
       "ViolenceOccurred      No  Yes     % Yes\n",
       "Professional Status                    \n",
       "Occupied             199   48  0.194332\n",
       "Unoccupied           207   46  0.181818"
      ]
     },
     "metadata": {},
     "output_type": "display_data"
    },
    {
     "data": {
      "text/html": [
       "<div>\n",
       "<style scoped>\n",
       "    .dataframe tbody tr th:only-of-type {\n",
       "        vertical-align: middle;\n",
       "    }\n",
       "\n",
       "    .dataframe tbody tr th {\n",
       "        vertical-align: top;\n",
       "    }\n",
       "\n",
       "    .dataframe thead th {\n",
       "        text-align: right;\n",
       "    }\n",
       "</style>\n",
       "<table border=\"1\" class=\"dataframe\">\n",
       "  <thead>\n",
       "    <tr style=\"text-align: right;\">\n",
       "      <th>ViolenceOccurred</th>\n",
       "      <th>No</th>\n",
       "      <th>Yes</th>\n",
       "      <th>% Yes</th>\n",
       "    </tr>\n",
       "    <tr>\n",
       "      <th>Education level</th>\n",
       "      <th></th>\n",
       "      <th></th>\n",
       "      <th></th>\n",
       "    </tr>\n",
       "  </thead>\n",
       "  <tbody>\n",
       "    <tr>\n",
       "      <th>Secondary Education</th>\n",
       "      <td>76</td>\n",
       "      <td>22</td>\n",
       "      <td>0.224490</td>\n",
       "    </tr>\n",
       "    <tr>\n",
       "      <th>Higher Education</th>\n",
       "      <td>183</td>\n",
       "      <td>41</td>\n",
       "      <td>0.183036</td>\n",
       "    </tr>\n",
       "    <tr>\n",
       "      <th>Primary Education</th>\n",
       "      <td>147</td>\n",
       "      <td>31</td>\n",
       "      <td>0.174157</td>\n",
       "    </tr>\n",
       "  </tbody>\n",
       "</table>\n",
       "</div>"
      ],
      "text/plain": [
       "ViolenceOccurred      No  Yes     % Yes\n",
       "Education level                        \n",
       "Secondary Education   76   22  0.224490\n",
       "Higher Education     183   41  0.183036\n",
       "Primary Education    147   31  0.174157"
      ]
     },
     "metadata": {},
     "output_type": "display_data"
    }
   ],
   "source": [
    "# Function to calculate and display a crosstab with percentage of 'Yes' for a given variable\n",
    "def calculate_and_display_crosstab(variable, dataset):\n",
    "    # Create a crosstab between the specified variable and 'ViolenceOccurred'\n",
    "    cross_table = pd.crosstab(dataset[variable], dataset['ViolenceOccurred'])\n",
    "    # Calculate the percentage of 'Yes' for each category\n",
    "    cross_table['% Yes'] = cross_table['Yes'] / (cross_table['No'] + cross_table['Yes'])\n",
    "    # Sort the crosstab by the percentage of 'Yes' in descending order\n",
    "    return cross_table.sort_values(by='% Yes', ascending=False)\n",
    "\n",
    "# Calculate and display crosstab for 'AreaOfResidence'\n",
    "cross_area_of_residence = calculate_and_display_crosstab('AreaOfResidence', violence_against_women_dataset)\n",
    "# Calculate and display crosstab for 'Marital Status'\n",
    "cross_marital_status = calculate_and_display_crosstab('Marital Status', violence_against_women_dataset)\n",
    "# Calculate and display crosstab for 'Professional Status'\n",
    "cross_professional_status = calculate_and_display_crosstab('Professional Status', violence_against_women_dataset)\n",
    "# Calculate and display crosstab for 'Education Level'\n",
    "cross_education_level = calculate_and_display_crosstab('Education level', violence_against_women_dataset)\n",
    "\n",
    "# Display the results\n",
    "display(cross_area_of_residence, cross_marital_status, cross_professional_status, cross_education_level)"
   ]
  },
  {
   "cell_type": "markdown",
   "metadata": {},
   "source": [
    "If we examine the general cross-tabulation displaying all variable combinations it's important to note that the dataset is designed to emulate a realistic random distribution of women. Consequently, the larger number of women experiencing violence may be found in categories that are more heavily represented in the dataset, such as 'North' and 'Married, even though certain categories, such as 'divorced' and 'single,' appear to have a higher probability of enduring violence. \n",
    "\n",
    "The highest absolute value in the dataset, representing women enduring physical or sexual violence by a partner within 5 years, might be associated with a combination of variables that, despite having a lower probability of exposure, holds a higher representation in the dataset."
   ]
  },
  {
   "cell_type": "code",
   "execution_count": 983,
   "metadata": {},
   "outputs": [
    {
     "data": {
      "text/html": [
       "<div>\n",
       "<style scoped>\n",
       "    .dataframe tbody tr th:only-of-type {\n",
       "        vertical-align: middle;\n",
       "    }\n",
       "\n",
       "    .dataframe tbody tr th {\n",
       "        vertical-align: top;\n",
       "    }\n",
       "\n",
       "    .dataframe thead th {\n",
       "        text-align: right;\n",
       "    }\n",
       "</style>\n",
       "<table border=\"1\" class=\"dataframe\">\n",
       "  <thead>\n",
       "    <tr style=\"text-align: right;\">\n",
       "      <th></th>\n",
       "      <th></th>\n",
       "      <th></th>\n",
       "      <th>ViolenceOccurred</th>\n",
       "      <th>No</th>\n",
       "      <th>Yes</th>\n",
       "      <th>All</th>\n",
       "    </tr>\n",
       "    <tr>\n",
       "      <th>AreaOfResidence</th>\n",
       "      <th>Marital Status</th>\n",
       "      <th>Education level</th>\n",
       "      <th>Professional Status</th>\n",
       "      <th></th>\n",
       "      <th></th>\n",
       "      <th></th>\n",
       "    </tr>\n",
       "  </thead>\n",
       "  <tbody>\n",
       "    <tr>\n",
       "      <th>All</th>\n",
       "      <th></th>\n",
       "      <th></th>\n",
       "      <th></th>\n",
       "      <td>406</td>\n",
       "      <td>94</td>\n",
       "      <td>500</td>\n",
       "    </tr>\n",
       "    <tr>\n",
       "      <th rowspan=\"2\" valign=\"top\">North</th>\n",
       "      <th>Single</th>\n",
       "      <th>Higher Education</th>\n",
       "      <th>Occupied</th>\n",
       "      <td>35</td>\n",
       "      <td>7</td>\n",
       "      <td>42</td>\n",
       "    </tr>\n",
       "    <tr>\n",
       "      <th>Married</th>\n",
       "      <th>Higher Education</th>\n",
       "      <th>Occupied</th>\n",
       "      <td>26</td>\n",
       "      <td>6</td>\n",
       "      <td>32</td>\n",
       "    </tr>\n",
       "    <tr>\n",
       "      <th>Centre</th>\n",
       "      <th>Married</th>\n",
       "      <th>Higher Education</th>\n",
       "      <th>Occupied</th>\n",
       "      <td>21</td>\n",
       "      <td>6</td>\n",
       "      <td>27</td>\n",
       "    </tr>\n",
       "    <tr>\n",
       "      <th>South</th>\n",
       "      <th>Single</th>\n",
       "      <th>Primary Education</th>\n",
       "      <th>Unoccupied</th>\n",
       "      <td>17</td>\n",
       "      <td>5</td>\n",
       "      <td>22</td>\n",
       "    </tr>\n",
       "    <tr>\n",
       "      <th>North</th>\n",
       "      <th>Single</th>\n",
       "      <th>Secondary Education</th>\n",
       "      <th>Unoccupied</th>\n",
       "      <td>6</td>\n",
       "      <td>4</td>\n",
       "      <td>10</td>\n",
       "    </tr>\n",
       "    <tr>\n",
       "      <th>Centre</th>\n",
       "      <th>Single</th>\n",
       "      <th>Higher Education</th>\n",
       "      <th>Occupied</th>\n",
       "      <td>23</td>\n",
       "      <td>4</td>\n",
       "      <td>27</td>\n",
       "    </tr>\n",
       "    <tr>\n",
       "      <th>North</th>\n",
       "      <th>Single</th>\n",
       "      <th>Primary Education</th>\n",
       "      <th>Occupied</th>\n",
       "      <td>4</td>\n",
       "      <td>4</td>\n",
       "      <td>8</td>\n",
       "    </tr>\n",
       "    <tr>\n",
       "      <th rowspan=\"2\" valign=\"top\">Centre</th>\n",
       "      <th rowspan=\"2\" valign=\"top\">Single</th>\n",
       "      <th rowspan=\"2\" valign=\"top\">Primary Education</th>\n",
       "      <th>Occupied</th>\n",
       "      <td>3</td>\n",
       "      <td>3</td>\n",
       "      <td>6</td>\n",
       "    </tr>\n",
       "    <tr>\n",
       "      <th>Unoccupied</th>\n",
       "      <td>15</td>\n",
       "      <td>3</td>\n",
       "      <td>18</td>\n",
       "    </tr>\n",
       "    <tr>\n",
       "      <th>North</th>\n",
       "      <th>Single</th>\n",
       "      <th>Primary Education</th>\n",
       "      <th>Unoccupied</th>\n",
       "      <td>21</td>\n",
       "      <td>3</td>\n",
       "      <td>24</td>\n",
       "    </tr>\n",
       "    <tr>\n",
       "      <th>Centre</th>\n",
       "      <th>Widowed</th>\n",
       "      <th>Higher Education</th>\n",
       "      <th>Occupied</th>\n",
       "      <td>4</td>\n",
       "      <td>3</td>\n",
       "      <td>7</td>\n",
       "    </tr>\n",
       "    <tr>\n",
       "      <th>North</th>\n",
       "      <th>Married</th>\n",
       "      <th>Higher Education</th>\n",
       "      <th>Unoccupied</th>\n",
       "      <td>10</td>\n",
       "      <td>3</td>\n",
       "      <td>13</td>\n",
       "    </tr>\n",
       "    <tr>\n",
       "      <th>Centre</th>\n",
       "      <th>Single</th>\n",
       "      <th>Higher Education</th>\n",
       "      <th>Unoccupied</th>\n",
       "      <td>7</td>\n",
       "      <td>3</td>\n",
       "      <td>10</td>\n",
       "    </tr>\n",
       "    <tr>\n",
       "      <th rowspan=\"3\" valign=\"top\">South</th>\n",
       "      <th>Widowed</th>\n",
       "      <th>Primary Education</th>\n",
       "      <th>Unoccupied</th>\n",
       "      <td>5</td>\n",
       "      <td>2</td>\n",
       "      <td>7</td>\n",
       "    </tr>\n",
       "    <tr>\n",
       "      <th>Single</th>\n",
       "      <th>Higher Education</th>\n",
       "      <th>Occupied</th>\n",
       "      <td>4</td>\n",
       "      <td>2</td>\n",
       "      <td>6</td>\n",
       "    </tr>\n",
       "    <tr>\n",
       "      <th>Married</th>\n",
       "      <th>Primary Education</th>\n",
       "      <th>Unoccupied</th>\n",
       "      <td>21</td>\n",
       "      <td>2</td>\n",
       "      <td>23</td>\n",
       "    </tr>\n",
       "    <tr>\n",
       "      <th rowspan=\"3\" valign=\"top\">North</th>\n",
       "      <th>Divorced</th>\n",
       "      <th>Secondary Education</th>\n",
       "      <th>Unoccupied</th>\n",
       "      <td>0</td>\n",
       "      <td>2</td>\n",
       "      <td>2</td>\n",
       "    </tr>\n",
       "    <tr>\n",
       "      <th rowspan=\"2\" valign=\"top\">Married</th>\n",
       "      <th rowspan=\"2\" valign=\"top\">Secondary Education</th>\n",
       "      <th>Occupied</th>\n",
       "      <td>4</td>\n",
       "      <td>2</td>\n",
       "      <td>6</td>\n",
       "    </tr>\n",
       "    <tr>\n",
       "      <th>Unoccupied</th>\n",
       "      <td>7</td>\n",
       "      <td>2</td>\n",
       "      <td>9</td>\n",
       "    </tr>\n",
       "    <tr>\n",
       "      <th rowspan=\"4\" valign=\"top\">Centre</th>\n",
       "      <th rowspan=\"4\" valign=\"top\">Married</th>\n",
       "      <th rowspan=\"2\" valign=\"top\">Primary Education</th>\n",
       "      <th>Unoccupied</th>\n",
       "      <td>13</td>\n",
       "      <td>2</td>\n",
       "      <td>15</td>\n",
       "    </tr>\n",
       "    <tr>\n",
       "      <th>Occupied</th>\n",
       "      <td>8</td>\n",
       "      <td>2</td>\n",
       "      <td>10</td>\n",
       "    </tr>\n",
       "    <tr>\n",
       "      <th rowspan=\"2\" valign=\"top\">Secondary Education</th>\n",
       "      <th>Unoccupied</th>\n",
       "      <td>3</td>\n",
       "      <td>2</td>\n",
       "      <td>5</td>\n",
       "    </tr>\n",
       "    <tr>\n",
       "      <th>Occupied</th>\n",
       "      <td>11</td>\n",
       "      <td>2</td>\n",
       "      <td>13</td>\n",
       "    </tr>\n",
       "    <tr>\n",
       "      <th rowspan=\"2\" valign=\"top\">North</th>\n",
       "      <th>Widowed</th>\n",
       "      <th>Primary Education</th>\n",
       "      <th>Unoccupied</th>\n",
       "      <td>2</td>\n",
       "      <td>1</td>\n",
       "      <td>3</td>\n",
       "    </tr>\n",
       "    <tr>\n",
       "      <th>Single</th>\n",
       "      <th>Secondary Education</th>\n",
       "      <th>Occupied</th>\n",
       "      <td>9</td>\n",
       "      <td>1</td>\n",
       "      <td>10</td>\n",
       "    </tr>\n",
       "    <tr>\n",
       "      <th rowspan=\"3\" valign=\"top\">South</th>\n",
       "      <th rowspan=\"2\" valign=\"top\">Married</th>\n",
       "      <th>Secondary Education</th>\n",
       "      <th>Unoccupied</th>\n",
       "      <td>6</td>\n",
       "      <td>1</td>\n",
       "      <td>7</td>\n",
       "    </tr>\n",
       "    <tr>\n",
       "      <th>Higher Education</th>\n",
       "      <th>Occupied</th>\n",
       "      <td>5</td>\n",
       "      <td>1</td>\n",
       "      <td>6</td>\n",
       "    </tr>\n",
       "    <tr>\n",
       "      <th>Divorced</th>\n",
       "      <th>Higher Education</th>\n",
       "      <th>Unoccupied</th>\n",
       "      <td>0</td>\n",
       "      <td>1</td>\n",
       "      <td>1</td>\n",
       "    </tr>\n",
       "    <tr>\n",
       "      <th>North</th>\n",
       "      <th>Widowed</th>\n",
       "      <th>Secondary Education</th>\n",
       "      <th>Unoccupied</th>\n",
       "      <td>1</td>\n",
       "      <td>1</td>\n",
       "      <td>2</td>\n",
       "    </tr>\n",
       "    <tr>\n",
       "      <th rowspan=\"2\" valign=\"top\">South</th>\n",
       "      <th rowspan=\"2\" valign=\"top\">Single</th>\n",
       "      <th>Higher Education</th>\n",
       "      <th>Unoccupied</th>\n",
       "      <td>5</td>\n",
       "      <td>1</td>\n",
       "      <td>6</td>\n",
       "    </tr>\n",
       "    <tr>\n",
       "      <th>Primary Education</th>\n",
       "      <th>Occupied</th>\n",
       "      <td>2</td>\n",
       "      <td>1</td>\n",
       "      <td>3</td>\n",
       "    </tr>\n",
       "    <tr>\n",
       "      <th>North</th>\n",
       "      <th>Widowed</th>\n",
       "      <th>Higher Education</th>\n",
       "      <th>Unoccupied</th>\n",
       "      <td>0</td>\n",
       "      <td>1</td>\n",
       "      <td>1</td>\n",
       "    </tr>\n",
       "    <tr>\n",
       "      <th>Centre</th>\n",
       "      <th>Single</th>\n",
       "      <th>Secondary Education</th>\n",
       "      <th>Occupied</th>\n",
       "      <td>8</td>\n",
       "      <td>1</td>\n",
       "      <td>9</td>\n",
       "    </tr>\n",
       "    <tr>\n",
       "      <th>South</th>\n",
       "      <th>Single</th>\n",
       "      <th>Secondary Education</th>\n",
       "      <th>Occupied</th>\n",
       "      <td>2</td>\n",
       "      <td>1</td>\n",
       "      <td>3</td>\n",
       "    </tr>\n",
       "    <tr>\n",
       "      <th>North</th>\n",
       "      <th>Single</th>\n",
       "      <th>Higher Education</th>\n",
       "      <th>Unoccupied</th>\n",
       "      <td>11</td>\n",
       "      <td>1</td>\n",
       "      <td>12</td>\n",
       "    </tr>\n",
       "    <tr>\n",
       "      <th rowspan=\"2\" valign=\"top\">Centre</th>\n",
       "      <th>Widowed</th>\n",
       "      <th>Higher Education</th>\n",
       "      <th>Unoccupied</th>\n",
       "      <td>2</td>\n",
       "      <td>1</td>\n",
       "      <td>3</td>\n",
       "    </tr>\n",
       "    <tr>\n",
       "      <th>Divorced</th>\n",
       "      <th>Primary Education</th>\n",
       "      <th>Unoccupied</th>\n",
       "      <td>2</td>\n",
       "      <td>1</td>\n",
       "      <td>3</td>\n",
       "    </tr>\n",
       "    <tr>\n",
       "      <th>South</th>\n",
       "      <th>Single</th>\n",
       "      <th>Secondary Education</th>\n",
       "      <th>Unoccupied</th>\n",
       "      <td>5</td>\n",
       "      <td>1</td>\n",
       "      <td>6</td>\n",
       "    </tr>\n",
       "    <tr>\n",
       "      <th rowspan=\"2\" valign=\"top\">North</th>\n",
       "      <th rowspan=\"2\" valign=\"top\">Married</th>\n",
       "      <th rowspan=\"2\" valign=\"top\">Primary Education</th>\n",
       "      <th>Unoccupied</th>\n",
       "      <td>17</td>\n",
       "      <td>1</td>\n",
       "      <td>18</td>\n",
       "    </tr>\n",
       "    <tr>\n",
       "      <th>Occupied</th>\n",
       "      <td>9</td>\n",
       "      <td>1</td>\n",
       "      <td>10</td>\n",
       "    </tr>\n",
       "    <tr>\n",
       "      <th rowspan=\"2\" valign=\"top\">Centre</th>\n",
       "      <th>Married</th>\n",
       "      <th>Higher Education</th>\n",
       "      <th>Unoccupied</th>\n",
       "      <td>12</td>\n",
       "      <td>1</td>\n",
       "      <td>13</td>\n",
       "    </tr>\n",
       "    <tr>\n",
       "      <th>Widowed</th>\n",
       "      <th>Secondary Education</th>\n",
       "      <th>Unoccupied</th>\n",
       "      <td>2</td>\n",
       "      <td>1</td>\n",
       "      <td>3</td>\n",
       "    </tr>\n",
       "    <tr>\n",
       "      <th rowspan=\"2\" valign=\"top\">South</th>\n",
       "      <th>Married</th>\n",
       "      <th>Secondary Education</th>\n",
       "      <th>Occupied</th>\n",
       "      <td>2</td>\n",
       "      <td>1</td>\n",
       "      <td>3</td>\n",
       "    </tr>\n",
       "    <tr>\n",
       "      <th>Widowed</th>\n",
       "      <th>Secondary Education</th>\n",
       "      <th>Occupied</th>\n",
       "      <td>1</td>\n",
       "      <td>0</td>\n",
       "      <td>1</td>\n",
       "    </tr>\n",
       "    <tr>\n",
       "      <th>North</th>\n",
       "      <th>Divorced</th>\n",
       "      <th>Primary Education</th>\n",
       "      <th>Occupied</th>\n",
       "      <td>1</td>\n",
       "      <td>0</td>\n",
       "      <td>1</td>\n",
       "    </tr>\n",
       "    <tr>\n",
       "      <th rowspan=\"2\" valign=\"top\">South</th>\n",
       "      <th rowspan=\"2\" valign=\"top\">Married</th>\n",
       "      <th>Primary Education</th>\n",
       "      <th>Occupied</th>\n",
       "      <td>1</td>\n",
       "      <td>0</td>\n",
       "      <td>1</td>\n",
       "    </tr>\n",
       "    <tr>\n",
       "      <th>Higher Education</th>\n",
       "      <th>Unoccupied</th>\n",
       "      <td>7</td>\n",
       "      <td>0</td>\n",
       "      <td>7</td>\n",
       "    </tr>\n",
       "    <tr>\n",
       "      <th rowspan=\"4\" valign=\"top\">North</th>\n",
       "      <th>Widowed</th>\n",
       "      <th>Secondary Education</th>\n",
       "      <th>Occupied</th>\n",
       "      <td>1</td>\n",
       "      <td>0</td>\n",
       "      <td>1</td>\n",
       "    </tr>\n",
       "    <tr>\n",
       "      <th>Divorced</th>\n",
       "      <th>Primary Education</th>\n",
       "      <th>Unoccupied</th>\n",
       "      <td>1</td>\n",
       "      <td>0</td>\n",
       "      <td>1</td>\n",
       "    </tr>\n",
       "    <tr>\n",
       "      <th rowspan=\"2\" valign=\"top\">Widowed</th>\n",
       "      <th>Primary Education</th>\n",
       "      <th>Occupied</th>\n",
       "      <td>1</td>\n",
       "      <td>0</td>\n",
       "      <td>1</td>\n",
       "    </tr>\n",
       "    <tr>\n",
       "      <th>Higher Education</th>\n",
       "      <th>Occupied</th>\n",
       "      <td>5</td>\n",
       "      <td>0</td>\n",
       "      <td>5</td>\n",
       "    </tr>\n",
       "    <tr>\n",
       "      <th rowspan=\"3\" valign=\"top\">Centre</th>\n",
       "      <th>Single</th>\n",
       "      <th>Secondary Education</th>\n",
       "      <th>Unoccupied</th>\n",
       "      <td>5</td>\n",
       "      <td>0</td>\n",
       "      <td>5</td>\n",
       "    </tr>\n",
       "    <tr>\n",
       "      <th rowspan=\"2\" valign=\"top\">Widowed</th>\n",
       "      <th>Primary Education</th>\n",
       "      <th>Unoccupied</th>\n",
       "      <td>4</td>\n",
       "      <td>0</td>\n",
       "      <td>4</td>\n",
       "    </tr>\n",
       "    <tr>\n",
       "      <th>Secondary Education</th>\n",
       "      <th>Occupied</th>\n",
       "      <td>3</td>\n",
       "      <td>0</td>\n",
       "      <td>3</td>\n",
       "    </tr>\n",
       "    <tr>\n",
       "      <th>North</th>\n",
       "      <th>Divorced</th>\n",
       "      <th>Higher Education</th>\n",
       "      <th>Occupied</th>\n",
       "      <td>4</td>\n",
       "      <td>0</td>\n",
       "      <td>4</td>\n",
       "    </tr>\n",
       "    <tr>\n",
       "      <th>Centre</th>\n",
       "      <th>Divorced</th>\n",
       "      <th>Higher Education</th>\n",
       "      <th>Occupied</th>\n",
       "      <td>2</td>\n",
       "      <td>0</td>\n",
       "      <td>2</td>\n",
       "    </tr>\n",
       "  </tbody>\n",
       "</table>\n",
       "</div>"
      ],
      "text/plain": [
       "ViolenceOccurred                                                         No  \\\n",
       "AreaOfResidence Marital Status Education level     Professional Status        \n",
       "All                                                                     406   \n",
       "North           Single         Higher Education    Occupied              35   \n",
       "                Married        Higher Education    Occupied              26   \n",
       "Centre          Married        Higher Education    Occupied              21   \n",
       "South           Single         Primary Education   Unoccupied            17   \n",
       "North           Single         Secondary Education Unoccupied             6   \n",
       "Centre          Single         Higher Education    Occupied              23   \n",
       "North           Single         Primary Education   Occupied               4   \n",
       "Centre          Single         Primary Education   Occupied               3   \n",
       "                                                   Unoccupied            15   \n",
       "North           Single         Primary Education   Unoccupied            21   \n",
       "Centre          Widowed        Higher Education    Occupied               4   \n",
       "North           Married        Higher Education    Unoccupied            10   \n",
       "Centre          Single         Higher Education    Unoccupied             7   \n",
       "South           Widowed        Primary Education   Unoccupied             5   \n",
       "                Single         Higher Education    Occupied               4   \n",
       "                Married        Primary Education   Unoccupied            21   \n",
       "North           Divorced       Secondary Education Unoccupied             0   \n",
       "                Married        Secondary Education Occupied               4   \n",
       "                                                   Unoccupied             7   \n",
       "Centre          Married        Primary Education   Unoccupied            13   \n",
       "                                                   Occupied               8   \n",
       "                               Secondary Education Unoccupied             3   \n",
       "                                                   Occupied              11   \n",
       "North           Widowed        Primary Education   Unoccupied             2   \n",
       "                Single         Secondary Education Occupied               9   \n",
       "South           Married        Secondary Education Unoccupied             6   \n",
       "                               Higher Education    Occupied               5   \n",
       "                Divorced       Higher Education    Unoccupied             0   \n",
       "North           Widowed        Secondary Education Unoccupied             1   \n",
       "South           Single         Higher Education    Unoccupied             5   \n",
       "                               Primary Education   Occupied               2   \n",
       "North           Widowed        Higher Education    Unoccupied             0   \n",
       "Centre          Single         Secondary Education Occupied               8   \n",
       "South           Single         Secondary Education Occupied               2   \n",
       "North           Single         Higher Education    Unoccupied            11   \n",
       "Centre          Widowed        Higher Education    Unoccupied             2   \n",
       "                Divorced       Primary Education   Unoccupied             2   \n",
       "South           Single         Secondary Education Unoccupied             5   \n",
       "North           Married        Primary Education   Unoccupied            17   \n",
       "                                                   Occupied               9   \n",
       "Centre          Married        Higher Education    Unoccupied            12   \n",
       "                Widowed        Secondary Education Unoccupied             2   \n",
       "South           Married        Secondary Education Occupied               2   \n",
       "                Widowed        Secondary Education Occupied               1   \n",
       "North           Divorced       Primary Education   Occupied               1   \n",
       "South           Married        Primary Education   Occupied               1   \n",
       "                               Higher Education    Unoccupied             7   \n",
       "North           Widowed        Secondary Education Occupied               1   \n",
       "                Divorced       Primary Education   Unoccupied             1   \n",
       "                Widowed        Primary Education   Occupied               1   \n",
       "                               Higher Education    Occupied               5   \n",
       "Centre          Single         Secondary Education Unoccupied             5   \n",
       "                Widowed        Primary Education   Unoccupied             4   \n",
       "                               Secondary Education Occupied               3   \n",
       "North           Divorced       Higher Education    Occupied               4   \n",
       "Centre          Divorced       Higher Education    Occupied               2   \n",
       "\n",
       "ViolenceOccurred                                                        Yes  \\\n",
       "AreaOfResidence Marital Status Education level     Professional Status        \n",
       "All                                                                      94   \n",
       "North           Single         Higher Education    Occupied               7   \n",
       "                Married        Higher Education    Occupied               6   \n",
       "Centre          Married        Higher Education    Occupied               6   \n",
       "South           Single         Primary Education   Unoccupied             5   \n",
       "North           Single         Secondary Education Unoccupied             4   \n",
       "Centre          Single         Higher Education    Occupied               4   \n",
       "North           Single         Primary Education   Occupied               4   \n",
       "Centre          Single         Primary Education   Occupied               3   \n",
       "                                                   Unoccupied             3   \n",
       "North           Single         Primary Education   Unoccupied             3   \n",
       "Centre          Widowed        Higher Education    Occupied               3   \n",
       "North           Married        Higher Education    Unoccupied             3   \n",
       "Centre          Single         Higher Education    Unoccupied             3   \n",
       "South           Widowed        Primary Education   Unoccupied             2   \n",
       "                Single         Higher Education    Occupied               2   \n",
       "                Married        Primary Education   Unoccupied             2   \n",
       "North           Divorced       Secondary Education Unoccupied             2   \n",
       "                Married        Secondary Education Occupied               2   \n",
       "                                                   Unoccupied             2   \n",
       "Centre          Married        Primary Education   Unoccupied             2   \n",
       "                                                   Occupied               2   \n",
       "                               Secondary Education Unoccupied             2   \n",
       "                                                   Occupied               2   \n",
       "North           Widowed        Primary Education   Unoccupied             1   \n",
       "                Single         Secondary Education Occupied               1   \n",
       "South           Married        Secondary Education Unoccupied             1   \n",
       "                               Higher Education    Occupied               1   \n",
       "                Divorced       Higher Education    Unoccupied             1   \n",
       "North           Widowed        Secondary Education Unoccupied             1   \n",
       "South           Single         Higher Education    Unoccupied             1   \n",
       "                               Primary Education   Occupied               1   \n",
       "North           Widowed        Higher Education    Unoccupied             1   \n",
       "Centre          Single         Secondary Education Occupied               1   \n",
       "South           Single         Secondary Education Occupied               1   \n",
       "North           Single         Higher Education    Unoccupied             1   \n",
       "Centre          Widowed        Higher Education    Unoccupied             1   \n",
       "                Divorced       Primary Education   Unoccupied             1   \n",
       "South           Single         Secondary Education Unoccupied             1   \n",
       "North           Married        Primary Education   Unoccupied             1   \n",
       "                                                   Occupied               1   \n",
       "Centre          Married        Higher Education    Unoccupied             1   \n",
       "                Widowed        Secondary Education Unoccupied             1   \n",
       "South           Married        Secondary Education Occupied               1   \n",
       "                Widowed        Secondary Education Occupied               0   \n",
       "North           Divorced       Primary Education   Occupied               0   \n",
       "South           Married        Primary Education   Occupied               0   \n",
       "                               Higher Education    Unoccupied             0   \n",
       "North           Widowed        Secondary Education Occupied               0   \n",
       "                Divorced       Primary Education   Unoccupied             0   \n",
       "                Widowed        Primary Education   Occupied               0   \n",
       "                               Higher Education    Occupied               0   \n",
       "Centre          Single         Secondary Education Unoccupied             0   \n",
       "                Widowed        Primary Education   Unoccupied             0   \n",
       "                               Secondary Education Occupied               0   \n",
       "North           Divorced       Higher Education    Occupied               0   \n",
       "Centre          Divorced       Higher Education    Occupied               0   \n",
       "\n",
       "ViolenceOccurred                                                        All  \n",
       "AreaOfResidence Marital Status Education level     Professional Status       \n",
       "All                                                                     500  \n",
       "North           Single         Higher Education    Occupied              42  \n",
       "                Married        Higher Education    Occupied              32  \n",
       "Centre          Married        Higher Education    Occupied              27  \n",
       "South           Single         Primary Education   Unoccupied            22  \n",
       "North           Single         Secondary Education Unoccupied            10  \n",
       "Centre          Single         Higher Education    Occupied              27  \n",
       "North           Single         Primary Education   Occupied               8  \n",
       "Centre          Single         Primary Education   Occupied               6  \n",
       "                                                   Unoccupied            18  \n",
       "North           Single         Primary Education   Unoccupied            24  \n",
       "Centre          Widowed        Higher Education    Occupied               7  \n",
       "North           Married        Higher Education    Unoccupied            13  \n",
       "Centre          Single         Higher Education    Unoccupied            10  \n",
       "South           Widowed        Primary Education   Unoccupied             7  \n",
       "                Single         Higher Education    Occupied               6  \n",
       "                Married        Primary Education   Unoccupied            23  \n",
       "North           Divorced       Secondary Education Unoccupied             2  \n",
       "                Married        Secondary Education Occupied               6  \n",
       "                                                   Unoccupied             9  \n",
       "Centre          Married        Primary Education   Unoccupied            15  \n",
       "                                                   Occupied              10  \n",
       "                               Secondary Education Unoccupied             5  \n",
       "                                                   Occupied              13  \n",
       "North           Widowed        Primary Education   Unoccupied             3  \n",
       "                Single         Secondary Education Occupied              10  \n",
       "South           Married        Secondary Education Unoccupied             7  \n",
       "                               Higher Education    Occupied               6  \n",
       "                Divorced       Higher Education    Unoccupied             1  \n",
       "North           Widowed        Secondary Education Unoccupied             2  \n",
       "South           Single         Higher Education    Unoccupied             6  \n",
       "                               Primary Education   Occupied               3  \n",
       "North           Widowed        Higher Education    Unoccupied             1  \n",
       "Centre          Single         Secondary Education Occupied               9  \n",
       "South           Single         Secondary Education Occupied               3  \n",
       "North           Single         Higher Education    Unoccupied            12  \n",
       "Centre          Widowed        Higher Education    Unoccupied             3  \n",
       "                Divorced       Primary Education   Unoccupied             3  \n",
       "South           Single         Secondary Education Unoccupied             6  \n",
       "North           Married        Primary Education   Unoccupied            18  \n",
       "                                                   Occupied              10  \n",
       "Centre          Married        Higher Education    Unoccupied            13  \n",
       "                Widowed        Secondary Education Unoccupied             3  \n",
       "South           Married        Secondary Education Occupied               3  \n",
       "                Widowed        Secondary Education Occupied               1  \n",
       "North           Divorced       Primary Education   Occupied               1  \n",
       "South           Married        Primary Education   Occupied               1  \n",
       "                               Higher Education    Unoccupied             7  \n",
       "North           Widowed        Secondary Education Occupied               1  \n",
       "                Divorced       Primary Education   Unoccupied             1  \n",
       "                Widowed        Primary Education   Occupied               1  \n",
       "                               Higher Education    Occupied               5  \n",
       "Centre          Single         Secondary Education Unoccupied             5  \n",
       "                Widowed        Primary Education   Unoccupied             4  \n",
       "                               Secondary Education Occupied               3  \n",
       "North           Divorced       Higher Education    Occupied               4  \n",
       "Centre          Divorced       Higher Education    Occupied               2  "
      ]
     },
     "execution_count": 983,
     "metadata": {},
     "output_type": "execute_result"
    }
   ],
   "source": [
    "# Sostituisci 'YourDataset' con il nome effettivo della variabile nel tuo codice\n",
    "full_crosstab = pd.crosstab(index=[violence_against_women_dataset['AreaOfResidence'], violence_against_women_dataset['Marital Status'], violence_against_women_dataset['Education level'], violence_against_women_dataset['Professional Status']], \n",
    "                            columns=violence_against_women_dataset['ViolenceOccurred'],\n",
    "                            margins=True)\n",
    "                            \n",
    "# Visualizza la crosstab completa\n",
    "full_crosstab.sort_values(by='Yes', ascending=False)"
   ]
  },
  {
   "cell_type": "markdown",
   "metadata": {},
   "source": [
    "# Conclusion \n",
    "\n",
    "In the above project we have generate a compination of four variable describing a random 500 observation of women in italy. \n",
    "\n",
    "Each observation have been generate keeping into account variables between them with the porpuse to create a dataset that will reproduct an equilibrate distrubtion of 500 women randomly chosen.\n",
    "\n",
    "Finally we have calculate the probability that each woman, due to the combination of each variable, have experienced violnce within 5 years and generate the final variable showing if that specific women had experience violence or not. \n",
    "\n",
    "The result is a dataset that show for women residing in the south, with a lower level of education, no occupation and single or widow with an higher probabaiality to experience physical/sexual violence withing 5 year. \n",
    "\n",
    "The highest absolute value in the dataset, representing women enduring physical or sexual violence by a partner within 5 years, might be associated with a combination of variables that, despite having a lower probability of exposure, holds a higher representation in the dataset. "
   ]
  },
  {
   "cell_type": "markdown",
   "metadata": {},
   "source": []
  }
 ],
 "metadata": {
  "kernelspec": {
   "display_name": "Python 3 (ipykernel)",
   "language": "python",
   "name": "python3"
  },
  "language_info": {
   "codemirror_mode": {
    "name": "ipython",
    "version": 3
   },
   "file_extension": ".py",
   "mimetype": "text/x-python",
   "name": "python",
   "nbconvert_exporter": "python",
   "pygments_lexer": "ipython3",
   "version": "3.11.4"
  }
 },
 "nbformat": 4,
 "nbformat_minor": 2
}
