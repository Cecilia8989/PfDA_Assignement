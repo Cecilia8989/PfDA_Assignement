{
 "cells": [
  {
   "cell_type": "markdown",
   "metadata": {},
   "source": [
    "<h3><center>Programming for Data Analytics - Project 1</center></h3>\n",
    "<h1><center>Fisic and sexual violance against women in italy</center></h1>"
   ]
  },
  {
   "cell_type": "markdown",
   "metadata": {},
   "source": [
    "The purpose of this first part is to determine the percentage of women aged 15 and above with various levels of education devided per area of residence: the North, Central, and Southern regions.\n",
    "\n",
    "The data used for this estimation has been downloaded from the ISTAT website, which is the Italian Institute of Statistics, that leave avaiable to the public several datasets [[]](http://dati.istat.it/?lang=en). The selected dataset, titled \"Population 15 years and over by the highest level of education - previous regulation (until 2020),\" contains information on different levels of education for residents in Italy, reported in thousands, and provides insights into various demographic characteristics.\" \n",
    "\n",
    "\n",
    "    - Import the dataset\n",
    "\n",
    "First we need to import the needed library and the dataset with the numpy read_csv function [[]](https://www.w3schools.com/python/pandas/pandas_csv.asp).\n"
   ]
  },
  {
   "cell_type": "code",
   "execution_count": 29,
   "metadata": {},
   "outputs": [],
   "source": [
    "# import pandas\n",
    "import pandas as pd\n",
    "import numpy as np\n",
    "# read the dataset \n",
    "# https://www.w3schools.com/python/pandas/pandas_csv.asp\n",
    "Education_level_italy = pd.read_csv('DataSet/Instruction_level_italy.csv')"
   ]
  },
  {
   "cell_type": "markdown",
   "metadata": {},
   "source": [
    "    - Data Cleaning\n",
    "\n",
    "It is now important clean and elaborate the dataset to being.\n",
    "\n",
    "First I will check the dataset with the sample() function to investigate what columns we can drop."
   ]
  },
  {
   "cell_type": "code",
   "execution_count": 30,
   "metadata": {},
   "outputs": [
    {
     "data": {
      "text/html": [
       "<div>\n",
       "<style scoped>\n",
       "    .dataframe tbody tr th:only-of-type {\n",
       "        vertical-align: middle;\n",
       "    }\n",
       "\n",
       "    .dataframe tbody tr th {\n",
       "        vertical-align: top;\n",
       "    }\n",
       "\n",
       "    .dataframe thead th {\n",
       "        text-align: right;\n",
       "    }\n",
       "</style>\n",
       "<table border=\"1\" class=\"dataframe\">\n",
       "  <thead>\n",
       "    <tr style=\"text-align: right;\">\n",
       "      <th></th>\n",
       "      <th>ITTER107</th>\n",
       "      <th>Territorio</th>\n",
       "      <th>TIPO_DATO_FOL</th>\n",
       "      <th>Tipo dato</th>\n",
       "      <th>SEXISTAT1</th>\n",
       "      <th>Sesso</th>\n",
       "      <th>ETA1</th>\n",
       "      <th>Classe di età</th>\n",
       "      <th>TITOLO_STUDIO</th>\n",
       "      <th>Titolo di studio</th>\n",
       "      <th>TIME</th>\n",
       "      <th>Seleziona periodo</th>\n",
       "      <th>Value</th>\n",
       "      <th>Flag Codes</th>\n",
       "      <th>Flags</th>\n",
       "    </tr>\n",
       "  </thead>\n",
       "  <tbody>\n",
       "    <tr>\n",
       "      <th>1332</th>\n",
       "      <td>IT</td>\n",
       "      <td>Italia</td>\n",
       "      <td>POP_15</td>\n",
       "      <td>popolazione 15 anni e oltre (migliaia)</td>\n",
       "      <td>1</td>\n",
       "      <td>maschi</td>\n",
       "      <td>Y15-24</td>\n",
       "      <td>15-24 anni</td>\n",
       "      <td>99</td>\n",
       "      <td>totale</td>\n",
       "      <td>2019-Q2</td>\n",
       "      <td>T2-2019</td>\n",
       "      <td>3050.114</td>\n",
       "      <td>NaN</td>\n",
       "      <td>NaN</td>\n",
       "    </tr>\n",
       "    <tr>\n",
       "      <th>3287</th>\n",
       "      <td>ITC</td>\n",
       "      <td>Nord-ovest</td>\n",
       "      <td>POP_15</td>\n",
       "      <td>popolazione 15 anni e oltre (migliaia)</td>\n",
       "      <td>9</td>\n",
       "      <td>totale</td>\n",
       "      <td>Y25-34</td>\n",
       "      <td>25-34 anni</td>\n",
       "      <td>4</td>\n",
       "      <td>licenza di scuola media</td>\n",
       "      <td>2020</td>\n",
       "      <td>2020</td>\n",
       "      <td>342.572</td>\n",
       "      <td>NaN</td>\n",
       "      <td>NaN</td>\n",
       "    </tr>\n",
       "    <tr>\n",
       "      <th>3256</th>\n",
       "      <td>ITC</td>\n",
       "      <td>Nord-ovest</td>\n",
       "      <td>POP_15</td>\n",
       "      <td>popolazione 15 anni e oltre (migliaia)</td>\n",
       "      <td>2</td>\n",
       "      <td>femmine</td>\n",
       "      <td>Y25-34</td>\n",
       "      <td>25-34 anni</td>\n",
       "      <td>11</td>\n",
       "      <td>laurea e post-laurea</td>\n",
       "      <td>2019-Q3</td>\n",
       "      <td>T3-2019</td>\n",
       "      <td>310.392</td>\n",
       "      <td>NaN</td>\n",
       "      <td>NaN</td>\n",
       "    </tr>\n",
       "    <tr>\n",
       "      <th>6966</th>\n",
       "      <td>ITC</td>\n",
       "      <td>Nord-ovest</td>\n",
       "      <td>POP_15</td>\n",
       "      <td>popolazione 15 anni e oltre (migliaia)</td>\n",
       "      <td>9</td>\n",
       "      <td>totale</td>\n",
       "      <td>Y15-64</td>\n",
       "      <td>15-64 anni</td>\n",
       "      <td>5</td>\n",
       "      <td>diploma 2-3 anni (qualifica professionale)</td>\n",
       "      <td>2019-Q2</td>\n",
       "      <td>T2-2019</td>\n",
       "      <td>910.010</td>\n",
       "      <td>NaN</td>\n",
       "      <td>NaN</td>\n",
       "    </tr>\n",
       "    <tr>\n",
       "      <th>7732</th>\n",
       "      <td>ITCD</td>\n",
       "      <td>Nord</td>\n",
       "      <td>POP_15</td>\n",
       "      <td>popolazione 15 anni e oltre (migliaia)</td>\n",
       "      <td>1</td>\n",
       "      <td>maschi</td>\n",
       "      <td>Y35-64</td>\n",
       "      <td>35-64 anni</td>\n",
       "      <td>3</td>\n",
       "      <td>licenza di scuola elementare, nessun titolo di...</td>\n",
       "      <td>2020-Q3</td>\n",
       "      <td>T3-2020</td>\n",
       "      <td>210.159</td>\n",
       "      <td>NaN</td>\n",
       "      <td>NaN</td>\n",
       "    </tr>\n",
       "    <tr>\n",
       "      <th>3626</th>\n",
       "      <td>ITE</td>\n",
       "      <td>Centro</td>\n",
       "      <td>POP_15</td>\n",
       "      <td>popolazione 15 anni e oltre (migliaia)</td>\n",
       "      <td>2</td>\n",
       "      <td>femmine</td>\n",
       "      <td>Y25-34</td>\n",
       "      <td>25-34 anni</td>\n",
       "      <td>99</td>\n",
       "      <td>totale</td>\n",
       "      <td>2019-Q3</td>\n",
       "      <td>T3-2019</td>\n",
       "      <td>616.883</td>\n",
       "      <td>NaN</td>\n",
       "      <td>NaN</td>\n",
       "    </tr>\n",
       "    <tr>\n",
       "      <th>134</th>\n",
       "      <td>IT</td>\n",
       "      <td>Italia</td>\n",
       "      <td>POP_15</td>\n",
       "      <td>popolazione 15 anni e oltre (migliaia)</td>\n",
       "      <td>9</td>\n",
       "      <td>totale</td>\n",
       "      <td>Y_GE15</td>\n",
       "      <td>15 anni e più</td>\n",
       "      <td>4</td>\n",
       "      <td>licenza di scuola media</td>\n",
       "      <td>2019-Q3</td>\n",
       "      <td>T3-2019</td>\n",
       "      <td>16682.956</td>\n",
       "      <td>NaN</td>\n",
       "      <td>NaN</td>\n",
       "    </tr>\n",
       "    <tr>\n",
       "      <th>7360</th>\n",
       "      <td>ITE</td>\n",
       "      <td>Centro</td>\n",
       "      <td>POP_15</td>\n",
       "      <td>popolazione 15 anni e oltre (migliaia)</td>\n",
       "      <td>9</td>\n",
       "      <td>totale</td>\n",
       "      <td>Y15-64</td>\n",
       "      <td>15-64 anni</td>\n",
       "      <td>99</td>\n",
       "      <td>totale</td>\n",
       "      <td>2020-Q2</td>\n",
       "      <td>T2-2020</td>\n",
       "      <td>7566.570</td>\n",
       "      <td>NaN</td>\n",
       "      <td>NaN</td>\n",
       "    </tr>\n",
       "    <tr>\n",
       "      <th>1666</th>\n",
       "      <td>ITC</td>\n",
       "      <td>Nord-ovest</td>\n",
       "      <td>POP_15</td>\n",
       "      <td>popolazione 15 anni e oltre (migliaia)</td>\n",
       "      <td>1</td>\n",
       "      <td>maschi</td>\n",
       "      <td>Y15-24</td>\n",
       "      <td>15-24 anni</td>\n",
       "      <td>5</td>\n",
       "      <td>diploma 2-3 anni (qualifica professionale)</td>\n",
       "      <td>2020-Q2</td>\n",
       "      <td>T2-2020</td>\n",
       "      <td>47.721</td>\n",
       "      <td>NaN</td>\n",
       "      <td>NaN</td>\n",
       "    </tr>\n",
       "    <tr>\n",
       "      <th>3627</th>\n",
       "      <td>ITE</td>\n",
       "      <td>Centro</td>\n",
       "      <td>POP_15</td>\n",
       "      <td>popolazione 15 anni e oltre (migliaia)</td>\n",
       "      <td>2</td>\n",
       "      <td>femmine</td>\n",
       "      <td>Y25-34</td>\n",
       "      <td>25-34 anni</td>\n",
       "      <td>99</td>\n",
       "      <td>totale</td>\n",
       "      <td>2020</td>\n",
       "      <td>2020</td>\n",
       "      <td>606.817</td>\n",
       "      <td>NaN</td>\n",
       "      <td>NaN</td>\n",
       "    </tr>\n",
       "  </tbody>\n",
       "</table>\n",
       "</div>"
      ],
      "text/plain": [
       "     ITTER107  Territorio TIPO_DATO_FOL  \\\n",
       "1332       IT      Italia        POP_15   \n",
       "3287      ITC  Nord-ovest        POP_15   \n",
       "3256      ITC  Nord-ovest        POP_15   \n",
       "6966      ITC  Nord-ovest        POP_15   \n",
       "7732     ITCD        Nord        POP_15   \n",
       "3626      ITE      Centro        POP_15   \n",
       "134        IT      Italia        POP_15   \n",
       "7360      ITE      Centro        POP_15   \n",
       "1666      ITC  Nord-ovest        POP_15   \n",
       "3627      ITE      Centro        POP_15   \n",
       "\n",
       "                                   Tipo dato  SEXISTAT1    Sesso    ETA1  \\\n",
       "1332  popolazione 15 anni e oltre (migliaia)          1   maschi  Y15-24   \n",
       "3287  popolazione 15 anni e oltre (migliaia)          9   totale  Y25-34   \n",
       "3256  popolazione 15 anni e oltre (migliaia)          2  femmine  Y25-34   \n",
       "6966  popolazione 15 anni e oltre (migliaia)          9   totale  Y15-64   \n",
       "7732  popolazione 15 anni e oltre (migliaia)          1   maschi  Y35-64   \n",
       "3626  popolazione 15 anni e oltre (migliaia)          2  femmine  Y25-34   \n",
       "134   popolazione 15 anni e oltre (migliaia)          9   totale  Y_GE15   \n",
       "7360  popolazione 15 anni e oltre (migliaia)          9   totale  Y15-64   \n",
       "1666  popolazione 15 anni e oltre (migliaia)          1   maschi  Y15-24   \n",
       "3627  popolazione 15 anni e oltre (migliaia)          2  femmine  Y25-34   \n",
       "\n",
       "      Classe di età  TITOLO_STUDIO  \\\n",
       "1332     15-24 anni             99   \n",
       "3287     25-34 anni              4   \n",
       "3256     25-34 anni             11   \n",
       "6966     15-64 anni              5   \n",
       "7732     35-64 anni              3   \n",
       "3626     25-34 anni             99   \n",
       "134   15 anni e più              4   \n",
       "7360     15-64 anni             99   \n",
       "1666     15-24 anni              5   \n",
       "3627     25-34 anni             99   \n",
       "\n",
       "                                       Titolo di studio     TIME  \\\n",
       "1332                                             totale  2019-Q2   \n",
       "3287                            licenza di scuola media     2020   \n",
       "3256                               laurea e post-laurea  2019-Q3   \n",
       "6966         diploma 2-3 anni (qualifica professionale)  2019-Q2   \n",
       "7732  licenza di scuola elementare, nessun titolo di...  2020-Q3   \n",
       "3626                                             totale  2019-Q3   \n",
       "134                             licenza di scuola media  2019-Q3   \n",
       "7360                                             totale  2020-Q2   \n",
       "1666         diploma 2-3 anni (qualifica professionale)  2020-Q2   \n",
       "3627                                             totale     2020   \n",
       "\n",
       "     Seleziona periodo      Value  Flag Codes Flags  \n",
       "1332           T2-2019   3050.114         NaN   NaN  \n",
       "3287              2020    342.572         NaN   NaN  \n",
       "3256           T3-2019    310.392         NaN   NaN  \n",
       "6966           T2-2019    910.010         NaN   NaN  \n",
       "7732           T3-2020    210.159         NaN   NaN  \n",
       "3626           T3-2019    616.883         NaN   NaN  \n",
       "134            T3-2019  16682.956         NaN   NaN  \n",
       "7360           T2-2020   7566.570         NaN   NaN  \n",
       "1666           T2-2020     47.721         NaN   NaN  \n",
       "3627              2020    606.817         NaN   NaN  "
      ]
     },
     "execution_count": 30,
     "metadata": {},
     "output_type": "execute_result"
    }
   ],
   "source": [
    "# print first 5 rows  \n",
    "Education_level_italy.sample(10)"
   ]
  },
  {
   "cell_type": "markdown",
   "metadata": {},
   "source": [
    "Upon examining the dataset, I have identified several columns that can be removed because they are not relevant for the analysis or because they contain redundant information.\n",
    "\n",
    "These columns include: ['ITTER107', 'TIPO_DATO_FOL', 'SEXISTAT1', 'Tipo dato', 'ETA1', 'Classe di età', 'TITOLO_STUDIO', 'TIME', 'Flag Codes', 'Flags'].\n",
    "\n",
    "I will use the drop() function with a variable to specify which columns to remove and update the DataFrame accordingly. We can them check the first 5 columns of the dataset with the head() function to see if the removal was successful."
   ]
  },
  {
   "cell_type": "code",
   "execution_count": 31,
   "metadata": {},
   "outputs": [
    {
     "data": {
      "text/html": [
       "<div>\n",
       "<style scoped>\n",
       "    .dataframe tbody tr th:only-of-type {\n",
       "        vertical-align: middle;\n",
       "    }\n",
       "\n",
       "    .dataframe tbody tr th {\n",
       "        vertical-align: top;\n",
       "    }\n",
       "\n",
       "    .dataframe thead th {\n",
       "        text-align: right;\n",
       "    }\n",
       "</style>\n",
       "<table border=\"1\" class=\"dataframe\">\n",
       "  <thead>\n",
       "    <tr style=\"text-align: right;\">\n",
       "      <th></th>\n",
       "      <th>Territorio</th>\n",
       "      <th>Sesso</th>\n",
       "      <th>Titolo di studio</th>\n",
       "      <th>Seleziona periodo</th>\n",
       "      <th>Value</th>\n",
       "    </tr>\n",
       "  </thead>\n",
       "  <tbody>\n",
       "    <tr>\n",
       "      <th>0</th>\n",
       "      <td>Italia</td>\n",
       "      <td>maschi</td>\n",
       "      <td>licenza di scuola elementare, nessun titolo di...</td>\n",
       "      <td>2019</td>\n",
       "      <td>3165.895</td>\n",
       "    </tr>\n",
       "    <tr>\n",
       "      <th>1</th>\n",
       "      <td>Italia</td>\n",
       "      <td>maschi</td>\n",
       "      <td>licenza di scuola elementare, nessun titolo di...</td>\n",
       "      <td>T1-2019</td>\n",
       "      <td>3211.849</td>\n",
       "    </tr>\n",
       "    <tr>\n",
       "      <th>2</th>\n",
       "      <td>Italia</td>\n",
       "      <td>maschi</td>\n",
       "      <td>licenza di scuola elementare, nessun titolo di...</td>\n",
       "      <td>T2-2019</td>\n",
       "      <td>3179.996</td>\n",
       "    </tr>\n",
       "    <tr>\n",
       "      <th>3</th>\n",
       "      <td>Italia</td>\n",
       "      <td>maschi</td>\n",
       "      <td>licenza di scuola elementare, nessun titolo di...</td>\n",
       "      <td>T4-2019</td>\n",
       "      <td>3113.926</td>\n",
       "    </tr>\n",
       "    <tr>\n",
       "      <th>4</th>\n",
       "      <td>Italia</td>\n",
       "      <td>maschi</td>\n",
       "      <td>licenza di scuola elementare, nessun titolo di...</td>\n",
       "      <td>T3-2019</td>\n",
       "      <td>3157.808</td>\n",
       "    </tr>\n",
       "  </tbody>\n",
       "</table>\n",
       "</div>"
      ],
      "text/plain": [
       "  Territorio   Sesso                                   Titolo di studio  \\\n",
       "0     Italia  maschi  licenza di scuola elementare, nessun titolo di...   \n",
       "1     Italia  maschi  licenza di scuola elementare, nessun titolo di...   \n",
       "2     Italia  maschi  licenza di scuola elementare, nessun titolo di...   \n",
       "3     Italia  maschi  licenza di scuola elementare, nessun titolo di...   \n",
       "4     Italia  maschi  licenza di scuola elementare, nessun titolo di...   \n",
       "\n",
       "  Seleziona periodo     Value  \n",
       "0              2019  3165.895  \n",
       "1           T1-2019  3211.849  \n",
       "2           T2-2019  3179.996  \n",
       "3           T4-2019  3113.926  \n",
       "4           T3-2019  3157.808  "
      ]
     },
     "execution_count": 31,
     "metadata": {},
     "output_type": "execute_result"
    }
   ],
   "source": [
    "# List of columns to be removed from the DataFrame\n",
    "columns_to_be_removed = ['ITTER107', 'TIPO_DATO_FOL', 'SEXISTAT1', 'Tipo dato', 'ETA1', 'Classe di età', 'TITOLO_STUDIO', 'TIME', 'Flag Codes', 'Flags']\n",
    "\n",
    "# Remove the specified columns from the 'Instruction_level_italy' DataFrame\n",
    "Education_level_italy = Education_level_italy.drop(columns=columns_to_be_removed)\n",
    "\n",
    "# Display the first few rows of the modified DataFrame\n",
    "Education_level_italy.head()"
   ]
  },
  {
   "cell_type": "markdown",
   "metadata": {},
   "source": [
    "Replace the colum name with a more understandacle meaning for english speaker using The rename() function [[]](https://www.kdnuggets.com/2022/11/4-ways-rename-pandas-columns.html)."
   ]
  },
  {
   "cell_type": "code",
   "execution_count": 32,
   "metadata": {},
   "outputs": [
    {
     "data": {
      "text/plain": [
       "Index(['Region', 'Sex', 'Education Level', 'Year of observation', 'Value'], dtype='object')"
      ]
     },
     "execution_count": 32,
     "metadata": {},
     "output_type": "execute_result"
    }
   ],
   "source": [
    "# Renaming columns in a Pandas DataFrame\n",
    "Education_level_italy.rename(\n",
    "    columns={\"Territorio\": \"Region\", \"Sesso\": \"Sex\", \"Titolo di studio\": \"Education Level\",\"Seleziona periodo\": \"Year of observation\" },\n",
    "    inplace=True\n",
    ")\n",
    "# check the columns name of the dataset \n",
    "Education_level_italy.columns"
   ]
  },
  {
   "cell_type": "markdown",
   "metadata": {},
   "source": [
    "About the colum sex I will need to keep only female row. We can check the unique value with the function Unique()."
   ]
  },
  {
   "cell_type": "code",
   "execution_count": 33,
   "metadata": {},
   "outputs": [
    {
     "data": {
      "text/plain": [
       "array(['maschi', 'femmine', 'totale'], dtype=object)"
      ]
     },
     "execution_count": 33,
     "metadata": {},
     "output_type": "execute_result"
    }
   ],
   "source": [
    "# check the unique value in the column sex\n",
    "Education_level_italy['Sex'].unique()"
   ]
  },
  {
   "cell_type": "markdown",
   "metadata": {},
   "source": [
    "We will use the .loc [[]](https://deallen7.medium.com/using-pandas-loc-and-isin-to-filter-for-a-list-of-values-in-python-a1c862054058) function to select only the row with the specified value \"femmine,\" and then we will update the dataset accordingly. Finally, we will replace \"femmine\" with \"female [[]](https://www.geeksforgeeks.org/python-pandas-dataframe-replace/)."
   ]
  },
  {
   "cell_type": "code",
   "execution_count": 34,
   "metadata": {},
   "outputs": [
    {
     "data": {
      "text/plain": [
       "array(['femmine'], dtype=object)"
      ]
     },
     "execution_count": 34,
     "metadata": {},
     "output_type": "execute_result"
    }
   ],
   "source": [
    "# keep only the rows with value \"femmmine\" in the sex colum\n",
    "Education_level_italy = Education_level_italy.loc[Education_level_italy['Sex'] == 'femmine']\n",
    "# replace \"femmine\" with \"female\"\n",
    "Education_level_italy.replace(to_replace=\"femmine\", value=\"Female\")\n",
    "# check unique value \n",
    "Education_level_italy['Sex'].unique()"
   ]
  },
  {
   "cell_type": "markdown",
   "metadata": {},
   "source": [
    "The 'Region' column, after conducting a unique() analysis, revealed redundant values. \n",
    "'Italy,' 'Nord est,' and 'Nord Ovest' are already encompassed within 'Nord,' 'Centro' (Centre), and 'Mezzogiorno' (South). Consequently, I will remove the unnecessary values and rename the remaining rows for better clarity [[]](https://datatofish.com/replace-values-pandas-dataframe/)."
   ]
  },
  {
   "cell_type": "code",
   "execution_count": 35,
   "metadata": {},
   "outputs": [
    {
     "name": "stdout",
     "output_type": "stream",
     "text": [
      "   Region       Value\n",
      "0  Centre  308497.782\n",
      "1    Nord  701864.224\n",
      "2     Sud  527195.457\n"
     ]
    }
   ],
   "source": [
    "# List of values to be selected from the 'Region' column\n",
    "filter_list = ['Nord-est', 'Nord-ovest', 'Italia']\n",
    "\n",
    "# Filter the DataFrame 'Instruction_level_italy' to exclude rows where 'Territorio' is in the 'filter_list'\n",
    "Education_level_italy = Education_level_italy.loc[~Education_level_italy['Region'].isin(filter_list)]\n",
    "\n",
    "# replace mezzogiorno and centro\n",
    "\n",
    "Education_level_italy['Region'] = Education_level_italy['Region'].replace([\"Mezzogiorno\", \"Centro\"], value=[\"Sud\", \"Centre\"])\n",
    "# check the removal and replacement with the group by function \n",
    "filtered_grouped_data = Education_level_italy.groupby('Region')['Value'].sum().reset_index()\n",
    "print(filtered_grouped_data)"
   ]
  },
  {
   "cell_type": "markdown",
   "metadata": {},
   "source": [
    "Regarding the column \"Year\", after visualising the content, I decide to keep only the more recent observation that refer to the whole 2020."
   ]
  },
  {
   "cell_type": "code",
   "execution_count": 36,
   "metadata": {},
   "outputs": [
    {
     "data": {
      "text/plain": [
       "array(['2020'], dtype=object)"
      ]
     },
     "execution_count": 36,
     "metadata": {},
     "output_type": "execute_result"
    }
   ],
   "source": [
    "# keep only the rows with value \"2020\" in the 'Year of observation' column\n",
    "Education_level_italy = Education_level_italy.loc[Education_level_italy['Year of observation'] == '2020']\n",
    "\n",
    "# check the unique value in the 'Year of observation' column.\n",
    "Education_level_italy['Year of observation'].unique()"
   ]
  },
  {
   "cell_type": "markdown",
   "metadata": {},
   "source": [
    "Finally we will need to elaborate the educational level column. "
   ]
  },
  {
   "cell_type": "code",
   "execution_count": 37,
   "metadata": {},
   "outputs": [
    {
     "data": {
      "text/html": [
       "<div>\n",
       "<style scoped>\n",
       "    .dataframe tbody tr th:only-of-type {\n",
       "        vertical-align: middle;\n",
       "    }\n",
       "\n",
       "    .dataframe tbody tr th {\n",
       "        vertical-align: top;\n",
       "    }\n",
       "\n",
       "    .dataframe thead th {\n",
       "        text-align: right;\n",
       "    }\n",
       "</style>\n",
       "<table border=\"1\" class=\"dataframe\">\n",
       "  <thead>\n",
       "    <tr style=\"text-align: right;\">\n",
       "      <th></th>\n",
       "      <th>Education Level</th>\n",
       "      <th>Value</th>\n",
       "    </tr>\n",
       "  </thead>\n",
       "  <tbody>\n",
       "    <tr>\n",
       "      <th>0</th>\n",
       "      <td>diploma 2-3 anni (qualifica professionale)</td>\n",
       "      <td>4922.835</td>\n",
       "    </tr>\n",
       "    <tr>\n",
       "      <th>1</th>\n",
       "      <td>diploma 4-5 anni (maturità)</td>\n",
       "      <td>30040.453</td>\n",
       "    </tr>\n",
       "    <tr>\n",
       "      <th>2</th>\n",
       "      <td>laurea e post-laurea</td>\n",
       "      <td>16836.009</td>\n",
       "    </tr>\n",
       "    <tr>\n",
       "      <th>3</th>\n",
       "      <td>licenza di scuola elementare, nessun titolo di...</td>\n",
       "      <td>12148.883</td>\n",
       "    </tr>\n",
       "    <tr>\n",
       "      <th>4</th>\n",
       "      <td>licenza di scuola media</td>\n",
       "      <td>28197.382</td>\n",
       "    </tr>\n",
       "    <tr>\n",
       "      <th>5</th>\n",
       "      <td>totale</td>\n",
       "      <td>92145.552</td>\n",
       "    </tr>\n",
       "  </tbody>\n",
       "</table>\n",
       "</div>"
      ],
      "text/plain": [
       "                                     Education Level      Value\n",
       "0         diploma 2-3 anni (qualifica professionale)   4922.835\n",
       "1                        diploma 4-5 anni (maturità)  30040.453\n",
       "2                               laurea e post-laurea  16836.009\n",
       "3  licenza di scuola elementare, nessun titolo di...  12148.883\n",
       "4                            licenza di scuola media  28197.382\n",
       "5                                             totale  92145.552"
      ]
     },
     "execution_count": 37,
     "metadata": {},
     "output_type": "execute_result"
    }
   ],
   "source": [
    "# keep only the rows with value \"2020\" in the 'Year of observation' column\n",
    "Education_level_italy = Education_level_italy.loc[Education_level_italy['Year of observation'] == '2020']\n",
    "\n",
    "# display the unique value using the group by column \n",
    "Education_level_italy.groupby('Education Level')['Value'].sum().reset_index()"
   ]
  },
  {
   "cell_type": "markdown",
   "metadata": {},
   "source": [
    "The columns represent the five different levels of education that can be attained in Italy. However, for this analysis, I intend to categorize them into the following three main levels:\n",
    "\n",
    "- Primary education: Individuals who have completed only primary school education (typically up to 13 years of age).\n",
    "- High school education: Individuals who have successfully completed high school (typically up to 19 years of age).\n",
    "- Higher education: This category encompasses all forms of higher education, including degrees, bachelor's degrees, master's degrees, PhDs, and more.\n",
    "\n",
    "The replace will be done with the pandas metho str.contain [[]](http://pandas.pydata.org/pandas-docs/stable/reference/api/pandas.Series.str.contains.html), [[]](https://stackoverflow.com/questions/39768547/replace-whole-string-if-it-contains-substring-in-pandas)."
   ]
  },
  {
   "cell_type": "code",
   "execution_count": 38,
   "metadata": {},
   "outputs": [],
   "source": [
    "\n",
    "# https://stackoverflow.com/questions/39768547/replace-whole-string-if-it-contains-substring-in-pandas\n",
    "# substitute the value that contain the word \"scuola\" in the education level column with 'Primary education'A\n",
    "Education_level_italy.loc[Education_level_italy['Education Level'].str.contains('scuola'), 'Education Level'] = 'Primary education'\n",
    "\n",
    "# substitute the value that contain the word \"diploma\" in the education level column with 'high school'\n",
    "Education_level_italy.loc[Education_level_italy['Education Level'].str.contains('diploma'), 'Education Level'] = 'High School'\n",
    "\n",
    "# substitute the value that contain the word \"laurea\" in the education level column with 'higher education'\n",
    "Education_level_italy.loc[Education_level_italy['Education Level'].str.contains('laurea'), 'Education Level'] = 'higher education'"
   ]
  },
  {
   "cell_type": "markdown",
   "metadata": {},
   "source": [
    "Then we can remove the 'total' column, as it is redundant, and group the dataset by education level. \n",
    "The removal will be done using the .loc function  [[]](https://www.shanelynn.ie/pandas-drop-delete-dataframe-rows-columns/) which will find all the values that don't match the given date, and the dataset will be updated accordingly."
   ]
  },
  {
   "cell_type": "code",
   "execution_count": 39,
   "metadata": {},
   "outputs": [],
   "source": [
    "# Filter the DataFrame 'Instruction_level_italy' to exclude rows where 'Territorio' is in the 'filter_list'\n",
    "# https://www.shanelynn.ie/pandas-drop-delete-dataframe-rows-columns/\n",
    "Education_level_italy = Education_level_italy.loc[Education_level_italy['Education Level'] != 'totale']\n",
    "\n",
    "# Group by the dataset based on unique value of the column 'Education level'\n",
    "Education_level_italy = Education_level_italy.groupby(['Region', 'Sex', 'Education Level', 'Year of observation'])['Value'].sum().reset_index()"
   ]
  },
  {
   "cell_type": "code",
   "execution_count": 40,
   "metadata": {},
   "outputs": [
    {
     "data": {
      "text/html": [
       "<div>\n",
       "<style scoped>\n",
       "    .dataframe tbody tr th:only-of-type {\n",
       "        vertical-align: middle;\n",
       "    }\n",
       "\n",
       "    .dataframe tbody tr th {\n",
       "        vertical-align: top;\n",
       "    }\n",
       "\n",
       "    .dataframe thead th {\n",
       "        text-align: right;\n",
       "    }\n",
       "</style>\n",
       "<table border=\"1\" class=\"dataframe\">\n",
       "  <thead>\n",
       "    <tr style=\"text-align: right;\">\n",
       "      <th></th>\n",
       "      <th>Region</th>\n",
       "      <th>Sex</th>\n",
       "      <th>Education Level</th>\n",
       "      <th>Year of observation</th>\n",
       "      <th>Value</th>\n",
       "    </tr>\n",
       "  </thead>\n",
       "  <tbody>\n",
       "    <tr>\n",
       "      <th>0</th>\n",
       "      <td>Centre</td>\n",
       "      <td>femmine</td>\n",
       "      <td>High School</td>\n",
       "      <td>2020</td>\n",
       "      <td>7281.301</td>\n",
       "    </tr>\n",
       "    <tr>\n",
       "      <th>1</th>\n",
       "      <td>Centre</td>\n",
       "      <td>femmine</td>\n",
       "      <td>Primary education</td>\n",
       "      <td>2020</td>\n",
       "      <td>7111.766</td>\n",
       "    </tr>\n",
       "    <tr>\n",
       "      <th>2</th>\n",
       "      <td>Centre</td>\n",
       "      <td>femmine</td>\n",
       "      <td>higher education</td>\n",
       "      <td>2020</td>\n",
       "      <td>4066.783</td>\n",
       "    </tr>\n",
       "    <tr>\n",
       "      <th>3</th>\n",
       "      <td>Nord</td>\n",
       "      <td>femmine</td>\n",
       "      <td>High School</td>\n",
       "      <td>2020</td>\n",
       "      <td>16744.704</td>\n",
       "    </tr>\n",
       "    <tr>\n",
       "      <th>4</th>\n",
       "      <td>Nord</td>\n",
       "      <td>femmine</td>\n",
       "      <td>Primary education</td>\n",
       "      <td>2020</td>\n",
       "      <td>17261.569</td>\n",
       "    </tr>\n",
       "    <tr>\n",
       "      <th>5</th>\n",
       "      <td>Nord</td>\n",
       "      <td>femmine</td>\n",
       "      <td>higher education</td>\n",
       "      <td>2020</td>\n",
       "      <td>8039.184</td>\n",
       "    </tr>\n",
       "    <tr>\n",
       "      <th>6</th>\n",
       "      <td>Sud</td>\n",
       "      <td>femmine</td>\n",
       "      <td>High School</td>\n",
       "      <td>2020</td>\n",
       "      <td>10937.283</td>\n",
       "    </tr>\n",
       "    <tr>\n",
       "      <th>7</th>\n",
       "      <td>Sud</td>\n",
       "      <td>femmine</td>\n",
       "      <td>Primary education</td>\n",
       "      <td>2020</td>\n",
       "      <td>15972.930</td>\n",
       "    </tr>\n",
       "    <tr>\n",
       "      <th>8</th>\n",
       "      <td>Sud</td>\n",
       "      <td>femmine</td>\n",
       "      <td>higher education</td>\n",
       "      <td>2020</td>\n",
       "      <td>4730.042</td>\n",
       "    </tr>\n",
       "  </tbody>\n",
       "</table>\n",
       "</div>"
      ],
      "text/plain": [
       "   Region      Sex    Education Level Year of observation      Value\n",
       "0  Centre  femmine        High School                2020   7281.301\n",
       "1  Centre  femmine  Primary education                2020   7111.766\n",
       "2  Centre  femmine   higher education                2020   4066.783\n",
       "3    Nord  femmine        High School                2020  16744.704\n",
       "4    Nord  femmine  Primary education                2020  17261.569\n",
       "5    Nord  femmine   higher education                2020   8039.184\n",
       "6     Sud  femmine        High School                2020  10937.283\n",
       "7     Sud  femmine  Primary education                2020  15972.930\n",
       "8     Sud  femmine   higher education                2020   4730.042"
      ]
     },
     "execution_count": 40,
     "metadata": {},
     "output_type": "execute_result"
    }
   ],
   "source": [
    "Education_level_italy"
   ]
  },
  {
   "cell_type": "code",
   "execution_count": 41,
   "metadata": {},
   "outputs": [
    {
     "data": {
      "text/plain": [
       "array(['Centre', 'Nord', 'Sud'], dtype=object)"
      ]
     },
     "execution_count": 41,
     "metadata": {},
     "output_type": "execute_result"
    }
   ],
   "source": [
    "Education_level_italy['Region'].unique()"
   ]
  },
  {
   "cell_type": "code",
   "execution_count": 43,
   "metadata": {},
   "outputs": [],
   "source": [
    "Tot_Centr_Ed_Level = Education_level_italy.loc[Education_level_italy['Region'] == 'Centre']['Value'].sum()\n",
    "Tot_Sud_Ed_Level = Education_level_italy.loc[Education_level_italy['Region'] == 'Sud']['Value'].sum()\n",
    "Tot_Nord_Ed_Level = Education_level_italy.loc[Education_level_italy['Region'] == 'Sud']['Value'].sum()\n"
   ]
  },
  {
   "cell_type": "code",
   "execution_count": 48,
   "metadata": {},
   "outputs": [
    {
     "ename": "IndentationError",
     "evalue": "unindent does not match any outer indentation level (<tokenize>, line 4)",
     "output_type": "error",
     "traceback": [
      "\u001b[1;36m  File \u001b[1;32m<tokenize>:4\u001b[1;36m\u001b[0m\n\u001b[1;33m    elif row['Region'] == 'Sud':\u001b[0m\n\u001b[1;37m    ^\u001b[0m\n\u001b[1;31mIndentationError\u001b[0m\u001b[1;31m:\u001b[0m unindent does not match any outer indentation level\n"
     ]
    }
   ],
   "source": [
    "def Education_Probability(row):\n",
    "     if row['Region'] == 'Nord':\n",
    "        return Education_level_italy['Region']/Tot_Nord_Ed_Level\n",
    "    elif row['Region'] == 'Sud':\n",
    "        return Education_level_italy['Region']/Tot_Sud_Ed_Level\n",
    "    else:\n",
    "        Education_level_italy['Region']/Tot_Centr_Ed_Level\n",
    "        \n",
    "Education_level_italy = Education_level_italy.assign(Probability=Education_level_italy.apply(Education_Probability, axis=1))"
   ]
  },
  {
   "cell_type": "markdown",
   "metadata": {},
   "source": []
  }
 ],
 "metadata": {
  "kernelspec": {
   "display_name": "Python 3 (ipykernel)",
   "language": "python",
   "name": "python3"
  },
  "language_info": {
   "codemirror_mode": {
    "name": "ipython",
    "version": 3
   },
   "file_extension": ".py",
   "mimetype": "text/x-python",
   "name": "python",
   "nbconvert_exporter": "python",
   "pygments_lexer": "ipython3",
   "version": "3.11.4"
  }
 },
 "nbformat": 4,
 "nbformat_minor": 2
}
